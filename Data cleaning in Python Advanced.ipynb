{
 "cells": [
  {
   "cell_type": "markdown",
   "metadata": {},
   "source": [
    "# Data cleaning in Python Advanced"
   ]
  },
  {
   "cell_type": "markdown",
   "metadata": {},
   "source": [
    "## Regular Expressions Basic"
   ]
  },
  {
   "cell_type": "code",
   "execution_count": 1,
   "metadata": {},
   "outputs": [],
   "source": [
    "import pandas as pd\n",
    "hn = pd.read_csv('hacker_news.csv')"
   ]
  },
  {
   "cell_type": "code",
   "execution_count": 2,
   "metadata": {},
   "outputs": [
    {
     "data": {
      "text/html": [
       "<div>\n",
       "<style scoped>\n",
       "    .dataframe tbody tr th:only-of-type {\n",
       "        vertical-align: middle;\n",
       "    }\n",
       "\n",
       "    .dataframe tbody tr th {\n",
       "        vertical-align: top;\n",
       "    }\n",
       "\n",
       "    .dataframe thead th {\n",
       "        text-align: right;\n",
       "    }\n",
       "</style>\n",
       "<table border=\"1\" class=\"dataframe\">\n",
       "  <thead>\n",
       "    <tr style=\"text-align: right;\">\n",
       "      <th></th>\n",
       "      <th>id</th>\n",
       "      <th>title</th>\n",
       "      <th>url</th>\n",
       "      <th>num_points</th>\n",
       "      <th>num_comments</th>\n",
       "      <th>author</th>\n",
       "      <th>created_at</th>\n",
       "    </tr>\n",
       "  </thead>\n",
       "  <tbody>\n",
       "    <tr>\n",
       "      <th>0</th>\n",
       "      <td>12224879</td>\n",
       "      <td>Interactive Dynamic Video</td>\n",
       "      <td>http://www.interactivedynamicvideo.com/</td>\n",
       "      <td>386</td>\n",
       "      <td>52</td>\n",
       "      <td>ne0phyte</td>\n",
       "      <td>8/4/2016 11:52</td>\n",
       "    </tr>\n",
       "    <tr>\n",
       "      <th>1</th>\n",
       "      <td>11964716</td>\n",
       "      <td>Florida DJs May Face Felony for April Fools' W...</td>\n",
       "      <td>http://www.thewire.com/entertainment/2013/04/f...</td>\n",
       "      <td>2</td>\n",
       "      <td>1</td>\n",
       "      <td>vezycash</td>\n",
       "      <td>6/23/2016 22:20</td>\n",
       "    </tr>\n",
       "    <tr>\n",
       "      <th>2</th>\n",
       "      <td>11919867</td>\n",
       "      <td>Technology ventures: From Idea to Enterprise</td>\n",
       "      <td>https://www.amazon.com/Technology-Ventures-Ent...</td>\n",
       "      <td>3</td>\n",
       "      <td>1</td>\n",
       "      <td>hswarna</td>\n",
       "      <td>6/17/2016 0:01</td>\n",
       "    </tr>\n",
       "    <tr>\n",
       "      <th>3</th>\n",
       "      <td>10301696</td>\n",
       "      <td>Note by Note: The Making of Steinway L1037 (2007)</td>\n",
       "      <td>http://www.nytimes.com/2007/11/07/movies/07ste...</td>\n",
       "      <td>8</td>\n",
       "      <td>2</td>\n",
       "      <td>walterbell</td>\n",
       "      <td>9/30/2015 4:12</td>\n",
       "    </tr>\n",
       "    <tr>\n",
       "      <th>4</th>\n",
       "      <td>10482257</td>\n",
       "      <td>Title II kills investment? Comcast and other I...</td>\n",
       "      <td>http://arstechnica.com/business/2015/10/comcas...</td>\n",
       "      <td>53</td>\n",
       "      <td>22</td>\n",
       "      <td>Deinos</td>\n",
       "      <td>10/31/2015 9:48</td>\n",
       "    </tr>\n",
       "    <tr>\n",
       "      <th>5</th>\n",
       "      <td>10557283</td>\n",
       "      <td>Nuts and Bolts Business Advice</td>\n",
       "      <td>NaN</td>\n",
       "      <td>3</td>\n",
       "      <td>4</td>\n",
       "      <td>shomberj</td>\n",
       "      <td>11/13/2015 0:45</td>\n",
       "    </tr>\n",
       "    <tr>\n",
       "      <th>6</th>\n",
       "      <td>12296411</td>\n",
       "      <td>Ask HN: How to improve my personal website?</td>\n",
       "      <td>NaN</td>\n",
       "      <td>2</td>\n",
       "      <td>6</td>\n",
       "      <td>ahmedbaracat</td>\n",
       "      <td>8/16/2016 9:55</td>\n",
       "    </tr>\n",
       "    <tr>\n",
       "      <th>7</th>\n",
       "      <td>11337617</td>\n",
       "      <td>Shims, Jigs and Other Woodworking Concepts to ...</td>\n",
       "      <td>http://firstround.com/review/shims-jigs-and-ot...</td>\n",
       "      <td>34</td>\n",
       "      <td>7</td>\n",
       "      <td>zt</td>\n",
       "      <td>3/22/2016 16:18</td>\n",
       "    </tr>\n",
       "    <tr>\n",
       "      <th>8</th>\n",
       "      <td>10379326</td>\n",
       "      <td>That self-appendectomy</td>\n",
       "      <td>http://www.southpolestation.com/trivia/igy1/ap...</td>\n",
       "      <td>91</td>\n",
       "      <td>10</td>\n",
       "      <td>jimsojim</td>\n",
       "      <td>10/13/2015 9:30</td>\n",
       "    </tr>\n",
       "    <tr>\n",
       "      <th>9</th>\n",
       "      <td>11370829</td>\n",
       "      <td>Crate raises $4M seed round for its next-gen S...</td>\n",
       "      <td>http://techcrunch.com/2016/03/15/crate-raises-...</td>\n",
       "      <td>3</td>\n",
       "      <td>1</td>\n",
       "      <td>hitekker</td>\n",
       "      <td>3/27/2016 18:08</td>\n",
       "    </tr>\n",
       "  </tbody>\n",
       "</table>\n",
       "</div>"
      ],
      "text/plain": [
       "         id                                              title  \\\n",
       "0  12224879                          Interactive Dynamic Video   \n",
       "1  11964716  Florida DJs May Face Felony for April Fools' W...   \n",
       "2  11919867       Technology ventures: From Idea to Enterprise   \n",
       "3  10301696  Note by Note: The Making of Steinway L1037 (2007)   \n",
       "4  10482257  Title II kills investment? Comcast and other I...   \n",
       "5  10557283                     Nuts and Bolts Business Advice   \n",
       "6  12296411        Ask HN: How to improve my personal website?   \n",
       "7  11337617  Shims, Jigs and Other Woodworking Concepts to ...   \n",
       "8  10379326                             That self-appendectomy   \n",
       "9  11370829  Crate raises $4M seed round for its next-gen S...   \n",
       "\n",
       "                                                 url  num_points  \\\n",
       "0            http://www.interactivedynamicvideo.com/         386   \n",
       "1  http://www.thewire.com/entertainment/2013/04/f...           2   \n",
       "2  https://www.amazon.com/Technology-Ventures-Ent...           3   \n",
       "3  http://www.nytimes.com/2007/11/07/movies/07ste...           8   \n",
       "4  http://arstechnica.com/business/2015/10/comcas...          53   \n",
       "5                                                NaN           3   \n",
       "6                                                NaN           2   \n",
       "7  http://firstround.com/review/shims-jigs-and-ot...          34   \n",
       "8  http://www.southpolestation.com/trivia/igy1/ap...          91   \n",
       "9  http://techcrunch.com/2016/03/15/crate-raises-...           3   \n",
       "\n",
       "   num_comments        author       created_at  \n",
       "0            52      ne0phyte   8/4/2016 11:52  \n",
       "1             1      vezycash  6/23/2016 22:20  \n",
       "2             1       hswarna   6/17/2016 0:01  \n",
       "3             2    walterbell   9/30/2015 4:12  \n",
       "4            22        Deinos  10/31/2015 9:48  \n",
       "5             4      shomberj  11/13/2015 0:45  \n",
       "6             6  ahmedbaracat   8/16/2016 9:55  \n",
       "7             7            zt  3/22/2016 16:18  \n",
       "8            10      jimsojim  10/13/2015 9:30  \n",
       "9             1      hitekker  3/27/2016 18:08  "
      ]
     },
     "execution_count": 2,
     "metadata": {},
     "output_type": "execute_result"
    }
   ],
   "source": [
    "hn.head(10)"
   ]
  },
  {
   "cell_type": "markdown",
   "metadata": {},
   "source": [
    "Ver cuántas veces se menciona Python o python en los títulos de artículos de Hacker News"
   ]
  },
  {
   "cell_type": "code",
   "execution_count": 3,
   "metadata": {},
   "outputs": [
    {
     "name": "stdout",
     "output_type": "stream",
     "text": [
      "160\n"
     ]
    }
   ],
   "source": [
    "import re\n",
    "\n",
    "titles = hn[\"title\"].tolist()\n",
    "\n",
    "python_mentions = 0\n",
    "\n",
    "pattern = '[Pp]ython'\n",
    "\n",
    "for title in titles:\n",
    "    if re.search(pattern, title):\n",
    "        python_mentions += 1\n",
    "print(python_mentions)"
   ]
  },
  {
   "cell_type": "markdown",
   "metadata": {},
   "source": [
    "Es mejor utilizar métodos vectorizados en pandas .srt."
   ]
  },
  {
   "cell_type": "code",
   "execution_count": 4,
   "metadata": {},
   "outputs": [
    {
     "name": "stdout",
     "output_type": "stream",
     "text": [
      "160\n"
     ]
    }
   ],
   "source": [
    "pattern = '[Pp]ython'\n",
    "\n",
    "titles = hn['title']\n",
    "\n",
    "python_mentions =  titles.str.contains(pattern).sum()\n",
    "print(python_mentions)"
   ]
  },
  {
   "cell_type": "markdown",
   "metadata": {},
   "source": [
    "Los títulos de los artículos que contienen ruby o Ruby"
   ]
  },
  {
   "cell_type": "code",
   "execution_count": 5,
   "metadata": {},
   "outputs": [
    {
     "name": "stdout",
     "output_type": "stream",
     "text": [
      "190                     Ruby on Google AppEngine Goes Beta\n",
      "484           Related: Pure Ruby Relational Algebra Engine\n",
      "1388     Show HN: HTTPalooza  Ruby's greatest HTTP clie...\n",
      "1949     Rewriting a Ruby C Extension in Rust: How a Na...\n",
      "2022     Show HN: CrashBreak  Reproduce exceptions as f...\n",
      "2163                   Ruby 2.3 Is Only 4% Faster than 2.2\n",
      "2306     Websocket Shootout: Clojure, C++, Elixir, Go, ...\n",
      "2620                       Why Startups Use Ruby on Rails?\n",
      "2645     Ask HN: Should I continue working a Ruby gem f...\n",
      "3290     Ruby on Rails and the importance of being stup...\n",
      "3749     Telegram.org Bot Platform Webhooks Server, for...\n",
      "3874     Warp Directory (wd) unix command line tool for...\n",
      "4026     OS X 10.11 Ruby / Rails users can install ther...\n",
      "4163     Charles Nutter of JRuby Banned by Rubinius for...\n",
      "4602     Quiz: Ruby or Rails? Matz and DHH were not abl...\n",
      "5832     Show HN: An experimental Python to C#/Go/Ruby/...\n",
      "6180     Shrine  A new solution for handling file uploa...\n",
      "7171     JRuby+Truffle: Why its important to optimise t...\n",
      "7235                                        Ruby or Rails?\n",
      "7671                    How I hunted the most odd ruby bug\n",
      "7776     Elixir obsoletes Ruby, Erlang and Clojure in o...\n",
      "7870                            Elixir and Ruby Comparison\n",
      "8502     Show HN: Di-ary  a math note-taking app built ...\n",
      "10212               Ruby has been fast enough for 13 years\n",
      "11060    Show HN: VeryAnts: Probabilistic Integer Arith...\n",
      "11534                             The Ruby Code of Conduct\n",
      "11622    FasterPath: Faster Pathname Handling for Ruby ...\n",
      "12061       Ask HN: What's your favorite ruby HTTP client?\n",
      "12091    Show HN: Automated Bundle Update with Descript...\n",
      "12114                                         Awesome Ruby\n",
      "12543    Ruby Bug: SecureRandom should try /dev/urandom...\n",
      "12987    Show HN: Klipse  code evaluator pluggable on a...\n",
      "13550    Matz: I cannot accept the CoC for the Ruby com...\n",
      "13650                  Programs that rewrite Ruby programs\n",
      "14798                  Ruby Wrapper for Telegram's Bot API\n",
      "14980                    A Ruby gem for genetic algorithms\n",
      "16093                          Master Ruby Web APIs Is Out\n",
      "16149         Ruru: native Ruby extensions written in Rust\n",
      "16327                   Make Ruby Great Again [transcript]\n",
      "16422                                 Object Oriented Ruby\n",
      "16536                           Ruby Deoptimization Engine\n",
      "16875                         Video: Make Ruby Great Again\n",
      "17072    A coupon/deals site built using Roda gem for Ruby\n",
      "17510                        Table Flip on Ruby Exceptions\n",
      "18877    Using Rust with Ruby, a Deep Dive with Yehuda ...\n",
      "19077                           Python is Better than Ruby\n",
      "19224                    Modern concurrency tools for Ruby\n",
      "19743    Using a Neural Network to Train a Ruby Twitter...\n",
      "Name: title, dtype: object\n"
     ]
    }
   ],
   "source": [
    "titles = hn['title']\n",
    "\n",
    "ruby_titles = titles[titles.str.contains('[Rr]uby')]\n",
    "print(ruby_titles)"
   ]
  },
  {
   "cell_type": "markdown",
   "metadata": {},
   "source": [
    "### Quantifiers"
   ]
  },
  {
   "cell_type": "markdown",
   "metadata": {},
   "source": [
    "![title](imagenes/quantifiers.png)"
   ]
  },
  {
   "cell_type": "markdown",
   "metadata": {},
   "source": [
    "![title](imagenes/quantifiers_regex.png)"
   ]
  },
  {
   "cell_type": "code",
   "execution_count": 6,
   "metadata": {},
   "outputs": [
    {
     "name": "stdout",
     "output_type": "stream",
     "text": [
      "119      Show HN: Send an email from your shell to your...\n",
      "313          Disposable emails for safe spam free shopping\n",
      "1361     Ask HN: Doing cold emails? helps us prove this...\n",
      "1750     Protect yourself from spam, bots and phishing ...\n",
      "2421                    Ashley Madison hack treating email\n",
      "                               ...                        \n",
      "18098    House panel looking into Reddit post about Cli...\n",
      "18583    Mailgen  Generates clean, responsive HTML for ...\n",
      "18847    Show HN: Crisp iOS keyboard for email and text...\n",
      "19303    Ask HN: Why big email providers don't sign the...\n",
      "19446    Tell HN: Secure email provider Riseup will run...\n",
      "Name: title, Length: 86, dtype: object\n"
     ]
    }
   ],
   "source": [
    "email_bool = titles.str.contains('e-?mail')\n",
    "\n",
    "email_count = email_bool.sum()\n",
    "\n",
    "email_titles = titles[email_bool]\n",
    "\n",
    "print(email_titles)"
   ]
  },
  {
   "cell_type": "markdown",
   "metadata": {},
   "source": [
    "### Character classes\n",
    "Permite buscar patrones por clases de caracteres: Números, letras, mayúsculas, minúsculas,.."
   ]
  },
  {
   "cell_type": "markdown",
   "metadata": {},
   "source": [
    "- We can use a backslash to escape characters that have special meaning in regular expressions (e.g. \\ will match an open bracket character).\n",
    "\n",
    "- Character classes let us match certain groups of characters (e.g. \\w will match any word character).\n",
    "\n",
    "- Character classes can be combined with quantifiers when we want to match different numbers of characters."
   ]
  },
  {
   "cell_type": "markdown",
   "metadata": {},
   "source": [
    "![title](imagenes/character_classes.png)"
   ]
  },
  {
   "cell_type": "markdown",
   "metadata": {},
   "source": [
    "![title](imagenes/character_classes_2.png)"
   ]
  },
  {
   "cell_type": "markdown",
   "metadata": {},
   "source": [
    "vemos qué títulos tienen \"tags\", que son palabras entre corchetes [pdf],[video] etc.."
   ]
  },
  {
   "cell_type": "code",
   "execution_count": 7,
   "metadata": {},
   "outputs": [
    {
     "name": "stdout",
     "output_type": "stream",
     "text": [
      "66       Analysis of 114 propaganda sources from ISIS, ...\n",
      "100      Munich Gunman Got Weapon from the Darknet [Ger...\n",
      "159           File indexing and searching for Plan 9 [pdf]\n",
      "162      Attack on Kunduz Trauma Centre, Afghanistan  I...\n",
      "195                 [Beta] Speedtest.net  HTML5 Speed Test\n",
      "                               ...                        \n",
      "19763    TSA can now force you to go through body scann...\n",
      "19867                       Using Pony for Fintech [video]\n",
      "19947                                Swift Reversing [pdf]\n",
      "19979    WSJ/Dowjones Announce Unauthorized Access Betw...\n",
      "20089    Users Really Do Plug in USB Drives They Find [...\n",
      "Name: title, Length: 444, dtype: object\n",
      "444\n"
     ]
    }
   ],
   "source": [
    "pattern = '\\[\\w{1,}\\]'\n",
    "# pattern = '\\[\\w+\\]' # es lo  mismo\n",
    "\n",
    "tag_titles = titles[titles.str.contains(pattern)]\n",
    "tag_count = tag_titles.shape[0]\n",
    "\n",
    "print(tag_titles)\n",
    "print(tag_count)"
   ]
  },
  {
   "cell_type": "markdown",
   "metadata": {},
   "source": [
    "### Capture groups\n",
    "\n",
    "Cuando ponemos un \\ con un caracter estamos utilizando secuencias de escape y puede ser difícil buscar strings que ya tienen \\, se puede poner \\\\ pero es mejor utilizar **raw strings**\n",
    "\n",
    "Capture groups allow us to specify one or more groups within our match that we can access separately."
   ]
  },
  {
   "cell_type": "markdown",
   "metadata": {},
   "source": [
    "Lo que se ponga entre paréntesis es el capture group y es lo que extrae"
   ]
  },
  {
   "cell_type": "code",
   "execution_count": 8,
   "metadata": {},
   "outputs": [
    {
     "name": "stdout",
     "output_type": "stream",
     "text": [
      "pdf            276\n",
      "video          111\n",
      "audio            3\n",
      "2015             3\n",
      "2014             2\n",
      "beta             2\n",
      "slides           2\n",
      "Live             1\n",
      "viz              1\n",
      "GOST             1\n",
      "1996             1\n",
      "Excerpt          1\n",
      "SPA              1\n",
      "survey           1\n",
      "Skinnywhale      1\n",
      "CSS              1\n",
      "NSFW             1\n",
      "transcript       1\n",
      "satire           1\n",
      "Petition         1\n",
      "Python           1\n",
      "Beta             1\n",
      "JavaScript       1\n",
      "German           1\n",
      "HBR              1\n",
      "song             1\n",
      "Australian       1\n",
      "React            1\n",
      "updated          1\n",
      "5                1\n",
      "comic            1\n",
      "gif              1\n",
      "detainee         1\n",
      "Videos           1\n",
      "repost           1\n",
      "ANNOUNCE         1\n",
      "videos           1\n",
      "Ubuntu           1\n",
      "SpaceX           1\n",
      "Map              1\n",
      "png              1\n",
      "map              1\n",
      "Challenge        1\n",
      "coffee           1\n",
      "2008             1\n",
      "ask              1\n",
      "USA              1\n",
      "Infograph        1\n",
      "Benchmark        1\n",
      "much             1\n",
      "blank            1\n",
      "crash            1\n",
      "Name: title, dtype: int64\n"
     ]
    }
   ],
   "source": [
    "pattern = r\"\\[(\\w+)\\]\"\n",
    "\n",
    "# Si no se pone expand = False, devuelve un DataFrame en vez de un Series y value_counts da error\n",
    "tag_freq = titles.str.extract(pattern, expand = False).value_counts()\n",
    "print(tag_freq)"
   ]
  },
  {
   "cell_type": "code",
   "execution_count": 9,
   "metadata": {},
   "outputs": [
    {
     "name": "stdout",
     "output_type": "stream",
     "text": [
      "[pdf]            276\n",
      "[video]          111\n",
      "[2015]             3\n",
      "[audio]            3\n",
      "[slides]           2\n",
      "[2014]             2\n",
      "[beta]             2\n",
      "[Excerpt]          1\n",
      "[HBR]              1\n",
      "[song]             1\n",
      "[updated]          1\n",
      "[coffee]           1\n",
      "[2008]             1\n",
      "[transcript]       1\n",
      "[Beta]             1\n",
      "[SpaceX]           1\n",
      "[blank]            1\n",
      "[comic]            1\n",
      "[survey]           1\n",
      "[SPA]              1\n",
      "[videos]           1\n",
      "[Infograph]        1\n",
      "[satire]           1\n",
      "[CSS]              1\n",
      "[German]           1\n",
      "[Videos]           1\n",
      "[Petition]         1\n",
      "[much]             1\n",
      "[detainee]         1\n",
      "[Australian]       1\n",
      "[ANNOUNCE]         1\n",
      "[JavaScript]       1\n",
      "[5]                1\n",
      "[gif]              1\n",
      "[Benchmark]        1\n",
      "[USA]              1\n",
      "[Map]              1\n",
      "[png]              1\n",
      "[1996]             1\n",
      "[Python]           1\n",
      "[React]            1\n",
      "[repost]           1\n",
      "[Challenge]        1\n",
      "[GOST]             1\n",
      "[Skinnywhale]      1\n",
      "[viz]              1\n",
      "[map]              1\n",
      "[crash]            1\n",
      "[Ubuntu]           1\n",
      "[NSFW]             1\n",
      "[ask]              1\n",
      "[Live]             1\n",
      "Name: title, dtype: int64\n"
     ]
    }
   ],
   "source": [
    "pattern = r\"(\\[\\w+\\])\"\n",
    "\n",
    "# Si no se pone expand = False, devuelve un DataFrame en vez de un Series y value_counts da error\n",
    "tag_freq = titles.str.extract(pattern, expand = False).value_counts()\n",
    "print(tag_freq)"
   ]
  },
  {
   "cell_type": "markdown",
   "metadata": {},
   "source": [
    "### Negative Character classes\n",
    "Para hacer patrones más complejos.\n",
    "One way to do this is by using negative character classes. Negative character classes are character classes that match every character except a character class.\n",
    "\n",
    "Es útil utilizar herramientas como https://regexr.com/"
   ]
  },
  {
   "cell_type": "markdown",
   "metadata": {},
   "source": [
    "![title](imagenes/negative_character_classes.png)"
   ]
  },
  {
   "cell_type": "markdown",
   "metadata": {},
   "source": [
    "Por ejemplo si queremos los títulos con java o Java pero no los que tengan Jjavascript"
   ]
  },
  {
   "cell_type": "code",
   "execution_count": 10,
   "metadata": {},
   "outputs": [
    {
     "name": "stdout",
     "output_type": "stream",
     "text": [
      "436     Unikernel Power Comes to Java, Node.js, Go, an...\n",
      "811     Ask HN: Are there any projects or compilers wh...\n",
      "1840                    Adopting RxJava on the Airbnb App\n",
      "1972          Node.js vs. Java: Which Is Faster for APIs?\n",
      "2093                    Java EE and Microservices in 2016\n",
      "2367    Code that is valid in both PHP and Java, and p...\n",
      "2493    Ask HN: I've been a java dev for a couple of y...\n",
      "2751                Eventsourcing for Java 0.4.0 released\n",
      "2910                2016 JavaOne Intel Keynote  32mn Talk\n",
      "3452    What are the Differences Between Java Platform...\n",
      "Name: title, dtype: object\n"
     ]
    }
   ],
   "source": [
    "def first_10_matches(pattern):\n",
    "    \"\"\"\n",
    "    Return the first 10 story titles that match\n",
    "    the provided regular expression\n",
    "    \"\"\"\n",
    "    all_matches = titles[titles.str.contains(pattern)]\n",
    "    first_10 = all_matches.head(10)\n",
    "    return first_10\n",
    "\n",
    "\n",
    "pattern = r'[Jj]ava[^Ss]'\n",
    "\n",
    "print(first_10_matches(pattern))\n"
   ]
  },
  {
   "cell_type": "code",
   "execution_count": 11,
   "metadata": {},
   "outputs": [],
   "source": [
    "\n",
    "java_titles = titles[titles.str.contains(pattern)]"
   ]
  },
  {
   "cell_type": "markdown",
   "metadata": {},
   "source": [
    "### Word boundaries"
   ]
  },
  {
   "cell_type": "markdown",
   "metadata": {},
   "source": [
    "En el ejemplo anterior si un título acaba con Java o java tampoco cumpliría la regex y no se incluiría en la lista.\n",
    "\n",
    "Para esto son útiles los límites de word **\\b**\n",
    "\n",
    "word boundary anchor matches the space between a word character and a non-word character. More generally in regular expressions, an anchor matches something that isn't a character, as opposed to character classes which match specific characters."
   ]
  },
  {
   "cell_type": "markdown",
   "metadata": {},
   "source": [
    "![title](imagenes/word_boundary_anchor.png)"
   ]
  },
  {
   "cell_type": "code",
   "execution_count": 12,
   "metadata": {},
   "outputs": [
    {
     "name": "stdout",
     "output_type": "stream",
     "text": [
      "436     Unikernel Power Comes to Java, Node.js, Go, an...\n",
      "811     Ask HN: Are there any projects or compilers wh...\n",
      "1023                         Pippo  Web framework in Java\n",
      "1972          Node.js vs. Java: Which Is Faster for APIs?\n",
      "2093                    Java EE and Microservices in 2016\n",
      "2367    Code that is valid in both PHP and Java, and p...\n",
      "2493    Ask HN: I've been a java dev for a couple of y...\n",
      "2751                Eventsourcing for Java 0.4.0 released\n",
      "3228                              Comparing Rust and Java\n",
      "3452    What are the Differences Between Java Platform...\n",
      "Name: title, dtype: object\n"
     ]
    }
   ],
   "source": [
    "pattern = r'\\b[Jj]ava\\b'\n",
    "\n",
    "print(first_10_matches(pattern))\n",
    "\n",
    "java_titles = titles[titles.str.contains(pattern)]"
   ]
  },
  {
   "cell_type": "markdown",
   "metadata": {},
   "source": [
    "### Anchors\n",
    "\n",
    "An anchor matches something that isn't a character, as opposed to character classes which match specific characters."
   ]
  },
  {
   "cell_type": "markdown",
   "metadata": {},
   "source": [
    "![title](imagenes/beg_end_anchors.png)"
   ]
  },
  {
   "cell_type": "markdown",
   "metadata": {},
   "source": [
    "Note that the ^ character is used both as a beginning anchor and to indicate a negative set, depending on whether the character preceding it is a [ or not."
   ]
  },
  {
   "cell_type": "markdown",
   "metadata": {},
   "source": [
    "ver si los títulos de los artículos empiezan o terminan con tags []"
   ]
  },
  {
   "cell_type": "code",
   "execution_count": 13,
   "metadata": {},
   "outputs": [
    {
     "name": "stdout",
     "output_type": "stream",
     "text": [
      "15\n",
      "417\n"
     ]
    }
   ],
   "source": [
    "beginning_count = titles[titles.str.contains(r'^\\[\\w+\\]')].shape[0]\n",
    "print(beginning_count)\n",
    "\n",
    "ending_count = titles[titles.str.contains(r'\\[\\w+\\]$')].shape[0]\n",
    "print(ending_count)"
   ]
  },
  {
   "cell_type": "markdown",
   "metadata": {},
   "source": [
    "### Flags\n",
    "\n",
    "We can use flags to specify that our regular expression should ignore case.\n",
    "\n",
    "Both re.search() and the pandas regular expression methods accept an optional flags argument. This argument accepts one or more flags, which are special variables in the re module that modify the behavior of the regex interpreter.\n",
    "\n",
    "A list of all available flags is in the documentation, but by far the most common and the most useful is the re.IGNORECASE flag, which is also available using the alias re.I for convenience."
   ]
  },
  {
   "cell_type": "code",
   "execution_count": 14,
   "metadata": {},
   "outputs": [
    {
     "name": "stdout",
     "output_type": "stream",
     "text": [
      "12\n",
      "141\n"
     ]
    }
   ],
   "source": [
    "import re\n",
    "\n",
    "email_tests = pd.Series(['email', 'Email', 'e Mail', 'e mail', 'E-mail',\n",
    "              'e-mail', 'eMail', 'E-Mail', 'EMAIL', 'emails', 'Emails',\n",
    "              'E-Mails'])\n",
    "print(email_tests.str.contains(r'\\be[\\-\\s]?mails?\\b', flags =re.I).sum())\n",
    "\n",
    "email_mentions = titles.str.contains(r'\\be[\\-\\s]?mails?\\b', flags =re.I).sum()\n",
    "print(email_mentions)"
   ]
  },
  {
   "cell_type": "markdown",
   "metadata": {},
   "source": [
    "## Advanced Regular Expressions"
   ]
  },
  {
   "cell_type": "markdown",
   "metadata": {},
   "source": [
    "### Flags"
   ]
  },
  {
   "cell_type": "markdown",
   "metadata": {},
   "source": [
    "Para no poner cosas como **pattern = r\"[Ss][Qq][Ll]\"** se puede usar la flag Ignorecase re.Ignorecase ó re.I"
   ]
  },
  {
   "cell_type": "code",
   "execution_count": 15,
   "metadata": {},
   "outputs": [
    {
     "name": "stdout",
     "output_type": "stream",
     "text": [
      "108\n"
     ]
    }
   ],
   "source": [
    "import pandas as pd\n",
    "import re\n",
    "\n",
    "hn = pd.read_csv(\"hacker_news.csv\")\n",
    "titles = hn['title']\n",
    "# In our dataset, the SQL language has three different capitalizations: SQL, sql, and Sql.\n",
    "sql_counts = titles.str.contains(r'sql', flags = re.I).sum()\n",
    "print(sql_counts)"
   ]
  },
  {
   "cell_type": "markdown",
   "metadata": {},
   "source": [
    "Podemos extraer los flavors de sql, ya que en general sql viene precedido por una palabra (flavor)"
   ]
  },
  {
   "cell_type": "code",
   "execution_count": 16,
   "metadata": {},
   "outputs": [],
   "source": [
    "hn_sql = hn[hn['title'].str.contains(r\"\\w+SQL\", flags=re.I)].copy()\n",
    "\n",
    "hn_sql['flavor'] = hn['title'].str.extract(r\"(\\w+SQL)\", flags=re.I, expand = False).str.lower()\n",
    "# Si no pongo expand= false, extract genera un dataframe en vez de una series y da error\n",
    "\n",
    "sql_pivot = hn_sql.pivot_table(index = 'flavor', values = 'num_comments', aggfunc = 'mean')"
   ]
  },
  {
   "cell_type": "markdown",
   "metadata": {},
   "source": [
    "Extraer las versiones de Python.\n",
    "\n",
    "Se busca Python seguido de números con puntos intercalados pero solo se extrae la versión.\n",
    "\n",
    "Se puede generar una tabla de frecuencias con el comando dict sobre la salida de un value_counts()"
   ]
  },
  {
   "cell_type": "code",
   "execution_count": 17,
   "metadata": {},
   "outputs": [
    {
     "name": "stdout",
     "output_type": "stream",
     "text": [
      "3        10\n",
      "2         3\n",
      "3.5       3\n",
      "3.6       2\n",
      "3.5.0     1\n",
      "1.5       1\n",
      "8         1\n",
      "4         1\n",
      "2.7       1\n",
      "Name: title, dtype: int64\n",
      "{'3': 10, '2': 3, '3.5': 3, '3.6': 2, '3.5.0': 1, '1.5': 1, '8': 1, '4': 1, '2.7': 1}\n"
     ]
    }
   ],
   "source": [
    "pattern = r\"[Pp]ython ([\\d\\.]+)\"\n",
    "\n",
    "py_versions = titles.str.extract(pattern, expand = False)\n",
    "py_versions_freq = dict(py_versions.value_counts())\n",
    "print(py_versions.value_counts())\n",
    "print(py_versions_freq)"
   ]
  },
  {
   "cell_type": "markdown",
   "metadata": {},
   "source": [
    "Buscando títulos con C pero descartando C++ ó C.E.O."
   ]
  },
  {
   "cell_type": "code",
   "execution_count": 18,
   "metadata": {},
   "outputs": [
    {
     "name": "stdout",
     "output_type": "stream",
     "text": [
      "365                      The new C standards are worth it\n",
      "444           Moz raises $10m Series C from Foundry Group\n",
      "521          Fuchsia: Micro kernel written in C by Google\n",
      "1307            Show HN: Yupp, yet another C preprocessor\n",
      "1326                     The C standard formalized in Coq\n",
      "1365                          GNU C Library 2.23 released\n",
      "1429    Cysignals: signal handling (SIGINT, SIGSEGV, )...\n",
      "1620                        SDCC  Small Device C Compiler\n",
      "1949    Rewriting a Ruby C Extension in Rust: How a Na...\n",
      "2195    MyHTML  HTML Parser on Pure C with POSIX Threa...\n",
      "Name: title, dtype: object\n"
     ]
    }
   ],
   "source": [
    "def first_10_matches(pattern):\n",
    "    \"\"\"\n",
    "    Return the first 10 story titles that match\n",
    "    the provided regular expression\n",
    "    \"\"\"\n",
    "    all_matches = titles[titles.str.contains(pattern)]\n",
    "    first_10 = all_matches.head(10)\n",
    "    return first_10\n",
    "\n",
    "pattern = r\"\\b[Cc]\\b[^\\.\\+]\"\n",
    "\n",
    "first_ten = first_10_matches(pattern)\n",
    "print(first_ten)"
   ]
  },
  {
   "cell_type": "markdown",
   "metadata": {},
   "source": [
    "### Lookarounds\n",
    "\n",
    "Sirven para mirar antes o después de lo que queremos encontrar. Para descartar C++ o Series C por ejemplo si buscamos C.\n",
    "\n"
   ]
  },
  {
   "cell_type": "markdown",
   "metadata": {},
   "source": [
    "![title](imagenes/lookarounds.png)"
   ]
  },
  {
   "cell_type": "markdown",
   "metadata": {},
   "source": [
    "These tips can help you remember the syntax for lookarounds:\n",
    "\n",
    "- Inside the parentheses, the first character of a lookaround is always ?.\n",
    "- If the lookaround is a lookbehind, the next character will be <, which you can think of as an arrow head pointing behind the match.\n",
    "- The next character indicates whether the lookaround is positive (=) or negative (!).\n"
   ]
  },
  {
   "cell_type": "code",
   "execution_count": 19,
   "metadata": {},
   "outputs": [
    {
     "name": "stdout",
     "output_type": "stream",
     "text": [
      "102\n"
     ]
    },
    {
     "name": "stderr",
     "output_type": "stream",
     "text": [
      "C:\\Users\\adrig\\anaconda3\\lib\\site-packages\\pandas\\core\\strings.py:1952: UserWarning: This pattern has match groups. To actually get the groups, use str.extract.\n",
      "  return func(self, *args, **kwargs)\n"
     ]
    }
   ],
   "source": [
    "pattern = r'(?<![Ss]eries\\s)\\b[Cc]\\b((?![.+])|\\.$)'\n",
    "\n",
    "# el | es un OR -> ((?![.+])|\\.$) es no está seguida de + ó . OR tiene un punto \\. y es final de string\n",
    "\n",
    "c_mentions = titles.str.contains(pattern).sum()\n",
    "print(c_mentions)"
   ]
  },
  {
   "cell_type": "markdown",
   "metadata": {},
   "source": [
    "### Backreferences\n",
    "Hacen referencia a algún Capture group que se haya definido.\n",
    "Se pueden utilizar para buscar palabras repetidas por ejemplo"
   ]
  },
  {
   "cell_type": "markdown",
   "metadata": {},
   "source": [
    "![title](imagenes/backreferences.png)"
   ]
  },
  {
   "cell_type": "markdown",
   "metadata": {},
   "source": [
    "Buscamos títulos con palabras repetidas:\n",
    "\n",
    "Write a regular expression to match cases of repeated words:\n",
    "- We'll define a word as a series of one or more word characters preceded and followed by a boundary anchor.\n",
    "- We'll define repeated words as the same word repeated twice, separated by a single whitespace character."
   ]
  },
  {
   "cell_type": "code",
   "execution_count": 20,
   "metadata": {},
   "outputs": [
    {
     "name": "stdout",
     "output_type": "stream",
     "text": [
      "3102                  Silicon Valley Has a Problem Problem\n",
      "3176                Wire Wire: A West African Cyber Threat\n",
      "3178                         Flexbox Cheatsheet Cheatsheet\n",
      "4797                            The Mindset Mindset (2015)\n",
      "7276     Valentine's Day Special: Bye Bye Tinder, Flirt...\n",
      "10371    Mcdonalds copying cyriak  cows cows cows in th...\n",
      "11575                                    Bang Bang Control\n",
      "11901          Cordless Telephones: Bye Bye Privacy (1991)\n",
      "12697          Solving the the Monty-Hall-Problem in Swift\n",
      "15049    Bye Bye Webrtc2SIP: WebRTC with Asterisk and A...\n",
      "15839          Intellij-Rust Rust Plugin for IntelliJ IDEA\n",
      "Name: title, dtype: object\n"
     ]
    }
   ],
   "source": [
    "repeated_words = titles[titles.str.contains(r'\\b(\\w+)\\s\\1\\b')]\n",
    "print(repeated_words)"
   ]
  },
  {
   "cell_type": "markdown",
   "metadata": {},
   "source": [
    "### Substitución de un pattern"
   ]
  },
  {
   "cell_type": "markdown",
   "metadata": {},
   "source": [
    "When we learned to work with basic string methods, we used the str.replace() method to replace simple substrings. We can achieve the same with regular expressions using the re.sub() function. The basic syntax for re.sub() is:\n",
    "\n",
    "re.sub(pattern, repl, string, flags=0)"
   ]
  },
  {
   "cell_type": "code",
   "execution_count": 21,
   "metadata": {},
   "outputs": [
    {
     "name": "stdout",
     "output_type": "stream",
     "text": [
      "0    email\n",
      "1    email\n",
      "2    email\n",
      "3    email\n",
      "4    email\n",
      "5    email\n",
      "6    email\n",
      "7    email\n",
      "8    email\n",
      "dtype: object\n"
     ]
    }
   ],
   "source": [
    "email_variations = pd.Series(['email', 'Email', 'e Mail',\n",
    "                        'e mail', 'E-mail', 'e-mail',\n",
    "                        'eMail', 'E-Mail', 'EMAIL'])\n",
    "\n",
    "\n",
    "email_uniform = email_variations.str.replace(r'\\be[-\\s]?mail', 'email', flags = re.I)\n",
    "titles_clean = titles.str.replace(r'\\be[-\\s]?mail', 'email', flags = re.I)\n",
    "print(email_uniform)"
   ]
  },
  {
   "cell_type": "markdown",
   "metadata": {},
   "source": [
    "### Extrayendo dominios de URLs\n",
    "\n",
    "A partir de la barra / no se considera dominio, es path.\n",
    "\n",
    "/ no entra en ([\\w\\-\\.]+)"
   ]
  },
  {
   "cell_type": "code",
   "execution_count": 22,
   "metadata": {},
   "outputs": [
    {
     "name": "stdout",
     "output_type": "stream",
     "text": [
      "0                      www.amazon.com\n",
      "1     www.interactivedynamicvideo.com\n",
      "2                     www.nytimes.com\n",
      "3                       evonomics.com\n",
      "4                          github.com\n",
      "5                            phys.org\n",
      "6                        iot.seeed.cc\n",
      "7                    www.bfilipek.com\n",
      "8               beta.crowdfireapp.com\n",
      "9                        www.valid.ly\n",
      "10          css-cursor.techstream.org\n",
      "dtype: object\n"
     ]
    }
   ],
   "source": [
    "test_urls = pd.Series([\n",
    " 'https://www.amazon.com/Technology-Ventures-Enterprise-Thomas-Byers/dp/0073523429',\n",
    " 'http://www.interactivedynamicvideo.com/',\n",
    " 'http://www.nytimes.com/2007/11/07/movies/07stein.html?_r=0',\n",
    " 'http://evonomics.com/advertising-cannot-maintain-internet-heres-solution/',\n",
    " 'HTTPS://github.com/keppel/pinn',\n",
    " 'Http://phys.org/news/2015-09-scale-solar-youve.html',\n",
    " 'https://iot.seeed.cc',\n",
    " 'http://www.bfilipek.com/2016/04/custom-deleters-for-c-smart-pointers.html',\n",
    " 'http://beta.crowdfireapp.com/?beta=agnipath',\n",
    " 'https://www.valid.ly?param',\n",
    " 'http://css-cursor.techstream.org'\n",
    "])\n",
    "\n",
    "\n",
    "pattern = r'https?://([\\w\\-\\.]+)'\n",
    "\n",
    "test_urls_clean = test_urls.str.extract(pattern, expand = False, flags = re.I)\n",
    "print(test_urls_clean)"
   ]
  },
  {
   "cell_type": "code",
   "execution_count": 23,
   "metadata": {},
   "outputs": [
    {
     "name": "stdout",
     "output_type": "stream",
     "text": [
      "github.com             1008\n",
      "medium.com              825\n",
      "www.nytimes.com         525\n",
      "www.theguardian.com     248\n",
      "techcrunch.com          245\n",
      "Name: url, dtype: int64\n"
     ]
    }
   ],
   "source": [
    "domains = hn['url'].str.extract(pattern, expand = False, flags = re.I)\n",
    "\n",
    "# haciendo una tabla de frecuencia con value_counts\n",
    "top_domains = domains.value_counts().head(5)\n",
    "print(top_domains)"
   ]
  },
  {
   "cell_type": "markdown",
   "metadata": {},
   "source": [
    "### Extraer varias \n",
    "\n",
    "Se pueden asignar varios grupos de captura para generar una columna por cada grupo.\n",
    "\n",
    "Por ejemplo separar el protocolo, el dominio y la ruta"
   ]
  },
  {
   "cell_type": "markdown",
   "metadata": {},
   "source": [
    "![title](imagenes/url_parts.png)"
   ]
  },
  {
   "cell_type": "code",
   "execution_count": 24,
   "metadata": {},
   "outputs": [
    {
     "data": {
      "text/html": [
       "<div>\n",
       "<style scoped>\n",
       "    .dataframe tbody tr th:only-of-type {\n",
       "        vertical-align: middle;\n",
       "    }\n",
       "\n",
       "    .dataframe tbody tr th {\n",
       "        vertical-align: top;\n",
       "    }\n",
       "\n",
       "    .dataframe thead th {\n",
       "        text-align: right;\n",
       "    }\n",
       "</style>\n",
       "<table border=\"1\" class=\"dataframe\">\n",
       "  <thead>\n",
       "    <tr style=\"text-align: right;\">\n",
       "      <th></th>\n",
       "      <th>0</th>\n",
       "      <th>1</th>\n",
       "      <th>2</th>\n",
       "    </tr>\n",
       "  </thead>\n",
       "  <tbody>\n",
       "    <tr>\n",
       "      <th>0</th>\n",
       "      <td>http</td>\n",
       "      <td>www.interactivedynamicvideo.com</td>\n",
       "      <td></td>\n",
       "    </tr>\n",
       "    <tr>\n",
       "      <th>1</th>\n",
       "      <td>http</td>\n",
       "      <td>www.thewire.com</td>\n",
       "      <td>entertainment/2013/04/florida-djs-april-fools-...</td>\n",
       "    </tr>\n",
       "    <tr>\n",
       "      <th>2</th>\n",
       "      <td>https</td>\n",
       "      <td>www.amazon.com</td>\n",
       "      <td>Technology-Ventures-Enterprise-Thomas-Byers/dp...</td>\n",
       "    </tr>\n",
       "    <tr>\n",
       "      <th>3</th>\n",
       "      <td>http</td>\n",
       "      <td>www.nytimes.com</td>\n",
       "      <td>2007/11/07/movies/07stein.html?_r=0</td>\n",
       "    </tr>\n",
       "    <tr>\n",
       "      <th>4</th>\n",
       "      <td>http</td>\n",
       "      <td>arstechnica.com</td>\n",
       "      <td>business/2015/10/comcast-and-other-isps-boost-...</td>\n",
       "    </tr>\n",
       "    <tr>\n",
       "      <th>5</th>\n",
       "      <td>NaN</td>\n",
       "      <td>NaN</td>\n",
       "      <td>NaN</td>\n",
       "    </tr>\n",
       "    <tr>\n",
       "      <th>6</th>\n",
       "      <td>NaN</td>\n",
       "      <td>NaN</td>\n",
       "      <td>NaN</td>\n",
       "    </tr>\n",
       "    <tr>\n",
       "      <th>7</th>\n",
       "      <td>http</td>\n",
       "      <td>firstround.com</td>\n",
       "      <td>review/shims-jigs-and-other-woodworking-concep...</td>\n",
       "    </tr>\n",
       "    <tr>\n",
       "      <th>8</th>\n",
       "      <td>http</td>\n",
       "      <td>www.southpolestation.com</td>\n",
       "      <td>trivia/igy1/appendix.html</td>\n",
       "    </tr>\n",
       "    <tr>\n",
       "      <th>9</th>\n",
       "      <td>http</td>\n",
       "      <td>techcrunch.com</td>\n",
       "      <td>2016/03/15/crate-raises-4m-seed-round-for-its-...</td>\n",
       "    </tr>\n",
       "    <tr>\n",
       "      <th>10</th>\n",
       "      <td>http</td>\n",
       "      <td>evonomics.com</td>\n",
       "      <td>advertising-cannot-maintain-internet-heres-sol...</td>\n",
       "    </tr>\n",
       "    <tr>\n",
       "      <th>11</th>\n",
       "      <td>https</td>\n",
       "      <td>medium.com</td>\n",
       "      <td>@loorinm/coding-is-over-6d653abe8da8</td>\n",
       "    </tr>\n",
       "    <tr>\n",
       "      <th>12</th>\n",
       "      <td>https</td>\n",
       "      <td>iot.seeed.cc</td>\n",
       "      <td></td>\n",
       "    </tr>\n",
       "    <tr>\n",
       "      <th>13</th>\n",
       "      <td>http</td>\n",
       "      <td>www.bfilipek.com</td>\n",
       "      <td>2016/04/custom-deleters-for-c-smart-pointers.html</td>\n",
       "    </tr>\n",
       "    <tr>\n",
       "      <th>14</th>\n",
       "      <td>NaN</td>\n",
       "      <td>NaN</td>\n",
       "      <td>NaN</td>\n",
       "    </tr>\n",
       "    <tr>\n",
       "      <th>15</th>\n",
       "      <td>http</td>\n",
       "      <td>beta.crowdfireapp.com</td>\n",
       "      <td>?beta=agnipath</td>\n",
       "    </tr>\n",
       "    <tr>\n",
       "      <th>16</th>\n",
       "      <td>NaN</td>\n",
       "      <td>NaN</td>\n",
       "      <td>NaN</td>\n",
       "    </tr>\n",
       "    <tr>\n",
       "      <th>17</th>\n",
       "      <td>https</td>\n",
       "      <td>www.bostonglobe.com</td>\n",
       "      <td>magazine/2015/12/29/years-later-did-big-dig-de...</td>\n",
       "    </tr>\n",
       "    <tr>\n",
       "      <th>18</th>\n",
       "      <td>https</td>\n",
       "      <td>www.valid.ly</td>\n",
       "      <td></td>\n",
       "    </tr>\n",
       "    <tr>\n",
       "      <th>19</th>\n",
       "      <td>http</td>\n",
       "      <td>apod.nasa.gov</td>\n",
       "      <td>apod/astropix.html</td>\n",
       "    </tr>\n",
       "  </tbody>\n",
       "</table>\n",
       "</div>"
      ],
      "text/plain": [
       "        0                                1  \\\n",
       "0    http  www.interactivedynamicvideo.com   \n",
       "1    http                  www.thewire.com   \n",
       "2   https                   www.amazon.com   \n",
       "3    http                  www.nytimes.com   \n",
       "4    http                  arstechnica.com   \n",
       "5     NaN                              NaN   \n",
       "6     NaN                              NaN   \n",
       "7    http                   firstround.com   \n",
       "8    http         www.southpolestation.com   \n",
       "9    http                   techcrunch.com   \n",
       "10   http                    evonomics.com   \n",
       "11  https                       medium.com   \n",
       "12  https                     iot.seeed.cc   \n",
       "13   http                 www.bfilipek.com   \n",
       "14    NaN                              NaN   \n",
       "15   http            beta.crowdfireapp.com   \n",
       "16    NaN                              NaN   \n",
       "17  https              www.bostonglobe.com   \n",
       "18  https                     www.valid.ly   \n",
       "19   http                    apod.nasa.gov   \n",
       "\n",
       "                                                    2  \n",
       "0                                                      \n",
       "1   entertainment/2013/04/florida-djs-april-fools-...  \n",
       "2   Technology-Ventures-Enterprise-Thomas-Byers/dp...  \n",
       "3                 2007/11/07/movies/07stein.html?_r=0  \n",
       "4   business/2015/10/comcast-and-other-isps-boost-...  \n",
       "5                                                 NaN  \n",
       "6                                                 NaN  \n",
       "7   review/shims-jigs-and-other-woodworking-concep...  \n",
       "8                           trivia/igy1/appendix.html  \n",
       "9   2016/03/15/crate-raises-4m-seed-round-for-its-...  \n",
       "10  advertising-cannot-maintain-internet-heres-sol...  \n",
       "11               @loorinm/coding-is-over-6d653abe8da8  \n",
       "12                                                     \n",
       "13  2016/04/custom-deleters-for-c-smart-pointers.html  \n",
       "14                                                NaN  \n",
       "15                                     ?beta=agnipath  \n",
       "16                                                NaN  \n",
       "17  magazine/2015/12/29/years-later-did-big-dig-de...  \n",
       "18                                                     \n",
       "19                                 apod/astropix.html  "
      ]
     },
     "execution_count": 24,
     "metadata": {},
     "output_type": "execute_result"
    }
   ],
   "source": [
    "\n",
    "pattern = r'(https?)://([\\w\\.\\-]+)/?(.*)'\n",
    "\n",
    "test_url_parts = test_urls.str.extract(pattern, flags = re.I, expand = False)\n",
    "\n",
    "url_parts = hn['url'].str.extract(pattern, flags = re.I, expand = False)\n",
    "url_parts.head(20)"
   ]
  },
  {
   "cell_type": "markdown",
   "metadata": {},
   "source": [
    "#### Asignar nombre a cada columna extraida con cada capture group\n",
    "In order to name a capture group we use the syntax ?P<name>, where name is the name of our capture group. This syntax goes after the open parentheses, but before the regex syntax that defines the capture group:"
   ]
  },
  {
   "cell_type": "markdown",
   "metadata": {},
   "source": [
    "![title](imagenes/name_capture.png)"
   ]
  },
  {
   "cell_type": "code",
   "execution_count": 25,
   "metadata": {},
   "outputs": [
    {
     "data": {
      "text/html": [
       "<div>\n",
       "<style scoped>\n",
       "    .dataframe tbody tr th:only-of-type {\n",
       "        vertical-align: middle;\n",
       "    }\n",
       "\n",
       "    .dataframe tbody tr th {\n",
       "        vertical-align: top;\n",
       "    }\n",
       "\n",
       "    .dataframe thead th {\n",
       "        text-align: right;\n",
       "    }\n",
       "</style>\n",
       "<table border=\"1\" class=\"dataframe\">\n",
       "  <thead>\n",
       "    <tr style=\"text-align: right;\">\n",
       "      <th></th>\n",
       "      <th>protocol</th>\n",
       "      <th>domain</th>\n",
       "      <th>path</th>\n",
       "    </tr>\n",
       "  </thead>\n",
       "  <tbody>\n",
       "    <tr>\n",
       "      <th>0</th>\n",
       "      <td>http</td>\n",
       "      <td>www.interactivedynamicvideo.com</td>\n",
       "      <td></td>\n",
       "    </tr>\n",
       "    <tr>\n",
       "      <th>1</th>\n",
       "      <td>http</td>\n",
       "      <td>www.thewire.com</td>\n",
       "      <td>entertainment/2013/04/florida-djs-april-fools-...</td>\n",
       "    </tr>\n",
       "    <tr>\n",
       "      <th>2</th>\n",
       "      <td>https</td>\n",
       "      <td>www.amazon.com</td>\n",
       "      <td>Technology-Ventures-Enterprise-Thomas-Byers/dp...</td>\n",
       "    </tr>\n",
       "    <tr>\n",
       "      <th>3</th>\n",
       "      <td>http</td>\n",
       "      <td>www.nytimes.com</td>\n",
       "      <td>2007/11/07/movies/07stein.html?_r=0</td>\n",
       "    </tr>\n",
       "    <tr>\n",
       "      <th>4</th>\n",
       "      <td>http</td>\n",
       "      <td>arstechnica.com</td>\n",
       "      <td>business/2015/10/comcast-and-other-isps-boost-...</td>\n",
       "    </tr>\n",
       "  </tbody>\n",
       "</table>\n",
       "</div>"
      ],
      "text/plain": [
       "  protocol                           domain  \\\n",
       "0     http  www.interactivedynamicvideo.com   \n",
       "1     http                  www.thewire.com   \n",
       "2    https                   www.amazon.com   \n",
       "3     http                  www.nytimes.com   \n",
       "4     http                  arstechnica.com   \n",
       "\n",
       "                                                path  \n",
       "0                                                     \n",
       "1  entertainment/2013/04/florida-djs-april-fools-...  \n",
       "2  Technology-Ventures-Enterprise-Thomas-Byers/dp...  \n",
       "3                2007/11/07/movies/07stein.html?_r=0  \n",
       "4  business/2015/10/comcast-and-other-isps-boost-...  "
      ]
     },
     "execution_count": 25,
     "metadata": {},
     "output_type": "execute_result"
    }
   ],
   "source": [
    "pattern = r\"(?P<protocol>https?)://(?P<domain>[\\w\\.\\-]+)/?(?P<path>.*)\"\n",
    "\n",
    "url_parts = hn['url'].str.extract(pattern, flags = re.I, expand = False)\n",
    "\n",
    "url_parts.head()"
   ]
  },
  {
   "cell_type": "markdown",
   "metadata": {},
   "source": [
    "## List Comprehensions and Lambda Functions"
   ]
  },
  {
   "cell_type": "markdown",
   "metadata": {},
   "source": [
    "In this mission, we'll learn some tips and syntax shortcuts we can use on top of everything we've learned, including:\n",
    "\n",
    "- Creating list comprehensions to replace loops with a single line of code.\n",
    "- Creating single use functions called lambda functions.\n",
    "\n",
    "The data set we'll use in this mission is in a format called JavaScript Object Notation (JSON). As the name indicates, JSON originated from the JavaScript language, but has now become a language-independent format."
   ]
  },
  {
   "cell_type": "markdown",
   "metadata": {},
   "source": [
    "El modulo json de python permite trabajar más fácilmente con objetos JSON.\n",
    "\n",
    "Desde el punto de vista de Python JSON se puede considerar unas coleccioes de objetos anidadas unas dentro de otras.\n",
    "\n",
    "Por ejemplo: Una lista de diccionarios.\n"
   ]
  },
  {
   "cell_type": "code",
   "execution_count": 26,
   "metadata": {},
   "outputs": [
    {
     "name": "stdout",
     "output_type": "stream",
     "text": [
      "<class 'list'>\n",
      "[{'name': 'Sabine', 'age': 36, 'favorite_foods': ['Pumpkin', 'Oatmeal']}, {'name': 'Zoe', 'age': 40, 'favorite_foods': ['Chicken', 'Pizza', 'Chocolate']}, {'name': 'Heidi', 'age': 40, 'favorite_foods': ['Caesar Salad']}]\n"
     ]
    }
   ],
   "source": [
    "json_string = \"\"\"\n",
    "[\n",
    "  {\n",
    "    \"name\": \"Sabine\",\n",
    "    \"age\": 36,\n",
    "    \"favorite_foods\": [\"Pumpkin\", \"Oatmeal\"]\n",
    "  },\n",
    "  {\n",
    "    \"name\": \"Zoe\",\n",
    "    \"age\": 40,\n",
    "    \"favorite_foods\": [\"Chicken\", \"Pizza\", \"Chocolate\"]\n",
    "  },\n",
    "  {\n",
    "    \"name\": \"Heidi\",\n",
    "    \"age\": 40,\n",
    "    \"favorite_foods\": [\"Caesar Salad\"]\n",
    "  }\n",
    "]\n",
    "\"\"\"\n",
    "\n",
    "import json\n",
    "json_obj = json.loads(json_string)\n",
    "print(type(json_obj))\n",
    "print(json_obj)"
   ]
  },
  {
   "cell_type": "markdown",
   "metadata": {},
   "source": [
    "El JSON de arriba es una lista, en que cada elemento de la lista es un diccionario. Cada diccionarie tiene las mismas entradas y cada valor de cada entrada es otra lista.\n",
    "\n",
    "- The formatting from our original string is gone. This is because printing Python lists and dictionaries has a simple formatting structure.\n",
    "- The order of the keys in the dictionary have changed. This is because (prior to version 3.6) Python dictionaries don't have fixed order."
   ]
  },
  {
   "cell_type": "code",
   "execution_count": 27,
   "metadata": {},
   "outputs": [],
   "source": [
    "world_cup_str = \"\"\"\n",
    "[\n",
    "    {\n",
    "        \"team_1\": \"France\",\n",
    "        \"team_2\": \"Croatia\",\n",
    "        \"game_type\": \"Final\",\n",
    "        \"score\" : [4, 2]\n",
    "    },\n",
    "    {\n",
    "        \"team_1\": \"Belgium\",\n",
    "        \"team_2\": \"England\",\n",
    "        \"game_type\": \"3rd/4th Playoff\",\n",
    "        \"score\" : [2, 0]\n",
    "    }\n",
    "]\n",
    "\"\"\"\n",
    "\n",
    "import json\n",
    "\n",
    "world_cup_obj = json.loads(world_cup_str)"
   ]
  },
  {
   "cell_type": "markdown",
   "metadata": {},
   "source": [
    "### Abrir archivos .json\n",
    "\n",
    "En vez de json.loads(..) es json.load(..).\n",
    "\n",
    "La s es de string"
   ]
  },
  {
   "cell_type": "code",
   "execution_count": null,
   "metadata": {},
   "outputs": [],
   "source": []
  },
  {
   "cell_type": "code",
   "execution_count": 28,
   "metadata": {},
   "outputs": [
    {
     "name": "stdout",
     "output_type": "stream",
     "text": [
      "<class 'list'>\n"
     ]
    }
   ],
   "source": [
    "file = open('hn_2014.json')\n",
    "hn = json.load(file)\n",
    "\n",
    "print(type(hn))"
   ]
  },
  {
   "cell_type": "code",
   "execution_count": 29,
   "metadata": {},
   "outputs": [
    {
     "name": "stdout",
     "output_type": "stream",
     "text": [
      "35806\n"
     ]
    }
   ],
   "source": [
    "print(len(hn))"
   ]
  },
  {
   "cell_type": "code",
   "execution_count": 30,
   "metadata": {},
   "outputs": [
    {
     "name": "stdout",
     "output_type": "stream",
     "text": [
      "<class 'dict'>\n"
     ]
    }
   ],
   "source": [
    "print(type(hn[0]))"
   ]
  },
  {
   "cell_type": "code",
   "execution_count": 31,
   "metadata": {},
   "outputs": [
    {
     "name": "stdout",
     "output_type": "stream",
     "text": [
      "dict_keys(['author', 'numComments', 'points', 'url', 'storyText', 'createdAt', 'tags', 'createdAtI', 'title', 'objectId'])\n"
     ]
    }
   ],
   "source": [
    "print(hn[0].keys())"
   ]
  },
  {
   "cell_type": "markdown",
   "metadata": {},
   "source": [
    "Coincide con las columnas del arhcivo equivalente de hacker news pero en csv."
   ]
  },
  {
   "cell_type": "markdown",
   "metadata": {},
   "source": [
    "### Función dumps\n",
    "\n",
    "Es lo contrario a loads.\n",
    "\n",
    "Convierte un objeto json en una string.\n",
    "\n",
    "Atención al jprint y no print para mostrar bien un objeto json"
   ]
  },
  {
   "cell_type": "code",
   "execution_count": 32,
   "metadata": {},
   "outputs": [
    {
     "name": "stdout",
     "output_type": "stream",
     "text": [
      "{\n",
      "    \"author\": \"dragongraphics\",\n",
      "    \"createdAt\": \"2014-05-29T08:07:50Z\",\n",
      "    \"createdAtI\": 1401350870,\n",
      "    \"numComments\": 0,\n",
      "    \"objectId\": \"7815238\",\n",
      "    \"points\": 2,\n",
      "    \"storyText\": \"\",\n",
      "    \"tags\": [\n",
      "        \"story\",\n",
      "        \"author_dragongraphics\",\n",
      "        \"story_7815238\"\n",
      "    ],\n",
      "    \"title\": \"Are we getting too Sassy? Weighing up micro-optimisation vs. maintainability\",\n",
      "    \"url\": \"http://ashleynolan.co.uk/blog/are-we-getting-too-sassy\"\n",
      "}\n"
     ]
    }
   ],
   "source": [
    "def jprint(obj):\n",
    "    # create a formatted string of the Python JSON object\n",
    "    text = json.dumps(obj, sort_keys=True, indent=4)\n",
    "    print(text)\n",
    "\n",
    "first_story = hn[0]\n",
    "jprint(first_story)"
   ]
  },
  {
   "cell_type": "markdown",
   "metadata": {},
   "source": [
    "### Eliminar keys de los diccionarios dentro del objeto json"
   ]
  },
  {
   "cell_type": "code",
   "execution_count": 33,
   "metadata": {},
   "outputs": [],
   "source": [
    "def del_key(dict_, key):\n",
    "    # create a copy so we don't\n",
    "    # modify the original dict\n",
    "    modified_dict = dict_.copy()\n",
    "    del modified_dict[key]\n",
    "    return modified_dict\n",
    "\n",
    "\n",
    "hn_clean = []\n",
    "\n",
    "for element in hn:\n",
    "    hn_clean.append(del_key(element, 'createdAtI'))"
   ]
  },
  {
   "cell_type": "markdown",
   "metadata": {},
   "source": [
    "### List comprehensions\n",
    "\n",
    "Simplifican la aplicación de funciones sobre listas.\n",
    "\n",
    "List comprehensions can be used for many different things. Three common applications are:\n",
    "\n",
    "- Transforming a list\n",
    "- Creating a new list\n",
    "- Reducing a list\n"
   ]
  },
  {
   "cell_type": "markdown",
   "metadata": {},
   "source": [
    "![title](imagenes/list_comprehensions.png)"
   ]
  },
  {
   "cell_type": "markdown",
   "metadata": {},
   "source": [
    "#### Transforming a list"
   ]
  },
  {
   "cell_type": "code",
   "execution_count": 34,
   "metadata": {},
   "outputs": [
    {
     "name": "stdout",
     "output_type": "stream",
     "text": [
      "['A', 'B', 'C', 'D']\n"
     ]
    }
   ],
   "source": [
    "letters = ['a', 'b', 'c', 'd']\n",
    "\n",
    "caps = []\n",
    "for l in letters:\n",
    "    caps.append(l.upper())\n",
    "    \n",
    "print(caps)"
   ]
  },
  {
   "cell_type": "code",
   "execution_count": 35,
   "metadata": {},
   "outputs": [
    {
     "name": "stdout",
     "output_type": "stream",
     "text": [
      "['A', 'B', 'C', 'D']\n"
     ]
    }
   ],
   "source": [
    "caps = [l.upper() for l in letters]\n",
    "print(caps)"
   ]
  },
  {
   "cell_type": "markdown",
   "metadata": {},
   "source": [
    "Para eliminar la key como hemos hecho antes con el dataset de hackernews"
   ]
  },
  {
   "cell_type": "code",
   "execution_count": 36,
   "metadata": {},
   "outputs": [],
   "source": [
    "hn_clean = [del_key(element, 'createdAtI') for element in hn]"
   ]
  },
  {
   "cell_type": "markdown",
   "metadata": {},
   "source": [
    "#### Creating a list"
   ]
  },
  {
   "cell_type": "code",
   "execution_count": 37,
   "metadata": {},
   "outputs": [
    {
     "name": "stdout",
     "output_type": "stream",
     "text": [
      "   col_1  col_2  col_3  col_4\n",
      "0    0.0    0.0    0.0    0.0\n",
      "1    0.0    0.0    0.0    0.0\n",
      "2    0.0    0.0    0.0    0.0\n",
      "3    0.0    0.0    0.0    0.0\n"
     ]
    }
   ],
   "source": [
    "import pandas as pd\n",
    "import numpy as np\n",
    "\n",
    "cols = [\"col_{}\".format(i) for i in range(1,5)]\n",
    "data = np.zeros((4,4))\n",
    "\n",
    "df = pd.DataFrame(data, columns=cols)\n",
    "print(df)"
   ]
  },
  {
   "cell_type": "markdown",
   "metadata": {},
   "source": [
    "Extraer todas las urls del dataset y crear una lista"
   ]
  },
  {
   "cell_type": "code",
   "execution_count": 38,
   "metadata": {},
   "outputs": [
    {
     "name": "stdout",
     "output_type": "stream",
     "text": [
      "['http://ashleynolan.co.uk/blog/are-we-getting-too-sassy', 'http://spectrum.ieee.org/automaton/robotics/home-robots/telemba-telepresence-robot', 'http://online.wsj.com/articles/apple-to-buy-beats-1401308971', 'http://alexsblog.org/2014/05/29/dont-wait-for-inspiration/', 'http://techcrunch.com/2014/05/28/hackerone-get-9m-in-series-a-funding-to-build-bug-tracking-bounty-programs/', 'http://www.teslamotors.com/en_AU/models/design', 'http://gearapp.challengepost.com/', 'https://gigaom.com/2014/05/28/skype-will-soon-get-real-time-speech-translation-based-on-deep-learning/', 'http://www.nbcnews.com/feature/edward-snowden-interview/watch-primetime-special-inside-mind-edward-snowden-n117126', 'http://snippetrepo.com/snippets/linear-equation-solver-in-3-lines-of-python']\n"
     ]
    }
   ],
   "source": [
    "urls = [element['url'] for element in hn_clean]\n",
    "print(urls[:10])"
   ]
  },
  {
   "cell_type": "markdown",
   "metadata": {},
   "source": [
    "#### Reducing a list"
   ]
  },
  {
   "cell_type": "code",
   "execution_count": 39,
   "metadata": {},
   "outputs": [
    {
     "name": "stdout",
     "output_type": "stream",
     "text": [
      "9279\n"
     ]
    }
   ],
   "source": [
    "has_comments = []\n",
    "\n",
    "for d in hn_clean:\n",
    "    if d['numComments'] > 0:\n",
    "        has_comments.append(d)\n",
    "\n",
    "num_comments = len(has_comments)\n",
    "print(num_comments)"
   ]
  },
  {
   "cell_type": "code",
   "execution_count": 40,
   "metadata": {},
   "outputs": [
    {
     "name": "stdout",
     "output_type": "stream",
     "text": [
      "9279\n"
     ]
    }
   ],
   "source": [
    "has_comments = [d for d in hn_clean if d['numComments'] > 0]\n",
    "\n",
    "num_comments = len(has_comments)\n",
    "print(num_comments)"
   ]
  },
  {
   "cell_type": "code",
   "execution_count": 41,
   "metadata": {},
   "outputs": [
    {
     "name": "stdout",
     "output_type": "stream",
     "text": [
      "8\n"
     ]
    }
   ],
   "source": [
    "thousand_points = [d for d in hn_clean if d['points'] > 1000]\n",
    "num_thousand_points = len(thousand_points)\n",
    "print(num_thousand_points)"
   ]
  },
  {
   "cell_type": "markdown",
   "metadata": {},
   "source": [
    "### Prebuilt functions en json objects\n",
    "\n",
    "min, max mean\n",
    "\n",
    "Se le tiene que pasar una key, que es una función que definamos para mirar una determinada columna.\n",
    "\n",
    "En python se pueden pasar funciones como variables si se quitan los paréntesis\n",
    "\n"
   ]
  },
  {
   "cell_type": "code",
   "execution_count": 42,
   "metadata": {},
   "outputs": [
    {
     "data": {
      "text/plain": [
       "'hello'"
      ]
     },
     "execution_count": 42,
     "metadata": {},
     "output_type": "execute_result"
    }
   ],
   "source": [
    "def greet():\n",
    "    return \"hello\"\n",
    "\n",
    "greet()"
   ]
  },
  {
   "cell_type": "code",
   "execution_count": 43,
   "metadata": {},
   "outputs": [
    {
     "name": "stdout",
     "output_type": "stream",
     "text": [
      "<class 'str'>\n"
     ]
    }
   ],
   "source": [
    "t = type(greet())\n",
    "print(t)"
   ]
  },
  {
   "cell_type": "code",
   "execution_count": 44,
   "metadata": {},
   "outputs": [
    {
     "name": "stdout",
     "output_type": "stream",
     "text": [
      "<class 'function'>\n"
     ]
    }
   ],
   "source": [
    "t = type(greet)\n",
    "print(t)"
   ]
  },
  {
   "cell_type": "code",
   "execution_count": 45,
   "metadata": {},
   "outputs": [
    {
     "data": {
      "text/plain": [
       "'hello'"
      ]
     },
     "execution_count": 45,
     "metadata": {},
     "output_type": "execute_result"
    }
   ],
   "source": [
    "greet_2 = greet\n",
    "\n",
    "greet_2()"
   ]
  },
  {
   "cell_type": "markdown",
   "metadata": {},
   "source": [
    "Diccionario dentro del json object con el mayor número de comentarios"
   ]
  },
  {
   "cell_type": "code",
   "execution_count": 46,
   "metadata": {},
   "outputs": [
    {
     "name": "stdout",
     "output_type": "stream",
     "text": [
      "{'author': 'platz', 'numComments': 1208, 'points': 889, 'url': 'https://blog.mozilla.org/blog/2014/04/03/brendan-eich-steps-down-as-mozilla-ceo/', 'storyText': None, 'createdAt': '2014-04-03T19:02:53Z', 'tags': ['story', 'author_platz', 'story_7525198'], 'title': 'Brendan Eich Steps Down as Mozilla CEO', 'objectId': '7525198'}\n"
     ]
    }
   ],
   "source": [
    "def get_num_comments(json_dict):\n",
    "    return json_dict['numComments']\n",
    "\n",
    "most_comments = max(hn_clean, key = get_num_comments)\n",
    "print(most_comments)"
   ]
  },
  {
   "cell_type": "code",
   "execution_count": 47,
   "metadata": {},
   "outputs": [
    {
     "name": "stdout",
     "output_type": "stream",
     "text": [
      "{\n",
      "    \"author\": \"platz\",\n",
      "    \"createdAt\": \"2014-04-03T19:02:53Z\",\n",
      "    \"numComments\": 1208,\n",
      "    \"objectId\": \"7525198\",\n",
      "    \"points\": 889,\n",
      "    \"storyText\": null,\n",
      "    \"tags\": [\n",
      "        \"story\",\n",
      "        \"author_platz\",\n",
      "        \"story_7525198\"\n",
      "    ],\n",
      "    \"title\": \"Brendan Eich Steps Down as Mozilla CEO\",\n",
      "    \"url\": \"https://blog.mozilla.org/blog/2014/04/03/brendan-eich-steps-down-as-mozilla-ceo/\"\n",
      "}\n"
     ]
    }
   ],
   "source": [
    "jprint(most_comments)"
   ]
  },
  {
   "cell_type": "markdown",
   "metadata": {},
   "source": [
    "### lambda functions\n",
    "Python provides a special syntax to create temporary functions for situations like these. These functions are called lambda functions. Lambda functions can be defined in a single line, which allows you to define a function you want to pass as an argument at the time you need it."
   ]
  },
  {
   "cell_type": "markdown",
   "metadata": {},
   "source": [
    "![title](imagenes/lambda_1.png)"
   ]
  },
  {
   "cell_type": "markdown",
   "metadata": {},
   "source": [
    "![title](imagenes/lambda_2.png)"
   ]
  },
  {
   "cell_type": "markdown",
   "metadata": {},
   "source": [
    "![title](imagenes/lambda_3.png)"
   ]
  },
  {
   "cell_type": "code",
   "execution_count": 48,
   "metadata": {},
   "outputs": [],
   "source": [
    "def extract_and_increment(string):\n",
    "    digits = re.search(r\"\\d+\", string).group()\n",
    "    incremented = int(digits) + 1\n",
    "    return incremented"
   ]
  },
  {
   "cell_type": "code",
   "execution_count": 49,
   "metadata": {},
   "outputs": [
    {
     "data": {
      "text/plain": [
       "5"
      ]
     },
     "execution_count": 49,
     "metadata": {},
     "output_type": "execute_result"
    }
   ],
   "source": [
    "extract_and_increment('a4f7r4')"
   ]
  },
  {
   "cell_type": "code",
   "execution_count": 50,
   "metadata": {},
   "outputs": [],
   "source": [
    "extract_and_increment = lambda string: int(re.search(r\"\\d+\", string).group()) + 1"
   ]
  },
  {
   "cell_type": "code",
   "execution_count": 51,
   "metadata": {},
   "outputs": [
    {
     "data": {
      "text/plain": [
       "5"
      ]
     },
     "execution_count": 51,
     "metadata": {},
     "output_type": "execute_result"
    }
   ],
   "source": [
    "extract_and_increment('a4f7r4')"
   ]
  },
  {
   "cell_type": "markdown",
   "metadata": {},
   "source": [
    "#### Min, Max y sorted con lambda"
   ]
  },
  {
   "cell_type": "markdown",
   "metadata": {},
   "source": [
    "### Min"
   ]
  },
  {
   "cell_type": "markdown",
   "metadata": {},
   "source": [
    "![title](imagenes/min_lambda.png)"
   ]
  },
  {
   "cell_type": "markdown",
   "metadata": {},
   "source": [
    "### Max"
   ]
  },
  {
   "cell_type": "markdown",
   "metadata": {},
   "source": [
    "![title](imagenes/max_lambda.png)"
   ]
  },
  {
   "cell_type": "markdown",
   "metadata": {},
   "source": [
    "### Sorted"
   ]
  },
  {
   "cell_type": "markdown",
   "metadata": {},
   "source": [
    "![title](imagenes/sorted_lambda.png)"
   ]
  },
  {
   "cell_type": "markdown",
   "metadata": {},
   "source": [
    "Ordenar el dataset por numero de puntos"
   ]
  },
  {
   "cell_type": "code",
   "execution_count": 52,
   "metadata": {},
   "outputs": [
    {
     "name": "stdout",
     "output_type": "stream",
     "text": [
      "[\n",
      "    {\n",
      "        \"author\": \"frederfred\",\n",
      "        \"createdAt\": \"2014-03-10T15:44:42Z\",\n",
      "        \"numComments\": 398,\n",
      "        \"objectId\": \"7373566\",\n",
      "        \"points\": 2732,\n",
      "        \"storyText\": \"\",\n",
      "        \"tags\": [\n",
      "            \"story\",\n",
      "            \"author_frederfred\",\n",
      "            \"story_7373566\"\n",
      "        ],\n",
      "        \"title\": \"2048\",\n",
      "        \"url\": \"http://gabrielecirulli.github.io/2048/\"\n",
      "    },\n",
      "    {\n",
      "        \"author\": \"brokenparser\",\n",
      "        \"createdAt\": \"2014-02-11T08:12:28Z\",\n",
      "        \"numComments\": 260,\n",
      "        \"objectId\": \"7216471\",\n",
      "        \"points\": 1958,\n",
      "        \"storyText\": \"\",\n",
      "        \"tags\": [\n",
      "            \"story\",\n",
      "            \"author_brokenparser\",\n",
      "            \"story_7216471\"\n",
      "        ],\n",
      "        \"title\": \"Today is The Day We Fight Back\",\n",
      "        \"url\": \"https://thedaywefightback.org/\"\n",
      "    },\n",
      "    {\n",
      "        \"author\": \"jamesbritt\",\n",
      "        \"createdAt\": \"2014-01-19T22:46:05Z\",\n",
      "        \"numComments\": 308,\n",
      "        \"objectId\": \"7086411\",\n",
      "        \"points\": 1522,\n",
      "        \"storyText\": null,\n",
      "        \"tags\": [\n",
      "            \"story\",\n",
      "            \"author_jamesbritt\",\n",
      "            \"story_7086411\"\n",
      "        ],\n",
      "        \"title\": \"Wozniak: \\u201cActually, the movie was largely a lie about me\\u201d\",\n",
      "        \"url\": \"https://plus.google.com/+CarmsPerez/posts/GnVTvQNgvpf\"\n",
      "    },\n",
      "    {\n",
      "        \"author\": \"keithwarren\",\n",
      "        \"createdAt\": \"2014-04-03T16:48:14Z\",\n",
      "        \"numComments\": 451,\n",
      "        \"objectId\": \"7524082\",\n",
      "        \"points\": 1297,\n",
      "        \"storyText\": \"\",\n",
      "        \"tags\": [\n",
      "            \"story\",\n",
      "            \"author_keithwarren\",\n",
      "            \"story_7524082\"\n",
      "        ],\n",
      "        \"title\": \"Microsoft Open Sources C# Compiler\",\n",
      "        \"url\": \"http://roslyn.codeplex.com/\"\n",
      "    },\n",
      "    {\n",
      "        \"author\": \"zipop\",\n",
      "        \"createdAt\": \"2014-03-14T19:05:37Z\",\n",
      "        \"numComments\": 403,\n",
      "        \"objectId\": \"7401029\",\n",
      "        \"points\": 1192,\n",
      "        \"storyText\": \"\",\n",
      "        \"tags\": [\n",
      "            \"story\",\n",
      "            \"author_zipop\",\n",
      "            \"story_7401029\"\n",
      "        ],\n",
      "        \"title\": \"Elon Musk: To the People of New Jersey\",\n",
      "        \"url\": \"http://www.teslamotors.com/blog/people-new-jersey\"\n",
      "    }\n",
      "]\n"
     ]
    }
   ],
   "source": [
    "hn_sorted_points = sorted(hn_clean, key= lambda dict: dict['points'], reverse = True)\n",
    "\n",
    "jprint(hn_sorted_points[:5])"
   ]
  },
  {
   "cell_type": "markdown",
   "metadata": {},
   "source": [
    "List comprehension para sacar las títulos de los más altos en puntos"
   ]
  },
  {
   "cell_type": "code",
   "execution_count": 53,
   "metadata": {},
   "outputs": [
    {
     "name": "stdout",
     "output_type": "stream",
     "text": [
      "[\n",
      "    \"2048\",\n",
      "    \"Today is The Day We Fight Back\",\n",
      "    \"Wozniak: \\u201cActually, the movie was largely a lie about me\\u201d\",\n",
      "    \"Microsoft Open Sources C# Compiler\",\n",
      "    \"Elon Musk: To the People of New Jersey\"\n",
      "]\n"
     ]
    }
   ],
   "source": [
    "top_5_titles = [d['title'] for d in hn_sorted_points[0:5]]\n",
    "jprint(top_5_titles)"
   ]
  },
  {
   "cell_type": "markdown",
   "metadata": {},
   "source": [
    "### Pandas y json\n",
    "\n",
    "Se puede trabajar directamente con pandas importando el json object en un dataframe.\n",
    "\n",
    "Cada diccionario de la lista que es el json object será una columna."
   ]
  },
  {
   "cell_type": "markdown",
   "metadata": {},
   "source": [
    "![title](imagenes/pandas_json.png)"
   ]
  },
  {
   "cell_type": "code",
   "execution_count": 54,
   "metadata": {},
   "outputs": [
    {
     "name": "stdout",
     "output_type": "stream",
     "text": [
      "     name  age               favorite_foods\n",
      "0  Sabine   36           [Pumpkin, Oatmeal]\n",
      "1     Zoe   40  [Chicken, Pizza, Chocolate]\n",
      "2   Heidi   40               [Caesar Salad]\n"
     ]
    }
   ],
   "source": [
    "# json_obj definido casi al principio de list comprehensions y lambda functions\n",
    "json_df = pd.DataFrame(json_obj)\n",
    "print(json_df)"
   ]
  },
  {
   "cell_type": "code",
   "execution_count": 55,
   "metadata": {},
   "outputs": [
    {
     "data": {
      "text/html": [
       "<div>\n",
       "<style scoped>\n",
       "    .dataframe tbody tr th:only-of-type {\n",
       "        vertical-align: middle;\n",
       "    }\n",
       "\n",
       "    .dataframe tbody tr th {\n",
       "        vertical-align: top;\n",
       "    }\n",
       "\n",
       "    .dataframe thead th {\n",
       "        text-align: right;\n",
       "    }\n",
       "</style>\n",
       "<table border=\"1\" class=\"dataframe\">\n",
       "  <thead>\n",
       "    <tr style=\"text-align: right;\">\n",
       "      <th></th>\n",
       "      <th>author</th>\n",
       "      <th>numComments</th>\n",
       "      <th>points</th>\n",
       "      <th>url</th>\n",
       "      <th>storyText</th>\n",
       "      <th>createdAt</th>\n",
       "      <th>tags</th>\n",
       "      <th>title</th>\n",
       "      <th>objectId</th>\n",
       "    </tr>\n",
       "  </thead>\n",
       "  <tbody>\n",
       "    <tr>\n",
       "      <th>0</th>\n",
       "      <td>dragongraphics</td>\n",
       "      <td>0</td>\n",
       "      <td>2</td>\n",
       "      <td>http://ashleynolan.co.uk/blog/are-we-getting-t...</td>\n",
       "      <td></td>\n",
       "      <td>2014-05-29T08:07:50Z</td>\n",
       "      <td>[story, author_dragongraphics, story_7815238]</td>\n",
       "      <td>Are we getting too Sassy? Weighing up micro-op...</td>\n",
       "      <td>7815238</td>\n",
       "    </tr>\n",
       "    <tr>\n",
       "      <th>1</th>\n",
       "      <td>jcr</td>\n",
       "      <td>0</td>\n",
       "      <td>1</td>\n",
       "      <td>http://spectrum.ieee.org/automaton/robotics/ho...</td>\n",
       "      <td></td>\n",
       "      <td>2014-05-29T08:05:58Z</td>\n",
       "      <td>[story, author_jcr, story_7815234]</td>\n",
       "      <td>Telemba Turns Your Old Roomba and Tablet Into ...</td>\n",
       "      <td>7815234</td>\n",
       "    </tr>\n",
       "    <tr>\n",
       "      <th>2</th>\n",
       "      <td>callum85</td>\n",
       "      <td>0</td>\n",
       "      <td>1</td>\n",
       "      <td>http://online.wsj.com/articles/apple-to-buy-be...</td>\n",
       "      <td></td>\n",
       "      <td>2014-05-29T08:05:06Z</td>\n",
       "      <td>[story, author_callum85, story_7815230]</td>\n",
       "      <td>Apple Agrees to Buy Beats for $3 Billion</td>\n",
       "      <td>7815230</td>\n",
       "    </tr>\n",
       "    <tr>\n",
       "      <th>3</th>\n",
       "      <td>d3v3r0</td>\n",
       "      <td>0</td>\n",
       "      <td>1</td>\n",
       "      <td>http://alexsblog.org/2014/05/29/dont-wait-for-...</td>\n",
       "      <td></td>\n",
       "      <td>2014-05-29T08:00:08Z</td>\n",
       "      <td>[story, author_d3v3r0, story_7815222]</td>\n",
       "      <td>Don’t wait for inspiration</td>\n",
       "      <td>7815222</td>\n",
       "    </tr>\n",
       "    <tr>\n",
       "      <th>4</th>\n",
       "      <td>timmipetit</td>\n",
       "      <td>0</td>\n",
       "      <td>1</td>\n",
       "      <td>http://techcrunch.com/2014/05/28/hackerone-get...</td>\n",
       "      <td></td>\n",
       "      <td>2014-05-29T07:46:19Z</td>\n",
       "      <td>[story, author_timmipetit, story_7815191]</td>\n",
       "      <td>HackerOne Get $9M In Series A Funding To Build...</td>\n",
       "      <td>7815191</td>\n",
       "    </tr>\n",
       "    <tr>\n",
       "      <th>5</th>\n",
       "      <td>thetron</td>\n",
       "      <td>0</td>\n",
       "      <td>2</td>\n",
       "      <td>http://www.teslamotors.com/en_AU/models/design</td>\n",
       "      <td></td>\n",
       "      <td>2014-05-29T07:41:30Z</td>\n",
       "      <td>[story, author_thetron, story_7815179]</td>\n",
       "      <td>Tesla Model S pricing for Australia</td>\n",
       "      <td>7815179</td>\n",
       "    </tr>\n",
       "    <tr>\n",
       "      <th>6</th>\n",
       "      <td>rajeevk</td>\n",
       "      <td>0</td>\n",
       "      <td>1</td>\n",
       "      <td>http://gearapp.challengepost.com/</td>\n",
       "      <td></td>\n",
       "      <td>2014-05-29T07:34:31Z</td>\n",
       "      <td>[story, author_rajeevk, story_7815165]</td>\n",
       "      <td>Samsung gear app challenge</td>\n",
       "      <td>7815165</td>\n",
       "    </tr>\n",
       "    <tr>\n",
       "      <th>7</th>\n",
       "      <td>etiam</td>\n",
       "      <td>0</td>\n",
       "      <td>2</td>\n",
       "      <td>https://gigaom.com/2014/05/28/skype-will-soon-...</td>\n",
       "      <td></td>\n",
       "      <td>2014-05-29T07:24:12Z</td>\n",
       "      <td>[story, author_etiam, story_7815144]</td>\n",
       "      <td>Skype will soon get real-time speech translati...</td>\n",
       "      <td>7815144</td>\n",
       "    </tr>\n",
       "    <tr>\n",
       "      <th>8</th>\n",
       "      <td>bsimpson</td>\n",
       "      <td>0</td>\n",
       "      <td>4</td>\n",
       "      <td>http://www.nbcnews.com/feature/edward-snowden-...</td>\n",
       "      <td></td>\n",
       "      <td>2014-05-29T07:16:26Z</td>\n",
       "      <td>[story, author_bsimpson, story_7815134]</td>\n",
       "      <td>NBC News interview of Ed Snowden [video]</td>\n",
       "      <td>7815134</td>\n",
       "    </tr>\n",
       "    <tr>\n",
       "      <th>9</th>\n",
       "      <td>signa11</td>\n",
       "      <td>0</td>\n",
       "      <td>2</td>\n",
       "      <td>http://snippetrepo.com/snippets/linear-equatio...</td>\n",
       "      <td></td>\n",
       "      <td>2014-05-29T07:01:18Z</td>\n",
       "      <td>[story, author_signa11, story_7815095]</td>\n",
       "      <td>Linear equation solver in 3 lines of Python</td>\n",
       "      <td>7815095</td>\n",
       "    </tr>\n",
       "  </tbody>\n",
       "</table>\n",
       "</div>"
      ],
      "text/plain": [
       "           author  numComments  points  \\\n",
       "0  dragongraphics            0       2   \n",
       "1             jcr            0       1   \n",
       "2        callum85            0       1   \n",
       "3          d3v3r0            0       1   \n",
       "4      timmipetit            0       1   \n",
       "5         thetron            0       2   \n",
       "6         rajeevk            0       1   \n",
       "7           etiam            0       2   \n",
       "8        bsimpson            0       4   \n",
       "9         signa11            0       2   \n",
       "\n",
       "                                                 url storyText  \\\n",
       "0  http://ashleynolan.co.uk/blog/are-we-getting-t...             \n",
       "1  http://spectrum.ieee.org/automaton/robotics/ho...             \n",
       "2  http://online.wsj.com/articles/apple-to-buy-be...             \n",
       "3  http://alexsblog.org/2014/05/29/dont-wait-for-...             \n",
       "4  http://techcrunch.com/2014/05/28/hackerone-get...             \n",
       "5     http://www.teslamotors.com/en_AU/models/design             \n",
       "6                  http://gearapp.challengepost.com/             \n",
       "7  https://gigaom.com/2014/05/28/skype-will-soon-...             \n",
       "8  http://www.nbcnews.com/feature/edward-snowden-...             \n",
       "9  http://snippetrepo.com/snippets/linear-equatio...             \n",
       "\n",
       "              createdAt                                           tags  \\\n",
       "0  2014-05-29T08:07:50Z  [story, author_dragongraphics, story_7815238]   \n",
       "1  2014-05-29T08:05:58Z             [story, author_jcr, story_7815234]   \n",
       "2  2014-05-29T08:05:06Z        [story, author_callum85, story_7815230]   \n",
       "3  2014-05-29T08:00:08Z          [story, author_d3v3r0, story_7815222]   \n",
       "4  2014-05-29T07:46:19Z      [story, author_timmipetit, story_7815191]   \n",
       "5  2014-05-29T07:41:30Z         [story, author_thetron, story_7815179]   \n",
       "6  2014-05-29T07:34:31Z         [story, author_rajeevk, story_7815165]   \n",
       "7  2014-05-29T07:24:12Z           [story, author_etiam, story_7815144]   \n",
       "8  2014-05-29T07:16:26Z        [story, author_bsimpson, story_7815134]   \n",
       "9  2014-05-29T07:01:18Z         [story, author_signa11, story_7815095]   \n",
       "\n",
       "                                               title objectId  \n",
       "0  Are we getting too Sassy? Weighing up micro-op...  7815238  \n",
       "1  Telemba Turns Your Old Roomba and Tablet Into ...  7815234  \n",
       "2           Apple Agrees to Buy Beats for $3 Billion  7815230  \n",
       "3                         Don’t wait for inspiration  7815222  \n",
       "4  HackerOne Get $9M In Series A Funding To Build...  7815191  \n",
       "5                Tesla Model S pricing for Australia  7815179  \n",
       "6                         Samsung gear app challenge  7815165  \n",
       "7  Skype will soon get real-time speech translati...  7815144  \n",
       "8           NBC News interview of Ed Snowden [video]  7815134  \n",
       "9        Linear equation solver in 3 lines of Python  7815095  "
      ]
     },
     "execution_count": 55,
     "metadata": {},
     "output_type": "execute_result"
    }
   ],
   "source": [
    "import pandas as pd\n",
    "hn_df = pd.DataFrame(hn_clean)\n",
    "hn_df.head(10)"
   ]
  },
  {
   "cell_type": "markdown",
   "metadata": {},
   "source": [
    "Hay columnas como tags que tiene  listas de varios elementos.\n",
    "Comprobamos cuántas elementos tienen todas para eliminar la columna total o parcialmente"
   ]
  },
  {
   "cell_type": "code",
   "execution_count": 56,
   "metadata": {},
   "outputs": [
    {
     "name": "stdout",
     "output_type": "stream",
     "text": [
      "object\n"
     ]
    }
   ],
   "source": [
    "tags = hn_df['tags']\n",
    "print(tags.dtype)"
   ]
  },
  {
   "cell_type": "code",
   "execution_count": 57,
   "metadata": {},
   "outputs": [
    {
     "name": "stdout",
     "output_type": "stream",
     "text": [
      "<class 'list'>    35806\n",
      "Name: tags, dtype: int64\n"
     ]
    }
   ],
   "source": [
    "tags_types = tags.apply(type)\n",
    "type_counts = tags_types.value_counts(dropna=False)\n",
    "print(type_counts)"
   ]
  },
  {
   "cell_type": "code",
   "execution_count": 58,
   "metadata": {},
   "outputs": [
    {
     "name": "stdout",
     "output_type": "stream",
     "text": [
      "3    33459\n",
      "4     2347\n",
      "Name: tags, dtype: int64\n"
     ]
    }
   ],
   "source": [
    "tags_types = tags.apply(len)\n",
    "type_lengths = tags_types.value_counts(dropna=False)\n",
    "print(type_lengths)"
   ]
  },
  {
   "cell_type": "markdown",
   "metadata": {},
   "source": [
    "Vemos que hay muchas menos entradas de 4 elementos.\n",
    "Creamos una másk y las seleccionamos"
   ]
  },
  {
   "cell_type": "code",
   "execution_count": 59,
   "metadata": {},
   "outputs": [
    {
     "name": "stdout",
     "output_type": "stream",
     "text": [
      "43       [story, author_alamgir_mand, story_7813869, sh...\n",
      "86         [story, author_cweagans, story_7812404, ask_hn]\n",
      "104      [story, author_nightstrike789, story_7812099, ...\n",
      "107      [story, author_ISeemToBeAVerb, story_7812048, ...\n",
      "109         [story, author_Swizec, story_7812018, show_hn]\n",
      "                               ...                        \n",
      "35747      [story, author_rpm4321, story_6994970, show_hn]\n",
      "35759            [story, author_ct, story_6994828, ask_hn]\n",
      "35778    [story, author_ChrisNorstrom, story_6994370, a...\n",
      "35787    [story, author_benjamincburns, story_6994163, ...\n",
      "35792      [story, author_randall, story_6993981, show_hn]\n",
      "Name: tags, Length: 2347, dtype: object\n"
     ]
    }
   ],
   "source": [
    "tags = hn_df['tags']\n",
    "\n",
    "four_tags = tags[tags.apply(len) == 4]\n",
    "print(four_tags)"
   ]
  },
  {
   "cell_type": "markdown",
   "metadata": {},
   "source": [
    "Parece que cuando hay 4 la información que sobra es el último elemento de la lista"
   ]
  },
  {
   "cell_type": "markdown",
   "metadata": {},
   "source": [
    "#### Ternary operators"
   ]
  },
  {
   "cell_type": "markdown",
   "metadata": {},
   "source": [
    "![title](imagenes/ternary_operator.png)"
   ]
  },
  {
   "cell_type": "code",
   "execution_count": 60,
   "metadata": {},
   "outputs": [
    {
     "data": {
      "text/html": [
       "<div>\n",
       "<style scoped>\n",
       "    .dataframe tbody tr th:only-of-type {\n",
       "        vertical-align: middle;\n",
       "    }\n",
       "\n",
       "    .dataframe tbody tr th {\n",
       "        vertical-align: top;\n",
       "    }\n",
       "\n",
       "    .dataframe thead th {\n",
       "        text-align: right;\n",
       "    }\n",
       "</style>\n",
       "<table border=\"1\" class=\"dataframe\">\n",
       "  <thead>\n",
       "    <tr style=\"text-align: right;\">\n",
       "      <th></th>\n",
       "      <th>author</th>\n",
       "      <th>numComments</th>\n",
       "      <th>points</th>\n",
       "      <th>url</th>\n",
       "      <th>storyText</th>\n",
       "      <th>createdAt</th>\n",
       "      <th>tags</th>\n",
       "      <th>title</th>\n",
       "      <th>objectId</th>\n",
       "    </tr>\n",
       "  </thead>\n",
       "  <tbody>\n",
       "    <tr>\n",
       "      <th>0</th>\n",
       "      <td>dragongraphics</td>\n",
       "      <td>0</td>\n",
       "      <td>2</td>\n",
       "      <td>http://ashleynolan.co.uk/blog/are-we-getting-t...</td>\n",
       "      <td></td>\n",
       "      <td>2014-05-29T08:07:50Z</td>\n",
       "      <td>None</td>\n",
       "      <td>Are we getting too Sassy? Weighing up micro-op...</td>\n",
       "      <td>7815238</td>\n",
       "    </tr>\n",
       "    <tr>\n",
       "      <th>1</th>\n",
       "      <td>jcr</td>\n",
       "      <td>0</td>\n",
       "      <td>1</td>\n",
       "      <td>http://spectrum.ieee.org/automaton/robotics/ho...</td>\n",
       "      <td></td>\n",
       "      <td>2014-05-29T08:05:58Z</td>\n",
       "      <td>None</td>\n",
       "      <td>Telemba Turns Your Old Roomba and Tablet Into ...</td>\n",
       "      <td>7815234</td>\n",
       "    </tr>\n",
       "    <tr>\n",
       "      <th>2</th>\n",
       "      <td>callum85</td>\n",
       "      <td>0</td>\n",
       "      <td>1</td>\n",
       "      <td>http://online.wsj.com/articles/apple-to-buy-be...</td>\n",
       "      <td></td>\n",
       "      <td>2014-05-29T08:05:06Z</td>\n",
       "      <td>None</td>\n",
       "      <td>Apple Agrees to Buy Beats for $3 Billion</td>\n",
       "      <td>7815230</td>\n",
       "    </tr>\n",
       "    <tr>\n",
       "      <th>3</th>\n",
       "      <td>d3v3r0</td>\n",
       "      <td>0</td>\n",
       "      <td>1</td>\n",
       "      <td>http://alexsblog.org/2014/05/29/dont-wait-for-...</td>\n",
       "      <td></td>\n",
       "      <td>2014-05-29T08:00:08Z</td>\n",
       "      <td>None</td>\n",
       "      <td>Don’t wait for inspiration</td>\n",
       "      <td>7815222</td>\n",
       "    </tr>\n",
       "    <tr>\n",
       "      <th>4</th>\n",
       "      <td>timmipetit</td>\n",
       "      <td>0</td>\n",
       "      <td>1</td>\n",
       "      <td>http://techcrunch.com/2014/05/28/hackerone-get...</td>\n",
       "      <td></td>\n",
       "      <td>2014-05-29T07:46:19Z</td>\n",
       "      <td>None</td>\n",
       "      <td>HackerOne Get $9M In Series A Funding To Build...</td>\n",
       "      <td>7815191</td>\n",
       "    </tr>\n",
       "    <tr>\n",
       "      <th>...</th>\n",
       "      <td>...</td>\n",
       "      <td>...</td>\n",
       "      <td>...</td>\n",
       "      <td>...</td>\n",
       "      <td>...</td>\n",
       "      <td>...</td>\n",
       "      <td>...</td>\n",
       "      <td>...</td>\n",
       "      <td>...</td>\n",
       "    </tr>\n",
       "    <tr>\n",
       "      <th>35801</th>\n",
       "      <td>lispython</td>\n",
       "      <td>0</td>\n",
       "      <td>3</td>\n",
       "      <td>https://medium.com/p/ff5f4c9b16bd</td>\n",
       "      <td>None</td>\n",
       "      <td>2014-01-01T00:33:42Z</td>\n",
       "      <td>None</td>\n",
       "      <td>Engelbart and Kay</td>\n",
       "      <td>6993601</td>\n",
       "    </tr>\n",
       "    <tr>\n",
       "      <th>35802</th>\n",
       "      <td>co_pl_te</td>\n",
       "      <td>0</td>\n",
       "      <td>3</td>\n",
       "      <td>http://allthingsd.com/20131231/you-say-goodbye...</td>\n",
       "      <td></td>\n",
       "      <td>2014-01-01T00:19:47Z</td>\n",
       "      <td>None</td>\n",
       "      <td>You Say Goodbye and We Say Hello</td>\n",
       "      <td>6993568</td>\n",
       "    </tr>\n",
       "    <tr>\n",
       "      <th>35803</th>\n",
       "      <td>maurorm</td>\n",
       "      <td>0</td>\n",
       "      <td>1</td>\n",
       "      <td>http://ghiraldelli.pro.br/jesus-e-eu/</td>\n",
       "      <td>None</td>\n",
       "      <td>2014-01-01T00:11:06Z</td>\n",
       "      <td>None</td>\n",
       "      <td>Jesus e eu</td>\n",
       "      <td>6993544</td>\n",
       "    </tr>\n",
       "    <tr>\n",
       "      <th>35804</th>\n",
       "      <td>yeukhon</td>\n",
       "      <td>0</td>\n",
       "      <td>1</td>\n",
       "      <td></td>\n",
       "      <td>https:&amp;#x2F;&amp;#x2F;fundraising.mozilla.org&amp;#x2F;</td>\n",
       "      <td>2014-01-01T00:06:59Z</td>\n",
       "      <td>None</td>\n",
       "      <td>Mozilla end-of-year fundraising jumps from $75...</td>\n",
       "      <td>6993536</td>\n",
       "    </tr>\n",
       "    <tr>\n",
       "      <th>35805</th>\n",
       "      <td>Strilanc</td>\n",
       "      <td>0</td>\n",
       "      <td>1</td>\n",
       "      <td>http://twistedoakstudios.com/blog/Post8565_col...</td>\n",
       "      <td></td>\n",
       "      <td>2014-01-01T00:01:00Z</td>\n",
       "      <td>None</td>\n",
       "      <td>Collection Equality is Hard</td>\n",
       "      <td>6993523</td>\n",
       "    </tr>\n",
       "  </tbody>\n",
       "</table>\n",
       "<p>35806 rows × 9 columns</p>\n",
       "</div>"
      ],
      "text/plain": [
       "               author  numComments  points  \\\n",
       "0      dragongraphics            0       2   \n",
       "1                 jcr            0       1   \n",
       "2            callum85            0       1   \n",
       "3              d3v3r0            0       1   \n",
       "4          timmipetit            0       1   \n",
       "...               ...          ...     ...   \n",
       "35801       lispython            0       3   \n",
       "35802        co_pl_te            0       3   \n",
       "35803         maurorm            0       1   \n",
       "35804         yeukhon            0       1   \n",
       "35805        Strilanc            0       1   \n",
       "\n",
       "                                                     url  \\\n",
       "0      http://ashleynolan.co.uk/blog/are-we-getting-t...   \n",
       "1      http://spectrum.ieee.org/automaton/robotics/ho...   \n",
       "2      http://online.wsj.com/articles/apple-to-buy-be...   \n",
       "3      http://alexsblog.org/2014/05/29/dont-wait-for-...   \n",
       "4      http://techcrunch.com/2014/05/28/hackerone-get...   \n",
       "...                                                  ...   \n",
       "35801                  https://medium.com/p/ff5f4c9b16bd   \n",
       "35802  http://allthingsd.com/20131231/you-say-goodbye...   \n",
       "35803              http://ghiraldelli.pro.br/jesus-e-eu/   \n",
       "35804                                                      \n",
       "35805  http://twistedoakstudios.com/blog/Post8565_col...   \n",
       "\n",
       "                                             storyText             createdAt  \\\n",
       "0                                                       2014-05-29T08:07:50Z   \n",
       "1                                                       2014-05-29T08:05:58Z   \n",
       "2                                                       2014-05-29T08:05:06Z   \n",
       "3                                                       2014-05-29T08:00:08Z   \n",
       "4                                                       2014-05-29T07:46:19Z   \n",
       "...                                                ...                   ...   \n",
       "35801                                             None  2014-01-01T00:33:42Z   \n",
       "35802                                                   2014-01-01T00:19:47Z   \n",
       "35803                                             None  2014-01-01T00:11:06Z   \n",
       "35804  https:&#x2F;&#x2F;fundraising.mozilla.org&#x2F;  2014-01-01T00:06:59Z   \n",
       "35805                                                   2014-01-01T00:01:00Z   \n",
       "\n",
       "       tags                                              title objectId  \n",
       "0      None  Are we getting too Sassy? Weighing up micro-op...  7815238  \n",
       "1      None  Telemba Turns Your Old Roomba and Tablet Into ...  7815234  \n",
       "2      None           Apple Agrees to Buy Beats for $3 Billion  7815230  \n",
       "3      None                         Don’t wait for inspiration  7815222  \n",
       "4      None  HackerOne Get $9M In Series A Funding To Build...  7815191  \n",
       "...     ...                                                ...      ...  \n",
       "35801  None                                  Engelbart and Kay  6993601  \n",
       "35802  None                   You Say Goodbye and We Say Hello  6993568  \n",
       "35803  None                                         Jesus e eu  6993544  \n",
       "35804  None  Mozilla end-of-year fundraising jumps from $75...  6993536  \n",
       "35805  None                        Collection Equality is Hard  6993523  \n",
       "\n",
       "[35806 rows x 9 columns]"
      ]
     },
     "execution_count": 60,
     "metadata": {},
     "output_type": "execute_result"
    }
   ],
   "source": [
    "cleaned_tags = tags.apply(lambda element: element[-1] if len(element) == 4 else None)\n",
    "hn_df['tags'] = cleaned_tags\n",
    "hn_df"
   ]
  },
  {
   "cell_type": "markdown",
   "metadata": {},
   "source": [
    "## Working with missing data\n",
    "\n",
    "Aprender a trabajar con datos incompletos sin eliminar columnas o filas"
   ]
  },
  {
   "cell_type": "markdown",
   "metadata": {},
   "source": [
    "Recordamos cómo contar datos incompletos."
   ]
  },
  {
   "cell_type": "code",
   "execution_count": 61,
   "metadata": {},
   "outputs": [
    {
     "name": "stdout",
     "output_type": "stream",
     "text": [
      "     A   B   C\n",
      "0  NaN NaN NaN\n",
      "1  1.0 NaN NaN\n",
      "2  1.0 NaN NaN\n"
     ]
    }
   ],
   "source": [
    "data = np.random.choice([1.0, np.nan],\n",
    "                        size=(3, 3),\n",
    "                        p=[.3, .7])\n",
    "df = pd.DataFrame(data, columns=['A','B','C'])\n",
    "print(df)"
   ]
  },
  {
   "cell_type": "code",
   "execution_count": 62,
   "metadata": {},
   "outputs": [
    {
     "name": "stdout",
     "output_type": "stream",
     "text": [
      "       A     B     C\n",
      "0   True  True  True\n",
      "1  False  True  True\n",
      "2  False  True  True\n"
     ]
    }
   ],
   "source": [
    "print(df.isnull())"
   ]
  },
  {
   "cell_type": "code",
   "execution_count": 63,
   "metadata": {},
   "outputs": [
    {
     "name": "stdout",
     "output_type": "stream",
     "text": [
      "A    1\n",
      "B    3\n",
      "C    3\n",
      "dtype: int64\n"
     ]
    }
   ],
   "source": [
    "print(df.isnull().sum())"
   ]
  },
  {
   "cell_type": "markdown",
   "metadata": {},
   "source": [
    "El resultado de esto es una serie"
   ]
  },
  {
   "cell_type": "markdown",
   "metadata": {},
   "source": [
    "Ahora para el dataset de motor vehicle collisions released by New York City and published on the NYC OpenData website."
   ]
  },
  {
   "cell_type": "code",
   "execution_count": 64,
   "metadata": {},
   "outputs": [
    {
     "name": "stdout",
     "output_type": "stream",
     "text": [
      "unique_key                 0\n",
      "date                       0\n",
      "time                       0\n",
      "borough                20646\n",
      "location                3885\n",
      "on_street              13961\n",
      "cross_street           29249\n",
      "off_street             44093\n",
      "pedestrians_injured        0\n",
      "cyclist_injured            0\n",
      "motorist_injured           0\n",
      "total_injured              1\n",
      "pedestrians_killed         0\n",
      "cyclist_killed             0\n",
      "motorist_killed            0\n",
      "total_killed               5\n",
      "vehicle_1                355\n",
      "vehicle_2              12262\n",
      "vehicle_3              54352\n",
      "vehicle_4              57158\n",
      "vehicle_5              57681\n",
      "cause_vehicle_1          175\n",
      "cause_vehicle_2         8692\n",
      "cause_vehicle_3        54134\n",
      "cause_vehicle_4        57111\n",
      "cause_vehicle_5        57671\n",
      "dtype: int64\n"
     ]
    }
   ],
   "source": [
    "import pandas as pd\n",
    "mvc = pd.read_csv(\"nypd_mvc_2018.csv\")\n",
    "\n",
    "\n",
    "null_counts = mvc.isnull().sum()\n",
    "print(null_counts)"
   ]
  },
  {
   "cell_type": "markdown",
   "metadata": {},
   "source": [
    "Porcentaje de null en cada columna"
   ]
  },
  {
   "cell_type": "code",
   "execution_count": 65,
   "metadata": {},
   "outputs": [
    {
     "name": "stdout",
     "output_type": "stream",
     "text": [
      "unique_key              0.000000\n",
      "date                    0.000000\n",
      "time                    0.000000\n",
      "borough                35.680216\n",
      "location                6.714019\n",
      "on_street              24.127264\n",
      "cross_street           50.547836\n",
      "off_street             76.201092\n",
      "pedestrians_injured     0.000000\n",
      "cyclist_injured         0.000000\n",
      "motorist_injured        0.000000\n",
      "total_injured           0.001728\n",
      "pedestrians_killed      0.000000\n",
      "cyclist_killed          0.000000\n",
      "motorist_killed         0.000000\n",
      "total_killed            0.008641\n",
      "vehicle_1               0.613508\n",
      "vehicle_2              21.191069\n",
      "vehicle_3              93.930596\n",
      "vehicle_4              98.779898\n",
      "vehicle_5              99.683741\n",
      "cause_vehicle_1         0.302433\n",
      "cause_vehicle_2        15.021430\n",
      "cause_vehicle_3        93.553850\n",
      "cause_vehicle_4        98.698673\n",
      "cause_vehicle_5        99.666459\n",
      "dtype: float64\n"
     ]
    }
   ],
   "source": [
    "null_counts_pct = null_counts / mvc.shape[0] * 100\n",
    "print(null_counts_pct)"
   ]
  },
  {
   "cell_type": "code",
   "execution_count": 66,
   "metadata": {},
   "outputs": [
    {
     "data": {
      "text/html": [
       "<div>\n",
       "<style scoped>\n",
       "    .dataframe tbody tr th:only-of-type {\n",
       "        vertical-align: middle;\n",
       "    }\n",
       "\n",
       "    .dataframe tbody tr th {\n",
       "        vertical-align: top;\n",
       "    }\n",
       "\n",
       "    .dataframe thead th {\n",
       "        text-align: right;\n",
       "    }\n",
       "</style>\n",
       "<table border=\"1\" class=\"dataframe\">\n",
       "  <thead>\n",
       "    <tr style=\"text-align: right;\">\n",
       "      <th></th>\n",
       "      <th>unique_key</th>\n",
       "      <th>date</th>\n",
       "      <th>time</th>\n",
       "      <th>borough</th>\n",
       "      <th>location</th>\n",
       "      <th>on_street</th>\n",
       "      <th>cross_street</th>\n",
       "      <th>off_street</th>\n",
       "      <th>pedestrians_injured</th>\n",
       "      <th>cyclist_injured</th>\n",
       "      <th>...</th>\n",
       "      <th>vehicle_1</th>\n",
       "      <th>vehicle_2</th>\n",
       "      <th>vehicle_3</th>\n",
       "      <th>vehicle_4</th>\n",
       "      <th>vehicle_5</th>\n",
       "      <th>cause_vehicle_1</th>\n",
       "      <th>cause_vehicle_2</th>\n",
       "      <th>cause_vehicle_3</th>\n",
       "      <th>cause_vehicle_4</th>\n",
       "      <th>cause_vehicle_5</th>\n",
       "    </tr>\n",
       "  </thead>\n",
       "  <tbody>\n",
       "    <tr>\n",
       "      <th>null_counts</th>\n",
       "      <td>0</td>\n",
       "      <td>0</td>\n",
       "      <td>0</td>\n",
       "      <td>20646</td>\n",
       "      <td>3885</td>\n",
       "      <td>13961</td>\n",
       "      <td>29249</td>\n",
       "      <td>44093</td>\n",
       "      <td>0</td>\n",
       "      <td>0</td>\n",
       "      <td>...</td>\n",
       "      <td>355</td>\n",
       "      <td>12262</td>\n",
       "      <td>54352</td>\n",
       "      <td>57158</td>\n",
       "      <td>57681</td>\n",
       "      <td>175</td>\n",
       "      <td>8692</td>\n",
       "      <td>54134</td>\n",
       "      <td>57111</td>\n",
       "      <td>57671</td>\n",
       "    </tr>\n",
       "    <tr>\n",
       "      <th>null_pct</th>\n",
       "      <td>0</td>\n",
       "      <td>0</td>\n",
       "      <td>0</td>\n",
       "      <td>35</td>\n",
       "      <td>6</td>\n",
       "      <td>24</td>\n",
       "      <td>50</td>\n",
       "      <td>76</td>\n",
       "      <td>0</td>\n",
       "      <td>0</td>\n",
       "      <td>...</td>\n",
       "      <td>0</td>\n",
       "      <td>21</td>\n",
       "      <td>93</td>\n",
       "      <td>98</td>\n",
       "      <td>99</td>\n",
       "      <td>0</td>\n",
       "      <td>15</td>\n",
       "      <td>93</td>\n",
       "      <td>98</td>\n",
       "      <td>99</td>\n",
       "    </tr>\n",
       "  </tbody>\n",
       "</table>\n",
       "<p>2 rows × 26 columns</p>\n",
       "</div>"
      ],
      "text/plain": [
       "             unique_key  date  time  borough  location  on_street  \\\n",
       "null_counts           0     0     0    20646      3885      13961   \n",
       "null_pct              0     0     0       35         6         24   \n",
       "\n",
       "             cross_street  off_street  pedestrians_injured  cyclist_injured  \\\n",
       "null_counts         29249       44093                    0                0   \n",
       "null_pct               50          76                    0                0   \n",
       "\n",
       "             ...  vehicle_1  vehicle_2  vehicle_3  vehicle_4  vehicle_5  \\\n",
       "null_counts  ...        355      12262      54352      57158      57681   \n",
       "null_pct     ...          0         21         93         98         99   \n",
       "\n",
       "             cause_vehicle_1  cause_vehicle_2  cause_vehicle_3  \\\n",
       "null_counts              175             8692            54134   \n",
       "null_pct                   0               15               93   \n",
       "\n",
       "             cause_vehicle_4  cause_vehicle_5  \n",
       "null_counts            57111            57671  \n",
       "null_pct                  98               99  \n",
       "\n",
       "[2 rows x 26 columns]"
      ]
     },
     "execution_count": 66,
     "metadata": {},
     "output_type": "execute_result"
    }
   ],
   "source": [
    "null_df = pd.DataFrame({'null_counts': null_counts, 'null_pct': null_counts_pct})\n",
    "# Rotate the dataframe so that rows become columns and vice-versa\n",
    "null_df = null_df.T.astype(int)\n",
    "null_df"
   ]
  },
  {
   "cell_type": "code",
   "execution_count": 67,
   "metadata": {},
   "outputs": [
    {
     "data": {
      "text/html": [
       "<div>\n",
       "<style scoped>\n",
       "    .dataframe tbody tr th:only-of-type {\n",
       "        vertical-align: middle;\n",
       "    }\n",
       "\n",
       "    .dataframe tbody tr th {\n",
       "        vertical-align: top;\n",
       "    }\n",
       "\n",
       "    .dataframe thead th {\n",
       "        text-align: right;\n",
       "    }\n",
       "</style>\n",
       "<table border=\"1\" class=\"dataframe\">\n",
       "  <thead>\n",
       "    <tr style=\"text-align: right;\">\n",
       "      <th></th>\n",
       "      <th>pedestrians_killed</th>\n",
       "      <th>cyclist_killed</th>\n",
       "      <th>motorist_killed</th>\n",
       "      <th>total_killed</th>\n",
       "    </tr>\n",
       "  </thead>\n",
       "  <tbody>\n",
       "    <tr>\n",
       "      <th>null_counts</th>\n",
       "      <td>0</td>\n",
       "      <td>0</td>\n",
       "      <td>0</td>\n",
       "      <td>5</td>\n",
       "    </tr>\n",
       "    <tr>\n",
       "      <th>null_pct</th>\n",
       "      <td>0</td>\n",
       "      <td>0</td>\n",
       "      <td>0</td>\n",
       "      <td>0</td>\n",
       "    </tr>\n",
       "  </tbody>\n",
       "</table>\n",
       "</div>"
      ],
      "text/plain": [
       "             pedestrians_killed  cyclist_killed  motorist_killed  total_killed\n",
       "null_counts                   0               0                0             5\n",
       "null_pct                      0               0                0             0"
      ]
     },
     "execution_count": 67,
     "metadata": {},
     "output_type": "execute_result"
    }
   ],
   "source": [
    "killed_cols = [col for col in mvc.columns if 'killed' in col]\n",
    "null_df[killed_cols]"
   ]
  },
  {
   "cell_type": "markdown",
   "metadata": {},
   "source": [
    "Vemos que aunque no haya null en cada sumando, el total si tiene algún null.\n",
    "En vez de eliminar la columna podemos repararla.\n",
    "Sumamos las tres columnas primeras y enmascaramos para ver en qué casos no se corresponde el resultado con la columna de total_killed"
   ]
  },
  {
   "cell_type": "code",
   "execution_count": 68,
   "metadata": {},
   "outputs": [],
   "source": [
    "killed_cols = [col for col in mvc.columns if 'killed' in col]\n",
    "killed = mvc[killed_cols].copy()\n",
    "\n",
    "killed_manual_sum = killed.iloc[:,:3].sum(axis=1)\n",
    "killed_mask = killed_manual_sum != killed['total_killed']\n",
    "killed_non_eq = killed[killed_mask]"
   ]
  },
  {
   "cell_type": "markdown",
   "metadata": {},
   "source": [
    "### Series.mask()\n",
    "\n",
    "Para sustituir datos según una máscara en una serie"
   ]
  },
  {
   "cell_type": "markdown",
   "metadata": {},
   "source": [
    "![title](imagenes/mask.png)"
   ]
  },
  {
   "cell_type": "markdown",
   "metadata": {},
   "source": [
    "En el data set de los accidentes hay algunas filas que en el total tienen NaN y otras que tienen un número distinto a la suma.\n",
    "\n",
    "Los que tienen NaN en el total se ponen con la suma de las tres primeras columnas.\n",
    "Los que tienen un valor incorrecto se pone NaN porque es posible que sean datos erróneos."
   ]
  },
  {
   "cell_type": "code",
   "execution_count": 69,
   "metadata": {},
   "outputs": [],
   "source": [
    "# fix the killed values\n",
    "killed['total_killed'] = killed['total_killed'].mask(killed['total_killed'].isnull(), killed_manual_sum)\n",
    "killed['total_killed'] = killed['total_killed'].mask(killed['total_killed'] != killed_manual_sum, np.nan)\n"
   ]
  },
  {
   "cell_type": "markdown",
   "metadata": {},
   "source": [
    "Se hace lo mismo para las columnas de injured"
   ]
  },
  {
   "cell_type": "code",
   "execution_count": 70,
   "metadata": {},
   "outputs": [],
   "source": [
    "\n",
    "# Create an injured dataframe and manually sum values\n",
    "injured = mvc[[col for col in mvc.columns if 'injured' in col]].copy()\n",
    "injured_manual_sum = injured.iloc[:,:3].sum(axis=1)\n",
    "\n",
    "injured['total_injured'] = injured['total_injured'].mask(injured['total_injured'].isnull(), injured_manual_sum)\n",
    "injured['total_injured'] = injured['total_injured'].mask(injured['total_injured'] != injured_manual_sum, np.nan)"
   ]
  },
  {
   "cell_type": "markdown",
   "metadata": {},
   "source": [
    "Podemos ver el cambio de antes y despúes generando un dataframe así:"
   ]
  },
  {
   "cell_type": "code",
   "execution_count": 71,
   "metadata": {},
   "outputs": [
    {
     "data": {
      "text/html": [
       "<div>\n",
       "<style scoped>\n",
       "    .dataframe tbody tr th:only-of-type {\n",
       "        vertical-align: middle;\n",
       "    }\n",
       "\n",
       "    .dataframe tbody tr th {\n",
       "        vertical-align: top;\n",
       "    }\n",
       "\n",
       "    .dataframe thead th {\n",
       "        text-align: right;\n",
       "    }\n",
       "</style>\n",
       "<table border=\"1\" class=\"dataframe\">\n",
       "  <thead>\n",
       "    <tr style=\"text-align: right;\">\n",
       "      <th></th>\n",
       "      <th>injured</th>\n",
       "      <th>killed</th>\n",
       "    </tr>\n",
       "  </thead>\n",
       "  <tbody>\n",
       "    <tr>\n",
       "      <th>before</th>\n",
       "      <td>1</td>\n",
       "      <td>5</td>\n",
       "    </tr>\n",
       "    <tr>\n",
       "      <th>after</th>\n",
       "      <td>21</td>\n",
       "      <td>1</td>\n",
       "    </tr>\n",
       "  </tbody>\n",
       "</table>\n",
       "</div>"
      ],
      "text/plain": [
       "        injured  killed\n",
       "before        1       5\n",
       "after        21       1"
      ]
     },
     "execution_count": 71,
     "metadata": {},
     "output_type": "execute_result"
    }
   ],
   "source": [
    "summary = {\n",
    "    'injured': [\n",
    "        mvc['total_injured'].isnull().sum(),\n",
    "        injured['total_injured'].isnull().sum()\n",
    "    ],\n",
    "    'killed': [\n",
    "        mvc['total_killed'].isnull().sum(),\n",
    "        killed['total_killed'].isnull().sum()\n",
    "    ]\n",
    "}\n",
    "pd.DataFrame(summary, index=['before','after'])"
   ]
  },
  {
   "cell_type": "markdown",
   "metadata": {},
   "source": [
    "Lo asignamos al dataframe original"
   ]
  },
  {
   "cell_type": "code",
   "execution_count": 72,
   "metadata": {},
   "outputs": [],
   "source": [
    "mvc['total_injured'] = injured['total_injured']\n",
    "mvc['total_killed'] = killed['total_killed']"
   ]
  },
  {
   "cell_type": "markdown",
   "metadata": {},
   "source": [
    "### Heatmap para ver los missing values fácilmente"
   ]
  },
  {
   "cell_type": "code",
   "execution_count": 73,
   "metadata": {},
   "outputs": [],
   "source": [
    "import matplotlib.pyplot as plt\n",
    "import seaborn as sns"
   ]
  },
  {
   "cell_type": "code",
   "execution_count": 74,
   "metadata": {},
   "outputs": [],
   "source": [
    "def plot_null_matrix(df, figsize=(18,15)):\n",
    "    # initiate the figure\n",
    "    plt.figure(figsize=figsize)\n",
    "    # create a boolean dataframe based on whether values are null\n",
    "    df_null = df.isnull()\n",
    "    # create a heatmap of the boolean dataframe\n",
    "    sns.heatmap(df_null, cbar=False, yticklabels=False)\n",
    "    #En dataquest el dataframe está negado pero aquí el color sale al revés de lo que se pretende\n",
    "    #sns.heatmap(~df_null, cbar=False, yticklabels=False)\n",
    "    plt.xticks(rotation=90, size='x-large')\n",
    "    plt.show()"
   ]
  },
  {
   "cell_type": "code",
   "execution_count": 75,
   "metadata": {},
   "outputs": [
    {
     "data": {
      "image/png": "[encoded data removed]",
      "text/plain": [
       "<Figure size 1296x72 with 1 Axes>"
      ]
     },
     "metadata": {
      "needs_background": "light"
     },
     "output_type": "display_data"
    }
   ],
   "source": [
    "plot_null_matrix(mvc.head(1), figsize=(18,1))"
   ]
  },
  {
   "cell_type": "markdown",
   "metadata": {},
   "source": [
    "Esta es la misma fila pero con los datos reales"
   ]
  },
  {
   "cell_type": "code",
   "execution_count": 76,
   "metadata": {},
   "outputs": [
    {
     "data": {
      "text/html": [
       "<div>\n",
       "<style scoped>\n",
       "    .dataframe tbody tr th:only-of-type {\n",
       "        vertical-align: middle;\n",
       "    }\n",
       "\n",
       "    .dataframe tbody tr th {\n",
       "        vertical-align: top;\n",
       "    }\n",
       "\n",
       "    .dataframe thead th {\n",
       "        text-align: right;\n",
       "    }\n",
       "</style>\n",
       "<table border=\"1\" class=\"dataframe\">\n",
       "  <thead>\n",
       "    <tr style=\"text-align: right;\">\n",
       "      <th></th>\n",
       "      <th>unique_key</th>\n",
       "      <th>date</th>\n",
       "      <th>time</th>\n",
       "      <th>borough</th>\n",
       "      <th>location</th>\n",
       "      <th>on_street</th>\n",
       "      <th>cross_street</th>\n",
       "      <th>off_street</th>\n",
       "      <th>pedestrians_injured</th>\n",
       "      <th>cyclist_injured</th>\n",
       "      <th>...</th>\n",
       "      <th>vehicle_1</th>\n",
       "      <th>vehicle_2</th>\n",
       "      <th>vehicle_3</th>\n",
       "      <th>vehicle_4</th>\n",
       "      <th>vehicle_5</th>\n",
       "      <th>cause_vehicle_1</th>\n",
       "      <th>cause_vehicle_2</th>\n",
       "      <th>cause_vehicle_3</th>\n",
       "      <th>cause_vehicle_4</th>\n",
       "      <th>cause_vehicle_5</th>\n",
       "    </tr>\n",
       "  </thead>\n",
       "  <tbody>\n",
       "    <tr>\n",
       "      <th>0</th>\n",
       "      <td>3869058</td>\n",
       "      <td>2018-03-23</td>\n",
       "      <td>21:40</td>\n",
       "      <td>MANHATTAN</td>\n",
       "      <td>(40.742832, -74.00771)</td>\n",
       "      <td>WEST 15 STREET</td>\n",
       "      <td>10 AVENUE</td>\n",
       "      <td>NaN</td>\n",
       "      <td>0</td>\n",
       "      <td>0</td>\n",
       "      <td>...</td>\n",
       "      <td>PASSENGER VEHICLE</td>\n",
       "      <td>NaN</td>\n",
       "      <td>NaN</td>\n",
       "      <td>NaN</td>\n",
       "      <td>NaN</td>\n",
       "      <td>Following Too Closely</td>\n",
       "      <td>Unspecified</td>\n",
       "      <td>NaN</td>\n",
       "      <td>NaN</td>\n",
       "      <td>NaN</td>\n",
       "    </tr>\n",
       "  </tbody>\n",
       "</table>\n",
       "<p>1 rows × 26 columns</p>\n",
       "</div>"
      ],
      "text/plain": [
       "   unique_key        date   time    borough                location  \\\n",
       "0     3869058  2018-03-23  21:40  MANHATTAN  (40.742832, -74.00771)   \n",
       "\n",
       "                          on_street cross_street off_street  \\\n",
       "0  WEST 15 STREET                      10 AVENUE        NaN   \n",
       "\n",
       "   pedestrians_injured  cyclist_injured  ...          vehicle_1  vehicle_2  \\\n",
       "0                    0                0  ...  PASSENGER VEHICLE        NaN   \n",
       "\n",
       "   vehicle_3  vehicle_4  vehicle_5        cause_vehicle_1 cause_vehicle_2  \\\n",
       "0        NaN        NaN        NaN  Following Too Closely     Unspecified   \n",
       "\n",
       "  cause_vehicle_3 cause_vehicle_4 cause_vehicle_5  \n",
       "0             NaN             NaN             NaN  \n",
       "\n",
       "[1 rows x 26 columns]"
      ]
     },
     "execution_count": 76,
     "metadata": {},
     "output_type": "execute_result"
    }
   ],
   "source": [
    "mvc.head(1)"
   ]
  },
  {
   "cell_type": "code",
   "execution_count": 77,
   "metadata": {},
   "outputs": [
    {
     "data": {
      "image/png": "[encoded data removed]",
      "text/plain": [
       "<Figure size 1296x1080 with 1 Axes>"
      ]
     },
     "metadata": {
      "needs_background": "light"
     },
     "output_type": "display_data"
    }
   ],
   "source": [
    "plot_null_matrix(mvc)"
   ]
  },
  {
   "cell_type": "markdown",
   "metadata": {},
   "source": [
    "We can make some immediate interpretations about our dataframe:\n",
    "\n",
    "- The first three columns have few to no missing values.\n",
    "- The next five columns have missing values scattered throughout, with each column seeming to have its own density of missing values.\n",
    "- The next eight columns are the injury and killed columns we just cleaned, and only have a few missing values.\n",
    "- The last 10 columns seem to break into two groups of five, with each group of five having similar patterns of null/non-null values.\n"
   ]
  },
  {
   "cell_type": "markdown",
   "metadata": {},
   "source": [
    "### Matriz de correlación\n",
    "Podemos estudiar la relación entre las columnas con la matriz de correlacion"
   ]
  },
  {
   "cell_type": "code",
   "execution_count": 78,
   "metadata": {},
   "outputs": [
    {
     "data": {
      "text/html": [
       "<div>\n",
       "<style scoped>\n",
       "    .dataframe tbody tr th:only-of-type {\n",
       "        vertical-align: middle;\n",
       "    }\n",
       "\n",
       "    .dataframe tbody tr th {\n",
       "        vertical-align: top;\n",
       "    }\n",
       "\n",
       "    .dataframe thead th {\n",
       "        text-align: right;\n",
       "    }\n",
       "</style>\n",
       "<table border=\"1\" class=\"dataframe\">\n",
       "  <thead>\n",
       "    <tr style=\"text-align: right;\">\n",
       "      <th></th>\n",
       "      <th>borough</th>\n",
       "      <th>location</th>\n",
       "      <th>on_street</th>\n",
       "      <th>cross_street</th>\n",
       "      <th>off_street</th>\n",
       "      <th>total_injured</th>\n",
       "      <th>total_killed</th>\n",
       "      <th>vehicle_1</th>\n",
       "      <th>vehicle_2</th>\n",
       "      <th>vehicle_3</th>\n",
       "      <th>vehicle_4</th>\n",
       "      <th>vehicle_5</th>\n",
       "      <th>cause_vehicle_1</th>\n",
       "      <th>cause_vehicle_2</th>\n",
       "      <th>cause_vehicle_3</th>\n",
       "      <th>cause_vehicle_4</th>\n",
       "      <th>cause_vehicle_5</th>\n",
       "    </tr>\n",
       "  </thead>\n",
       "  <tbody>\n",
       "    <tr>\n",
       "      <th>borough</th>\n",
       "      <td>1.000000</td>\n",
       "      <td>0.190105</td>\n",
       "      <td>-0.350190</td>\n",
       "      <td>0.409107</td>\n",
       "      <td>0.362189</td>\n",
       "      <td>-0.002827</td>\n",
       "      <td>0.005582</td>\n",
       "      <td>-0.018325</td>\n",
       "      <td>-0.077516</td>\n",
       "      <td>-0.061932</td>\n",
       "      <td>-0.020406</td>\n",
       "      <td>-0.010733</td>\n",
       "      <td>-0.012115</td>\n",
       "      <td>-0.058596</td>\n",
       "      <td>-0.060542</td>\n",
       "      <td>-0.020158</td>\n",
       "      <td>-0.011348</td>\n",
       "    </tr>\n",
       "    <tr>\n",
       "      <th>location</th>\n",
       "      <td>0.190105</td>\n",
       "      <td>1.000000</td>\n",
       "      <td>-0.073975</td>\n",
       "      <td>-0.069719</td>\n",
       "      <td>0.084579</td>\n",
       "      <td>-0.001486</td>\n",
       "      <td>0.015496</td>\n",
       "      <td>-0.010466</td>\n",
       "      <td>-0.033842</td>\n",
       "      <td>-0.000927</td>\n",
       "      <td>0.004655</td>\n",
       "      <td>-0.005797</td>\n",
       "      <td>-0.003458</td>\n",
       "      <td>-0.021373</td>\n",
       "      <td>0.000684</td>\n",
       "      <td>0.004604</td>\n",
       "      <td>-0.004841</td>\n",
       "    </tr>\n",
       "    <tr>\n",
       "      <th>on_street</th>\n",
       "      <td>-0.350190</td>\n",
       "      <td>-0.073975</td>\n",
       "      <td>1.000000</td>\n",
       "      <td>0.557767</td>\n",
       "      <td>-0.991030</td>\n",
       "      <td>0.006220</td>\n",
       "      <td>-0.002344</td>\n",
       "      <td>-0.001889</td>\n",
       "      <td>0.119647</td>\n",
       "      <td>0.020867</td>\n",
       "      <td>0.004172</td>\n",
       "      <td>-0.002768</td>\n",
       "      <td>0.001307</td>\n",
       "      <td>0.087374</td>\n",
       "      <td>0.017426</td>\n",
       "      <td>0.002737</td>\n",
       "      <td>-0.003107</td>\n",
       "    </tr>\n",
       "    <tr>\n",
       "      <th>cross_street</th>\n",
       "      <td>0.409107</td>\n",
       "      <td>-0.069719</td>\n",
       "      <td>0.557767</td>\n",
       "      <td>1.000000</td>\n",
       "      <td>-0.552763</td>\n",
       "      <td>0.002513</td>\n",
       "      <td>0.004112</td>\n",
       "      <td>-0.017018</td>\n",
       "      <td>0.043799</td>\n",
       "      <td>-0.049910</td>\n",
       "      <td>-0.021137</td>\n",
       "      <td>-0.012003</td>\n",
       "      <td>-0.009102</td>\n",
       "      <td>0.031189</td>\n",
       "      <td>-0.052159</td>\n",
       "      <td>-0.022074</td>\n",
       "      <td>-0.013455</td>\n",
       "    </tr>\n",
       "    <tr>\n",
       "      <th>off_street</th>\n",
       "      <td>0.362189</td>\n",
       "      <td>0.084579</td>\n",
       "      <td>-0.991030</td>\n",
       "      <td>-0.552763</td>\n",
       "      <td>1.000000</td>\n",
       "      <td>-0.004266</td>\n",
       "      <td>0.002323</td>\n",
       "      <td>0.001812</td>\n",
       "      <td>-0.121129</td>\n",
       "      <td>-0.022404</td>\n",
       "      <td>-0.004074</td>\n",
       "      <td>0.002492</td>\n",
       "      <td>-0.001738</td>\n",
       "      <td>-0.088187</td>\n",
       "      <td>-0.019120</td>\n",
       "      <td>-0.002580</td>\n",
       "      <td>0.002863</td>\n",
       "    </tr>\n",
       "    <tr>\n",
       "      <th>total_injured</th>\n",
       "      <td>-0.002827</td>\n",
       "      <td>-0.001486</td>\n",
       "      <td>0.006220</td>\n",
       "      <td>0.002513</td>\n",
       "      <td>-0.004266</td>\n",
       "      <td>1.000000</td>\n",
       "      <td>-0.000079</td>\n",
       "      <td>0.079840</td>\n",
       "      <td>0.025644</td>\n",
       "      <td>-0.002757</td>\n",
       "      <td>0.002118</td>\n",
       "      <td>0.001073</td>\n",
       "      <td>0.131140</td>\n",
       "      <td>0.030082</td>\n",
       "      <td>-0.002388</td>\n",
       "      <td>0.002188</td>\n",
       "      <td>0.001102</td>\n",
       "    </tr>\n",
       "    <tr>\n",
       "      <th>total_killed</th>\n",
       "      <td>0.005582</td>\n",
       "      <td>0.015496</td>\n",
       "      <td>-0.002344</td>\n",
       "      <td>0.004112</td>\n",
       "      <td>0.002323</td>\n",
       "      <td>-0.000079</td>\n",
       "      <td>1.000000</td>\n",
       "      <td>-0.000327</td>\n",
       "      <td>0.008017</td>\n",
       "      <td>0.001057</td>\n",
       "      <td>0.000462</td>\n",
       "      <td>0.000234</td>\n",
       "      <td>-0.000229</td>\n",
       "      <td>0.009888</td>\n",
       "      <td>0.001091</td>\n",
       "      <td>0.000477</td>\n",
       "      <td>0.000240</td>\n",
       "    </tr>\n",
       "    <tr>\n",
       "      <th>vehicle_1</th>\n",
       "      <td>-0.018325</td>\n",
       "      <td>-0.010466</td>\n",
       "      <td>-0.001889</td>\n",
       "      <td>-0.017018</td>\n",
       "      <td>0.001812</td>\n",
       "      <td>0.079840</td>\n",
       "      <td>-0.000327</td>\n",
       "      <td>1.000000</td>\n",
       "      <td>0.151516</td>\n",
       "      <td>0.019972</td>\n",
       "      <td>0.008732</td>\n",
       "      <td>0.004425</td>\n",
       "      <td>0.604281</td>\n",
       "      <td>0.180678</td>\n",
       "      <td>0.020624</td>\n",
       "      <td>0.009022</td>\n",
       "      <td>0.004545</td>\n",
       "    </tr>\n",
       "    <tr>\n",
       "      <th>vehicle_2</th>\n",
       "      <td>-0.077516</td>\n",
       "      <td>-0.033842</td>\n",
       "      <td>0.119647</td>\n",
       "      <td>0.043799</td>\n",
       "      <td>-0.121129</td>\n",
       "      <td>0.025644</td>\n",
       "      <td>0.008017</td>\n",
       "      <td>0.151516</td>\n",
       "      <td>1.000000</td>\n",
       "      <td>0.131813</td>\n",
       "      <td>0.057631</td>\n",
       "      <td>0.029208</td>\n",
       "      <td>0.106214</td>\n",
       "      <td>0.784402</td>\n",
       "      <td>0.132499</td>\n",
       "      <td>0.058050</td>\n",
       "      <td>0.029264</td>\n",
       "    </tr>\n",
       "    <tr>\n",
       "      <th>vehicle_3</th>\n",
       "      <td>-0.061932</td>\n",
       "      <td>-0.000927</td>\n",
       "      <td>0.020867</td>\n",
       "      <td>-0.049910</td>\n",
       "      <td>-0.022404</td>\n",
       "      <td>-0.002757</td>\n",
       "      <td>0.001057</td>\n",
       "      <td>0.019972</td>\n",
       "      <td>0.131813</td>\n",
       "      <td>1.000000</td>\n",
       "      <td>0.437214</td>\n",
       "      <td>0.221585</td>\n",
       "      <td>0.014000</td>\n",
       "      <td>0.106874</td>\n",
       "      <td>0.961316</td>\n",
       "      <td>0.448525</td>\n",
       "      <td>0.225067</td>\n",
       "    </tr>\n",
       "    <tr>\n",
       "      <th>vehicle_4</th>\n",
       "      <td>-0.020406</td>\n",
       "      <td>0.004655</td>\n",
       "      <td>0.004172</td>\n",
       "      <td>-0.021137</td>\n",
       "      <td>-0.004074</td>\n",
       "      <td>0.002118</td>\n",
       "      <td>0.000462</td>\n",
       "      <td>0.008732</td>\n",
       "      <td>0.057631</td>\n",
       "      <td>0.437214</td>\n",
       "      <td>1.000000</td>\n",
       "      <td>0.506810</td>\n",
       "      <td>0.006121</td>\n",
       "      <td>0.046727</td>\n",
       "      <td>0.423394</td>\n",
       "      <td>0.963723</td>\n",
       "      <td>0.515058</td>\n",
       "    </tr>\n",
       "    <tr>\n",
       "      <th>vehicle_5</th>\n",
       "      <td>-0.010733</td>\n",
       "      <td>-0.005797</td>\n",
       "      <td>-0.002768</td>\n",
       "      <td>-0.012003</td>\n",
       "      <td>0.002492</td>\n",
       "      <td>0.001073</td>\n",
       "      <td>0.000234</td>\n",
       "      <td>0.004425</td>\n",
       "      <td>0.029208</td>\n",
       "      <td>0.221585</td>\n",
       "      <td>0.506810</td>\n",
       "      <td>1.000000</td>\n",
       "      <td>0.003102</td>\n",
       "      <td>0.023682</td>\n",
       "      <td>0.214580</td>\n",
       "      <td>0.490537</td>\n",
       "      <td>0.973664</td>\n",
       "    </tr>\n",
       "    <tr>\n",
       "      <th>cause_vehicle_1</th>\n",
       "      <td>-0.012115</td>\n",
       "      <td>-0.003458</td>\n",
       "      <td>0.001307</td>\n",
       "      <td>-0.009102</td>\n",
       "      <td>-0.001738</td>\n",
       "      <td>0.131140</td>\n",
       "      <td>-0.000229</td>\n",
       "      <td>0.604281</td>\n",
       "      <td>0.106214</td>\n",
       "      <td>0.014000</td>\n",
       "      <td>0.006121</td>\n",
       "      <td>0.003102</td>\n",
       "      <td>1.000000</td>\n",
       "      <td>0.131000</td>\n",
       "      <td>0.014457</td>\n",
       "      <td>0.006324</td>\n",
       "      <td>0.003186</td>\n",
       "    </tr>\n",
       "    <tr>\n",
       "      <th>cause_vehicle_2</th>\n",
       "      <td>-0.058596</td>\n",
       "      <td>-0.021373</td>\n",
       "      <td>0.087374</td>\n",
       "      <td>0.031189</td>\n",
       "      <td>-0.088187</td>\n",
       "      <td>0.030082</td>\n",
       "      <td>0.009888</td>\n",
       "      <td>0.180678</td>\n",
       "      <td>0.784402</td>\n",
       "      <td>0.106874</td>\n",
       "      <td>0.046727</td>\n",
       "      <td>0.023682</td>\n",
       "      <td>0.131000</td>\n",
       "      <td>1.000000</td>\n",
       "      <td>0.110362</td>\n",
       "      <td>0.048277</td>\n",
       "      <td>0.024322</td>\n",
       "    </tr>\n",
       "    <tr>\n",
       "      <th>cause_vehicle_3</th>\n",
       "      <td>-0.060542</td>\n",
       "      <td>0.000684</td>\n",
       "      <td>0.017426</td>\n",
       "      <td>-0.052159</td>\n",
       "      <td>-0.019120</td>\n",
       "      <td>-0.002388</td>\n",
       "      <td>0.001091</td>\n",
       "      <td>0.020624</td>\n",
       "      <td>0.132499</td>\n",
       "      <td>0.961316</td>\n",
       "      <td>0.423394</td>\n",
       "      <td>0.214580</td>\n",
       "      <td>0.014457</td>\n",
       "      <td>0.110362</td>\n",
       "      <td>1.000000</td>\n",
       "      <td>0.437440</td>\n",
       "      <td>0.220384</td>\n",
       "    </tr>\n",
       "    <tr>\n",
       "      <th>cause_vehicle_4</th>\n",
       "      <td>-0.020158</td>\n",
       "      <td>0.004604</td>\n",
       "      <td>0.002737</td>\n",
       "      <td>-0.022074</td>\n",
       "      <td>-0.002580</td>\n",
       "      <td>0.002188</td>\n",
       "      <td>0.000477</td>\n",
       "      <td>0.009022</td>\n",
       "      <td>0.058050</td>\n",
       "      <td>0.448525</td>\n",
       "      <td>0.963723</td>\n",
       "      <td>0.490537</td>\n",
       "      <td>0.006324</td>\n",
       "      <td>0.048277</td>\n",
       "      <td>0.437440</td>\n",
       "      <td>1.000000</td>\n",
       "      <td>0.503805</td>\n",
       "    </tr>\n",
       "    <tr>\n",
       "      <th>cause_vehicle_5</th>\n",
       "      <td>-0.011348</td>\n",
       "      <td>-0.004841</td>\n",
       "      <td>-0.003107</td>\n",
       "      <td>-0.013455</td>\n",
       "      <td>0.002863</td>\n",
       "      <td>0.001102</td>\n",
       "      <td>0.000240</td>\n",
       "      <td>0.004545</td>\n",
       "      <td>0.029264</td>\n",
       "      <td>0.225067</td>\n",
       "      <td>0.515058</td>\n",
       "      <td>0.973664</td>\n",
       "      <td>0.003186</td>\n",
       "      <td>0.024322</td>\n",
       "      <td>0.220384</td>\n",
       "      <td>0.503805</td>\n",
       "      <td>1.000000</td>\n",
       "    </tr>\n",
       "  </tbody>\n",
       "</table>\n",
       "</div>"
      ],
      "text/plain": [
       "                  borough  location  on_street  cross_street  off_street  \\\n",
       "borough          1.000000  0.190105  -0.350190      0.409107    0.362189   \n",
       "location         0.190105  1.000000  -0.073975     -0.069719    0.084579   \n",
       "on_street       -0.350190 -0.073975   1.000000      0.557767   -0.991030   \n",
       "cross_street     0.409107 -0.069719   0.557767      1.000000   -0.552763   \n",
       "off_street       0.362189  0.084579  -0.991030     -0.552763    1.000000   \n",
       "total_injured   -0.002827 -0.001486   0.006220      0.002513   -0.004266   \n",
       "total_killed     0.005582  0.015496  -0.002344      0.004112    0.002323   \n",
       "vehicle_1       -0.018325 -0.010466  -0.001889     -0.017018    0.001812   \n",
       "vehicle_2       -0.077516 -0.033842   0.119647      0.043799   -0.121129   \n",
       "vehicle_3       -0.061932 -0.000927   0.020867     -0.049910   -0.022404   \n",
       "vehicle_4       -0.020406  0.004655   0.004172     -0.021137   -0.004074   \n",
       "vehicle_5       -0.010733 -0.005797  -0.002768     -0.012003    0.002492   \n",
       "cause_vehicle_1 -0.012115 -0.003458   0.001307     -0.009102   -0.001738   \n",
       "cause_vehicle_2 -0.058596 -0.021373   0.087374      0.031189   -0.088187   \n",
       "cause_vehicle_3 -0.060542  0.000684   0.017426     -0.052159   -0.019120   \n",
       "cause_vehicle_4 -0.020158  0.004604   0.002737     -0.022074   -0.002580   \n",
       "cause_vehicle_5 -0.011348 -0.004841  -0.003107     -0.013455    0.002863   \n",
       "\n",
       "                 total_injured  total_killed  vehicle_1  vehicle_2  vehicle_3  \\\n",
       "borough              -0.002827      0.005582  -0.018325  -0.077516  -0.061932   \n",
       "location             -0.001486      0.015496  -0.010466  -0.033842  -0.000927   \n",
       "on_street             0.006220     -0.002344  -0.001889   0.119647   0.020867   \n",
       "cross_street          0.002513      0.004112  -0.017018   0.043799  -0.049910   \n",
       "off_street           -0.004266      0.002323   0.001812  -0.121129  -0.022404   \n",
       "total_injured         1.000000     -0.000079   0.079840   0.025644  -0.002757   \n",
       "total_killed         -0.000079      1.000000  -0.000327   0.008017   0.001057   \n",
       "vehicle_1             0.079840     -0.000327   1.000000   0.151516   0.019972   \n",
       "vehicle_2             0.025644      0.008017   0.151516   1.000000   0.131813   \n",
       "vehicle_3            -0.002757      0.001057   0.019972   0.131813   1.000000   \n",
       "vehicle_4             0.002118      0.000462   0.008732   0.057631   0.437214   \n",
       "vehicle_5             0.001073      0.000234   0.004425   0.029208   0.221585   \n",
       "cause_vehicle_1       0.131140     -0.000229   0.604281   0.106214   0.014000   \n",
       "cause_vehicle_2       0.030082      0.009888   0.180678   0.784402   0.106874   \n",
       "cause_vehicle_3      -0.002388      0.001091   0.020624   0.132499   0.961316   \n",
       "cause_vehicle_4       0.002188      0.000477   0.009022   0.058050   0.448525   \n",
       "cause_vehicle_5       0.001102      0.000240   0.004545   0.029264   0.225067   \n",
       "\n",
       "                 vehicle_4  vehicle_5  cause_vehicle_1  cause_vehicle_2  \\\n",
       "borough          -0.020406  -0.010733        -0.012115        -0.058596   \n",
       "location          0.004655  -0.005797        -0.003458        -0.021373   \n",
       "on_street         0.004172  -0.002768         0.001307         0.087374   \n",
       "cross_street     -0.021137  -0.012003        -0.009102         0.031189   \n",
       "off_street       -0.004074   0.002492        -0.001738        -0.088187   \n",
       "total_injured     0.002118   0.001073         0.131140         0.030082   \n",
       "total_killed      0.000462   0.000234        -0.000229         0.009888   \n",
       "vehicle_1         0.008732   0.004425         0.604281         0.180678   \n",
       "vehicle_2         0.057631   0.029208         0.106214         0.784402   \n",
       "vehicle_3         0.437214   0.221585         0.014000         0.106874   \n",
       "vehicle_4         1.000000   0.506810         0.006121         0.046727   \n",
       "vehicle_5         0.506810   1.000000         0.003102         0.023682   \n",
       "cause_vehicle_1   0.006121   0.003102         1.000000         0.131000   \n",
       "cause_vehicle_2   0.046727   0.023682         0.131000         1.000000   \n",
       "cause_vehicle_3   0.423394   0.214580         0.014457         0.110362   \n",
       "cause_vehicle_4   0.963723   0.490537         0.006324         0.048277   \n",
       "cause_vehicle_5   0.515058   0.973664         0.003186         0.024322   \n",
       "\n",
       "                 cause_vehicle_3  cause_vehicle_4  cause_vehicle_5  \n",
       "borough                -0.060542        -0.020158        -0.011348  \n",
       "location                0.000684         0.004604        -0.004841  \n",
       "on_street               0.017426         0.002737        -0.003107  \n",
       "cross_street           -0.052159        -0.022074        -0.013455  \n",
       "off_street             -0.019120        -0.002580         0.002863  \n",
       "total_injured          -0.002388         0.002188         0.001102  \n",
       "total_killed            0.001091         0.000477         0.000240  \n",
       "vehicle_1               0.020624         0.009022         0.004545  \n",
       "vehicle_2               0.132499         0.058050         0.029264  \n",
       "vehicle_3               0.961316         0.448525         0.225067  \n",
       "vehicle_4               0.423394         0.963723         0.515058  \n",
       "vehicle_5               0.214580         0.490537         0.973664  \n",
       "cause_vehicle_1         0.014457         0.006324         0.003186  \n",
       "cause_vehicle_2         0.110362         0.048277         0.024322  \n",
       "cause_vehicle_3         1.000000         0.437440         0.220384  \n",
       "cause_vehicle_4         0.437440         1.000000         0.503805  \n",
       "cause_vehicle_5         0.220384         0.503805         1.000000  "
      ]
     },
     "execution_count": 78,
     "metadata": {},
     "output_type": "execute_result"
    }
   ],
   "source": [
    "cols_with_missing_vals = mvc.columns[mvc.isnull().sum() > 0]\n",
    "missing_corr = mvc[cols_with_missing_vals].isnull().corr()\n",
    "missing_corr"
   ]
  },
  {
   "cell_type": "code",
   "execution_count": 79,
   "metadata": {},
   "outputs": [
    {
     "data": {
      "text/plain": [
       "pandas.core.frame.DataFrame"
      ]
     },
     "execution_count": 79,
     "metadata": {},
     "output_type": "execute_result"
    }
   ],
   "source": [
    "type(missing_corr)"
   ]
  },
  {
   "cell_type": "code",
   "execution_count": 80,
   "metadata": {},
   "outputs": [
    {
     "data": {
      "text/plain": [
       "Index(['borough', 'location', 'on_street', 'cross_street', 'off_street',\n",
       "       'total_injured', 'total_killed', 'vehicle_1', 'vehicle_2', 'vehicle_3',\n",
       "       'vehicle_4', 'vehicle_5', 'cause_vehicle_1', 'cause_vehicle_2',\n",
       "       'cause_vehicle_3', 'cause_vehicle_4', 'cause_vehicle_5'],\n",
       "      dtype='object')"
      ]
     },
     "execution_count": 80,
     "metadata": {},
     "output_type": "execute_result"
    }
   ],
   "source": [
    "cols_with_missing_vals"
   ]
  },
  {
   "cell_type": "code",
   "execution_count": 81,
   "metadata": {},
   "outputs": [
    {
     "data": {
      "text/html": [
       "<div>\n",
       "<style scoped>\n",
       "    .dataframe tbody tr th:only-of-type {\n",
       "        vertical-align: middle;\n",
       "    }\n",
       "\n",
       "    .dataframe tbody tr th {\n",
       "        vertical-align: top;\n",
       "    }\n",
       "\n",
       "    .dataframe thead th {\n",
       "        text-align: right;\n",
       "    }\n",
       "</style>\n",
       "<table border=\"1\" class=\"dataframe\">\n",
       "  <thead>\n",
       "    <tr style=\"text-align: right;\">\n",
       "      <th></th>\n",
       "      <th>borough</th>\n",
       "      <th>location</th>\n",
       "      <th>on_street</th>\n",
       "      <th>cross_street</th>\n",
       "      <th>off_street</th>\n",
       "      <th>total_injured</th>\n",
       "      <th>total_killed</th>\n",
       "      <th>vehicle_1</th>\n",
       "      <th>vehicle_2</th>\n",
       "      <th>vehicle_3</th>\n",
       "      <th>vehicle_4</th>\n",
       "      <th>vehicle_5</th>\n",
       "      <th>cause_vehicle_1</th>\n",
       "      <th>cause_vehicle_2</th>\n",
       "      <th>cause_vehicle_3</th>\n",
       "      <th>cause_vehicle_4</th>\n",
       "      <th>cause_vehicle_5</th>\n",
       "    </tr>\n",
       "  </thead>\n",
       "  <tbody>\n",
       "    <tr>\n",
       "      <th>0</th>\n",
       "      <td>False</td>\n",
       "      <td>False</td>\n",
       "      <td>False</td>\n",
       "      <td>False</td>\n",
       "      <td>True</td>\n",
       "      <td>False</td>\n",
       "      <td>False</td>\n",
       "      <td>False</td>\n",
       "      <td>True</td>\n",
       "      <td>True</td>\n",
       "      <td>True</td>\n",
       "      <td>True</td>\n",
       "      <td>False</td>\n",
       "      <td>False</td>\n",
       "      <td>True</td>\n",
       "      <td>True</td>\n",
       "      <td>True</td>\n",
       "    </tr>\n",
       "    <tr>\n",
       "      <th>1</th>\n",
       "      <td>False</td>\n",
       "      <td>False</td>\n",
       "      <td>False</td>\n",
       "      <td>False</td>\n",
       "      <td>True</td>\n",
       "      <td>False</td>\n",
       "      <td>False</td>\n",
       "      <td>False</td>\n",
       "      <td>False</td>\n",
       "      <td>True</td>\n",
       "      <td>True</td>\n",
       "      <td>True</td>\n",
       "      <td>False</td>\n",
       "      <td>False</td>\n",
       "      <td>True</td>\n",
       "      <td>True</td>\n",
       "      <td>True</td>\n",
       "    </tr>\n",
       "    <tr>\n",
       "      <th>2</th>\n",
       "      <td>True</td>\n",
       "      <td>False</td>\n",
       "      <td>False</td>\n",
       "      <td>True</td>\n",
       "      <td>True</td>\n",
       "      <td>False</td>\n",
       "      <td>False</td>\n",
       "      <td>False</td>\n",
       "      <td>False</td>\n",
       "      <td>True</td>\n",
       "      <td>True</td>\n",
       "      <td>True</td>\n",
       "      <td>False</td>\n",
       "      <td>False</td>\n",
       "      <td>True</td>\n",
       "      <td>True</td>\n",
       "      <td>True</td>\n",
       "    </tr>\n",
       "    <tr>\n",
       "      <th>3</th>\n",
       "      <td>False</td>\n",
       "      <td>False</td>\n",
       "      <td>False</td>\n",
       "      <td>False</td>\n",
       "      <td>True</td>\n",
       "      <td>False</td>\n",
       "      <td>False</td>\n",
       "      <td>False</td>\n",
       "      <td>False</td>\n",
       "      <td>True</td>\n",
       "      <td>True</td>\n",
       "      <td>True</td>\n",
       "      <td>False</td>\n",
       "      <td>False</td>\n",
       "      <td>True</td>\n",
       "      <td>True</td>\n",
       "      <td>True</td>\n",
       "    </tr>\n",
       "    <tr>\n",
       "      <th>4</th>\n",
       "      <td>False</td>\n",
       "      <td>False</td>\n",
       "      <td>True</td>\n",
       "      <td>True</td>\n",
       "      <td>False</td>\n",
       "      <td>False</td>\n",
       "      <td>False</td>\n",
       "      <td>False</td>\n",
       "      <td>False</td>\n",
       "      <td>True</td>\n",
       "      <td>True</td>\n",
       "      <td>True</td>\n",
       "      <td>False</td>\n",
       "      <td>False</td>\n",
       "      <td>True</td>\n",
       "      <td>True</td>\n",
       "      <td>True</td>\n",
       "    </tr>\n",
       "    <tr>\n",
       "      <th>...</th>\n",
       "      <td>...</td>\n",
       "      <td>...</td>\n",
       "      <td>...</td>\n",
       "      <td>...</td>\n",
       "      <td>...</td>\n",
       "      <td>...</td>\n",
       "      <td>...</td>\n",
       "      <td>...</td>\n",
       "      <td>...</td>\n",
       "      <td>...</td>\n",
       "      <td>...</td>\n",
       "      <td>...</td>\n",
       "      <td>...</td>\n",
       "      <td>...</td>\n",
       "      <td>...</td>\n",
       "      <td>...</td>\n",
       "      <td>...</td>\n",
       "    </tr>\n",
       "    <tr>\n",
       "      <th>57859</th>\n",
       "      <td>False</td>\n",
       "      <td>False</td>\n",
       "      <td>False</td>\n",
       "      <td>False</td>\n",
       "      <td>True</td>\n",
       "      <td>False</td>\n",
       "      <td>False</td>\n",
       "      <td>False</td>\n",
       "      <td>True</td>\n",
       "      <td>True</td>\n",
       "      <td>True</td>\n",
       "      <td>True</td>\n",
       "      <td>False</td>\n",
       "      <td>True</td>\n",
       "      <td>True</td>\n",
       "      <td>True</td>\n",
       "      <td>True</td>\n",
       "    </tr>\n",
       "    <tr>\n",
       "      <th>57860</th>\n",
       "      <td>False</td>\n",
       "      <td>False</td>\n",
       "      <td>False</td>\n",
       "      <td>False</td>\n",
       "      <td>True</td>\n",
       "      <td>False</td>\n",
       "      <td>False</td>\n",
       "      <td>False</td>\n",
       "      <td>False</td>\n",
       "      <td>True</td>\n",
       "      <td>True</td>\n",
       "      <td>True</td>\n",
       "      <td>False</td>\n",
       "      <td>False</td>\n",
       "      <td>True</td>\n",
       "      <td>True</td>\n",
       "      <td>True</td>\n",
       "    </tr>\n",
       "    <tr>\n",
       "      <th>57861</th>\n",
       "      <td>True</td>\n",
       "      <td>False</td>\n",
       "      <td>False</td>\n",
       "      <td>True</td>\n",
       "      <td>True</td>\n",
       "      <td>False</td>\n",
       "      <td>False</td>\n",
       "      <td>False</td>\n",
       "      <td>False</td>\n",
       "      <td>True</td>\n",
       "      <td>True</td>\n",
       "      <td>True</td>\n",
       "      <td>False</td>\n",
       "      <td>False</td>\n",
       "      <td>True</td>\n",
       "      <td>True</td>\n",
       "      <td>True</td>\n",
       "    </tr>\n",
       "    <tr>\n",
       "      <th>57862</th>\n",
       "      <td>True</td>\n",
       "      <td>False</td>\n",
       "      <td>False</td>\n",
       "      <td>True</td>\n",
       "      <td>True</td>\n",
       "      <td>False</td>\n",
       "      <td>False</td>\n",
       "      <td>False</td>\n",
       "      <td>False</td>\n",
       "      <td>False</td>\n",
       "      <td>True</td>\n",
       "      <td>True</td>\n",
       "      <td>False</td>\n",
       "      <td>False</td>\n",
       "      <td>False</td>\n",
       "      <td>True</td>\n",
       "      <td>True</td>\n",
       "    </tr>\n",
       "    <tr>\n",
       "      <th>57863</th>\n",
       "      <td>True</td>\n",
       "      <td>False</td>\n",
       "      <td>False</td>\n",
       "      <td>True</td>\n",
       "      <td>True</td>\n",
       "      <td>False</td>\n",
       "      <td>False</td>\n",
       "      <td>False</td>\n",
       "      <td>False</td>\n",
       "      <td>True</td>\n",
       "      <td>True</td>\n",
       "      <td>True</td>\n",
       "      <td>False</td>\n",
       "      <td>False</td>\n",
       "      <td>True</td>\n",
       "      <td>True</td>\n",
       "      <td>True</td>\n",
       "    </tr>\n",
       "  </tbody>\n",
       "</table>\n",
       "<p>57864 rows × 17 columns</p>\n",
       "</div>"
      ],
      "text/plain": [
       "       borough  location  on_street  cross_street  off_street  total_injured  \\\n",
       "0        False     False      False         False        True          False   \n",
       "1        False     False      False         False        True          False   \n",
       "2         True     False      False          True        True          False   \n",
       "3        False     False      False         False        True          False   \n",
       "4        False     False       True          True       False          False   \n",
       "...        ...       ...        ...           ...         ...            ...   \n",
       "57859    False     False      False         False        True          False   \n",
       "57860    False     False      False         False        True          False   \n",
       "57861     True     False      False          True        True          False   \n",
       "57862     True     False      False          True        True          False   \n",
       "57863     True     False      False          True        True          False   \n",
       "\n",
       "       total_killed  vehicle_1  vehicle_2  vehicle_3  vehicle_4  vehicle_5  \\\n",
       "0             False      False       True       True       True       True   \n",
       "1             False      False      False       True       True       True   \n",
       "2             False      False      False       True       True       True   \n",
       "3             False      False      False       True       True       True   \n",
       "4             False      False      False       True       True       True   \n",
       "...             ...        ...        ...        ...        ...        ...   \n",
       "57859         False      False       True       True       True       True   \n",
       "57860         False      False      False       True       True       True   \n",
       "57861         False      False      False       True       True       True   \n",
       "57862         False      False      False      False       True       True   \n",
       "57863         False      False      False       True       True       True   \n",
       "\n",
       "       cause_vehicle_1  cause_vehicle_2  cause_vehicle_3  cause_vehicle_4  \\\n",
       "0                False            False             True             True   \n",
       "1                False            False             True             True   \n",
       "2                False            False             True             True   \n",
       "3                False            False             True             True   \n",
       "4                False            False             True             True   \n",
       "...                ...              ...              ...              ...   \n",
       "57859            False             True             True             True   \n",
       "57860            False            False             True             True   \n",
       "57861            False            False             True             True   \n",
       "57862            False            False            False             True   \n",
       "57863            False            False             True             True   \n",
       "\n",
       "       cause_vehicle_5  \n",
       "0                 True  \n",
       "1                 True  \n",
       "2                 True  \n",
       "3                 True  \n",
       "4                 True  \n",
       "...                ...  \n",
       "57859             True  \n",
       "57860             True  \n",
       "57861             True  \n",
       "57862             True  \n",
       "57863             True  \n",
       "\n",
       "[57864 rows x 17 columns]"
      ]
     },
     "execution_count": 81,
     "metadata": {},
     "output_type": "execute_result"
    }
   ],
   "source": [
    "mvc[cols_with_missing_vals].isnull()"
   ]
  },
  {
   "cell_type": "markdown",
   "metadata": {},
   "source": [
    "Vemos la correlacion entre las 10 últimas columnas, las que tienen vehicle de una manera mucho menos sobrecargada"
   ]
  },
  {
   "cell_type": "code",
   "execution_count": 82,
   "metadata": {},
   "outputs": [],
   "source": [
    "def plot_null_correlations(df):\n",
    "    # create a correlation matrix only for columns with at least\n",
    "    # one missing value\n",
    "    cols_with_missing_vals = df.columns[df.isnull().sum() > 0]\n",
    "    missing_corr = df[cols_with_missing_vals].isnull().corr()\n",
    "    \n",
    "    # create a mask to avoid repeated values and make\n",
    "    # the plot easier to read\n",
    "    missing_corr = missing_corr.iloc[1:, :-1]\n",
    "    mask = np.triu(np.ones_like(missing_corr), k=1)\n",
    "    \n",
    "    # plot a heatmap of the values\n",
    "    plt.figure(figsize=(20,14))\n",
    "    ax = sns.heatmap(missing_corr, vmin=-1, vmax=1, cbar=False,\n",
    "                     cmap='RdBu', mask=mask, annot=True)\n",
    "    \n",
    "    # format the text in the plot to make it easier to read\n",
    "    for text in ax.texts:\n",
    "        t = float(text.get_text())\n",
    "        if -0.05 < t < 0.01:\n",
    "            text.set_text('')\n",
    "        else:\n",
    "            text.set_text(round(t, 2))\n",
    "        text.set_fontsize('x-large')\n",
    "    plt.xticks(rotation=90, size='x-large')\n",
    "    plt.yticks(rotation=0, size='x-large')\n",
    "\n",
    "    plt.show()    \n"
   ]
  },
  {
   "cell_type": "code",
   "execution_count": 83,
   "metadata": {
    "scrolled": true
   },
   "outputs": [
    {
     "data": {
      "image/png": "[encoded data removed]",
      "text/plain": [
       "<Figure size 1440x1008 with 1 Axes>"
      ]
     },
     "metadata": {
      "needs_background": "light"
     },
     "output_type": "display_data"
    }
   ],
   "source": [
    "veh_cols = [col for col in mvc.columns if 'vehicle' in col]\n",
    "\n",
    "plot_null_correlations(mvc[veh_cols])"
   ]
  },
  {
   "cell_type": "markdown",
   "metadata": {},
   "source": [
    "#### Analizando lo que hace la función\n",
    "Selecciona lo que tiene valores nulos"
   ]
  },
  {
   "cell_type": "code",
   "execution_count": 84,
   "metadata": {},
   "outputs": [
    {
     "data": {
      "text/plain": [
       "Index(['vehicle_1', 'vehicle_2', 'vehicle_3', 'vehicle_4', 'vehicle_5',\n",
       "       'cause_vehicle_1', 'cause_vehicle_2', 'cause_vehicle_3',\n",
       "       'cause_vehicle_4', 'cause_vehicle_5'],\n",
       "      dtype='object')"
      ]
     },
     "execution_count": 84,
     "metadata": {},
     "output_type": "execute_result"
    }
   ],
   "source": [
    "cols_with_missing_vals =  mvc[veh_cols].columns[ mvc[veh_cols].isnull().sum() > 0]\n",
    "cols_with_missing_vals"
   ]
  },
  {
   "cell_type": "markdown",
   "metadata": {},
   "source": [
    "Hace la correlación entre columnas en función de sus valores nulos"
   ]
  },
  {
   "cell_type": "code",
   "execution_count": 85,
   "metadata": {},
   "outputs": [
    {
     "data": {
      "text/html": [
       "<div>\n",
       "<style scoped>\n",
       "    .dataframe tbody tr th:only-of-type {\n",
       "        vertical-align: middle;\n",
       "    }\n",
       "\n",
       "    .dataframe tbody tr th {\n",
       "        vertical-align: top;\n",
       "    }\n",
       "\n",
       "    .dataframe thead th {\n",
       "        text-align: right;\n",
       "    }\n",
       "</style>\n",
       "<table border=\"1\" class=\"dataframe\">\n",
       "  <thead>\n",
       "    <tr style=\"text-align: right;\">\n",
       "      <th></th>\n",
       "      <th>vehicle_1</th>\n",
       "      <th>vehicle_2</th>\n",
       "      <th>vehicle_3</th>\n",
       "      <th>vehicle_4</th>\n",
       "      <th>vehicle_5</th>\n",
       "      <th>cause_vehicle_1</th>\n",
       "      <th>cause_vehicle_2</th>\n",
       "      <th>cause_vehicle_3</th>\n",
       "      <th>cause_vehicle_4</th>\n",
       "      <th>cause_vehicle_5</th>\n",
       "    </tr>\n",
       "  </thead>\n",
       "  <tbody>\n",
       "    <tr>\n",
       "      <th>vehicle_1</th>\n",
       "      <td>1.000000</td>\n",
       "      <td>0.151516</td>\n",
       "      <td>0.019972</td>\n",
       "      <td>0.008732</td>\n",
       "      <td>0.004425</td>\n",
       "      <td>0.604281</td>\n",
       "      <td>0.180678</td>\n",
       "      <td>0.020624</td>\n",
       "      <td>0.009022</td>\n",
       "      <td>0.004545</td>\n",
       "    </tr>\n",
       "    <tr>\n",
       "      <th>vehicle_2</th>\n",
       "      <td>0.151516</td>\n",
       "      <td>1.000000</td>\n",
       "      <td>0.131813</td>\n",
       "      <td>0.057631</td>\n",
       "      <td>0.029208</td>\n",
       "      <td>0.106214</td>\n",
       "      <td>0.784402</td>\n",
       "      <td>0.132499</td>\n",
       "      <td>0.058050</td>\n",
       "      <td>0.029264</td>\n",
       "    </tr>\n",
       "    <tr>\n",
       "      <th>vehicle_3</th>\n",
       "      <td>0.019972</td>\n",
       "      <td>0.131813</td>\n",
       "      <td>1.000000</td>\n",
       "      <td>0.437214</td>\n",
       "      <td>0.221585</td>\n",
       "      <td>0.014000</td>\n",
       "      <td>0.106874</td>\n",
       "      <td>0.961316</td>\n",
       "      <td>0.448525</td>\n",
       "      <td>0.225067</td>\n",
       "    </tr>\n",
       "    <tr>\n",
       "      <th>vehicle_4</th>\n",
       "      <td>0.008732</td>\n",
       "      <td>0.057631</td>\n",
       "      <td>0.437214</td>\n",
       "      <td>1.000000</td>\n",
       "      <td>0.506810</td>\n",
       "      <td>0.006121</td>\n",
       "      <td>0.046727</td>\n",
       "      <td>0.423394</td>\n",
       "      <td>0.963723</td>\n",
       "      <td>0.515058</td>\n",
       "    </tr>\n",
       "    <tr>\n",
       "      <th>vehicle_5</th>\n",
       "      <td>0.004425</td>\n",
       "      <td>0.029208</td>\n",
       "      <td>0.221585</td>\n",
       "      <td>0.506810</td>\n",
       "      <td>1.000000</td>\n",
       "      <td>0.003102</td>\n",
       "      <td>0.023682</td>\n",
       "      <td>0.214580</td>\n",
       "      <td>0.490537</td>\n",
       "      <td>0.973664</td>\n",
       "    </tr>\n",
       "    <tr>\n",
       "      <th>cause_vehicle_1</th>\n",
       "      <td>0.604281</td>\n",
       "      <td>0.106214</td>\n",
       "      <td>0.014000</td>\n",
       "      <td>0.006121</td>\n",
       "      <td>0.003102</td>\n",
       "      <td>1.000000</td>\n",
       "      <td>0.131000</td>\n",
       "      <td>0.014457</td>\n",
       "      <td>0.006324</td>\n",
       "      <td>0.003186</td>\n",
       "    </tr>\n",
       "    <tr>\n",
       "      <th>cause_vehicle_2</th>\n",
       "      <td>0.180678</td>\n",
       "      <td>0.784402</td>\n",
       "      <td>0.106874</td>\n",
       "      <td>0.046727</td>\n",
       "      <td>0.023682</td>\n",
       "      <td>0.131000</td>\n",
       "      <td>1.000000</td>\n",
       "      <td>0.110362</td>\n",
       "      <td>0.048277</td>\n",
       "      <td>0.024322</td>\n",
       "    </tr>\n",
       "    <tr>\n",
       "      <th>cause_vehicle_3</th>\n",
       "      <td>0.020624</td>\n",
       "      <td>0.132499</td>\n",
       "      <td>0.961316</td>\n",
       "      <td>0.423394</td>\n",
       "      <td>0.214580</td>\n",
       "      <td>0.014457</td>\n",
       "      <td>0.110362</td>\n",
       "      <td>1.000000</td>\n",
       "      <td>0.437440</td>\n",
       "      <td>0.220384</td>\n",
       "    </tr>\n",
       "    <tr>\n",
       "      <th>cause_vehicle_4</th>\n",
       "      <td>0.009022</td>\n",
       "      <td>0.058050</td>\n",
       "      <td>0.448525</td>\n",
       "      <td>0.963723</td>\n",
       "      <td>0.490537</td>\n",
       "      <td>0.006324</td>\n",
       "      <td>0.048277</td>\n",
       "      <td>0.437440</td>\n",
       "      <td>1.000000</td>\n",
       "      <td>0.503805</td>\n",
       "    </tr>\n",
       "    <tr>\n",
       "      <th>cause_vehicle_5</th>\n",
       "      <td>0.004545</td>\n",
       "      <td>0.029264</td>\n",
       "      <td>0.225067</td>\n",
       "      <td>0.515058</td>\n",
       "      <td>0.973664</td>\n",
       "      <td>0.003186</td>\n",
       "      <td>0.024322</td>\n",
       "      <td>0.220384</td>\n",
       "      <td>0.503805</td>\n",
       "      <td>1.000000</td>\n",
       "    </tr>\n",
       "  </tbody>\n",
       "</table>\n",
       "</div>"
      ],
      "text/plain": [
       "                 vehicle_1  vehicle_2  vehicle_3  vehicle_4  vehicle_5  \\\n",
       "vehicle_1         1.000000   0.151516   0.019972   0.008732   0.004425   \n",
       "vehicle_2         0.151516   1.000000   0.131813   0.057631   0.029208   \n",
       "vehicle_3         0.019972   0.131813   1.000000   0.437214   0.221585   \n",
       "vehicle_4         0.008732   0.057631   0.437214   1.000000   0.506810   \n",
       "vehicle_5         0.004425   0.029208   0.221585   0.506810   1.000000   \n",
       "cause_vehicle_1   0.604281   0.106214   0.014000   0.006121   0.003102   \n",
       "cause_vehicle_2   0.180678   0.784402   0.106874   0.046727   0.023682   \n",
       "cause_vehicle_3   0.020624   0.132499   0.961316   0.423394   0.214580   \n",
       "cause_vehicle_4   0.009022   0.058050   0.448525   0.963723   0.490537   \n",
       "cause_vehicle_5   0.004545   0.029264   0.225067   0.515058   0.973664   \n",
       "\n",
       "                 cause_vehicle_1  cause_vehicle_2  cause_vehicle_3  \\\n",
       "vehicle_1               0.604281         0.180678         0.020624   \n",
       "vehicle_2               0.106214         0.784402         0.132499   \n",
       "vehicle_3               0.014000         0.106874         0.961316   \n",
       "vehicle_4               0.006121         0.046727         0.423394   \n",
       "vehicle_5               0.003102         0.023682         0.214580   \n",
       "cause_vehicle_1         1.000000         0.131000         0.014457   \n",
       "cause_vehicle_2         0.131000         1.000000         0.110362   \n",
       "cause_vehicle_3         0.014457         0.110362         1.000000   \n",
       "cause_vehicle_4         0.006324         0.048277         0.437440   \n",
       "cause_vehicle_5         0.003186         0.024322         0.220384   \n",
       "\n",
       "                 cause_vehicle_4  cause_vehicle_5  \n",
       "vehicle_1               0.009022         0.004545  \n",
       "vehicle_2               0.058050         0.029264  \n",
       "vehicle_3               0.448525         0.225067  \n",
       "vehicle_4               0.963723         0.515058  \n",
       "vehicle_5               0.490537         0.973664  \n",
       "cause_vehicle_1         0.006324         0.003186  \n",
       "cause_vehicle_2         0.048277         0.024322  \n",
       "cause_vehicle_3         0.437440         0.220384  \n",
       "cause_vehicle_4         1.000000         0.503805  \n",
       "cause_vehicle_5         0.503805         1.000000  "
      ]
     },
     "execution_count": 85,
     "metadata": {},
     "output_type": "execute_result"
    }
   ],
   "source": [
    "missing_corr =  mvc[veh_cols][cols_with_missing_vals].isnull().corr()\n",
    "missing_corr"
   ]
  },
  {
   "cell_type": "markdown",
   "metadata": {},
   "source": [
    "Elimina la primera fila y la última columna de la matriz de correlación"
   ]
  },
  {
   "cell_type": "code",
   "execution_count": 86,
   "metadata": {},
   "outputs": [
    {
     "data": {
      "text/html": [
       "<div>\n",
       "<style scoped>\n",
       "    .dataframe tbody tr th:only-of-type {\n",
       "        vertical-align: middle;\n",
       "    }\n",
       "\n",
       "    .dataframe tbody tr th {\n",
       "        vertical-align: top;\n",
       "    }\n",
       "\n",
       "    .dataframe thead th {\n",
       "        text-align: right;\n",
       "    }\n",
       "</style>\n",
       "<table border=\"1\" class=\"dataframe\">\n",
       "  <thead>\n",
       "    <tr style=\"text-align: right;\">\n",
       "      <th></th>\n",
       "      <th>vehicle_1</th>\n",
       "      <th>vehicle_2</th>\n",
       "      <th>vehicle_3</th>\n",
       "      <th>vehicle_4</th>\n",
       "      <th>vehicle_5</th>\n",
       "      <th>cause_vehicle_1</th>\n",
       "      <th>cause_vehicle_2</th>\n",
       "      <th>cause_vehicle_3</th>\n",
       "      <th>cause_vehicle_4</th>\n",
       "    </tr>\n",
       "  </thead>\n",
       "  <tbody>\n",
       "    <tr>\n",
       "      <th>vehicle_2</th>\n",
       "      <td>0.151516</td>\n",
       "      <td>1.000000</td>\n",
       "      <td>0.131813</td>\n",
       "      <td>0.057631</td>\n",
       "      <td>0.029208</td>\n",
       "      <td>0.106214</td>\n",
       "      <td>0.784402</td>\n",
       "      <td>0.132499</td>\n",
       "      <td>0.058050</td>\n",
       "    </tr>\n",
       "    <tr>\n",
       "      <th>vehicle_3</th>\n",
       "      <td>0.019972</td>\n",
       "      <td>0.131813</td>\n",
       "      <td>1.000000</td>\n",
       "      <td>0.437214</td>\n",
       "      <td>0.221585</td>\n",
       "      <td>0.014000</td>\n",
       "      <td>0.106874</td>\n",
       "      <td>0.961316</td>\n",
       "      <td>0.448525</td>\n",
       "    </tr>\n",
       "    <tr>\n",
       "      <th>vehicle_4</th>\n",
       "      <td>0.008732</td>\n",
       "      <td>0.057631</td>\n",
       "      <td>0.437214</td>\n",
       "      <td>1.000000</td>\n",
       "      <td>0.506810</td>\n",
       "      <td>0.006121</td>\n",
       "      <td>0.046727</td>\n",
       "      <td>0.423394</td>\n",
       "      <td>0.963723</td>\n",
       "    </tr>\n",
       "    <tr>\n",
       "      <th>vehicle_5</th>\n",
       "      <td>0.004425</td>\n",
       "      <td>0.029208</td>\n",
       "      <td>0.221585</td>\n",
       "      <td>0.506810</td>\n",
       "      <td>1.000000</td>\n",
       "      <td>0.003102</td>\n",
       "      <td>0.023682</td>\n",
       "      <td>0.214580</td>\n",
       "      <td>0.490537</td>\n",
       "    </tr>\n",
       "    <tr>\n",
       "      <th>cause_vehicle_1</th>\n",
       "      <td>0.604281</td>\n",
       "      <td>0.106214</td>\n",
       "      <td>0.014000</td>\n",
       "      <td>0.006121</td>\n",
       "      <td>0.003102</td>\n",
       "      <td>1.000000</td>\n",
       "      <td>0.131000</td>\n",
       "      <td>0.014457</td>\n",
       "      <td>0.006324</td>\n",
       "    </tr>\n",
       "    <tr>\n",
       "      <th>cause_vehicle_2</th>\n",
       "      <td>0.180678</td>\n",
       "      <td>0.784402</td>\n",
       "      <td>0.106874</td>\n",
       "      <td>0.046727</td>\n",
       "      <td>0.023682</td>\n",
       "      <td>0.131000</td>\n",
       "      <td>1.000000</td>\n",
       "      <td>0.110362</td>\n",
       "      <td>0.048277</td>\n",
       "    </tr>\n",
       "    <tr>\n",
       "      <th>cause_vehicle_3</th>\n",
       "      <td>0.020624</td>\n",
       "      <td>0.132499</td>\n",
       "      <td>0.961316</td>\n",
       "      <td>0.423394</td>\n",
       "      <td>0.214580</td>\n",
       "      <td>0.014457</td>\n",
       "      <td>0.110362</td>\n",
       "      <td>1.000000</td>\n",
       "      <td>0.437440</td>\n",
       "    </tr>\n",
       "    <tr>\n",
       "      <th>cause_vehicle_4</th>\n",
       "      <td>0.009022</td>\n",
       "      <td>0.058050</td>\n",
       "      <td>0.448525</td>\n",
       "      <td>0.963723</td>\n",
       "      <td>0.490537</td>\n",
       "      <td>0.006324</td>\n",
       "      <td>0.048277</td>\n",
       "      <td>0.437440</td>\n",
       "      <td>1.000000</td>\n",
       "    </tr>\n",
       "    <tr>\n",
       "      <th>cause_vehicle_5</th>\n",
       "      <td>0.004545</td>\n",
       "      <td>0.029264</td>\n",
       "      <td>0.225067</td>\n",
       "      <td>0.515058</td>\n",
       "      <td>0.973664</td>\n",
       "      <td>0.003186</td>\n",
       "      <td>0.024322</td>\n",
       "      <td>0.220384</td>\n",
       "      <td>0.503805</td>\n",
       "    </tr>\n",
       "  </tbody>\n",
       "</table>\n",
       "</div>"
      ],
      "text/plain": [
       "                 vehicle_1  vehicle_2  vehicle_3  vehicle_4  vehicle_5  \\\n",
       "vehicle_2         0.151516   1.000000   0.131813   0.057631   0.029208   \n",
       "vehicle_3         0.019972   0.131813   1.000000   0.437214   0.221585   \n",
       "vehicle_4         0.008732   0.057631   0.437214   1.000000   0.506810   \n",
       "vehicle_5         0.004425   0.029208   0.221585   0.506810   1.000000   \n",
       "cause_vehicle_1   0.604281   0.106214   0.014000   0.006121   0.003102   \n",
       "cause_vehicle_2   0.180678   0.784402   0.106874   0.046727   0.023682   \n",
       "cause_vehicle_3   0.020624   0.132499   0.961316   0.423394   0.214580   \n",
       "cause_vehicle_4   0.009022   0.058050   0.448525   0.963723   0.490537   \n",
       "cause_vehicle_5   0.004545   0.029264   0.225067   0.515058   0.973664   \n",
       "\n",
       "                 cause_vehicle_1  cause_vehicle_2  cause_vehicle_3  \\\n",
       "vehicle_2               0.106214         0.784402         0.132499   \n",
       "vehicle_3               0.014000         0.106874         0.961316   \n",
       "vehicle_4               0.006121         0.046727         0.423394   \n",
       "vehicle_5               0.003102         0.023682         0.214580   \n",
       "cause_vehicle_1         1.000000         0.131000         0.014457   \n",
       "cause_vehicle_2         0.131000         1.000000         0.110362   \n",
       "cause_vehicle_3         0.014457         0.110362         1.000000   \n",
       "cause_vehicle_4         0.006324         0.048277         0.437440   \n",
       "cause_vehicle_5         0.003186         0.024322         0.220384   \n",
       "\n",
       "                 cause_vehicle_4  \n",
       "vehicle_2               0.058050  \n",
       "vehicle_3               0.448525  \n",
       "vehicle_4               0.963723  \n",
       "vehicle_5               0.490537  \n",
       "cause_vehicle_1         0.006324  \n",
       "cause_vehicle_2         0.048277  \n",
       "cause_vehicle_3         0.437440  \n",
       "cause_vehicle_4         1.000000  \n",
       "cause_vehicle_5         0.503805  "
      ]
     },
     "execution_count": 86,
     "metadata": {},
     "output_type": "execute_result"
    }
   ],
   "source": [
    "missing_corr = missing_corr.iloc[1:, :-1]\n",
    "missing_corr"
   ]
  },
  {
   "cell_type": "markdown",
   "metadata": {},
   "source": [
    "Hace una máscara para aplicar el heatmap después sobre solo el triángulo inferior de la matriz, quitando la diagonal.\n",
    "En seaborn la mask del heatmap no devuelve donde la mask sea True."
   ]
  },
  {
   "cell_type": "code",
   "execution_count": 87,
   "metadata": {},
   "outputs": [
    {
     "data": {
      "text/plain": [
       "array([[0., 1., 1., 1., 1., 1., 1., 1., 1.],\n",
       "       [0., 0., 1., 1., 1., 1., 1., 1., 1.],\n",
       "       [0., 0., 0., 1., 1., 1., 1., 1., 1.],\n",
       "       [0., 0., 0., 0., 1., 1., 1., 1., 1.],\n",
       "       [0., 0., 0., 0., 0., 1., 1., 1., 1.],\n",
       "       [0., 0., 0., 0., 0., 0., 1., 1., 1.],\n",
       "       [0., 0., 0., 0., 0., 0., 0., 1., 1.],\n",
       "       [0., 0., 0., 0., 0., 0., 0., 0., 1.],\n",
       "       [0., 0., 0., 0., 0., 0., 0., 0., 0.]])"
      ]
     },
     "execution_count": 87,
     "metadata": {},
     "output_type": "execute_result"
    }
   ],
   "source": [
    "mask = np.triu(np.ones_like(missing_corr), k=1)\n",
    "mask"
   ]
  },
  {
   "cell_type": "code",
   "execution_count": 88,
   "metadata": {},
   "outputs": [
    {
     "data": {
      "text/plain": [
       "array([[1., 1., 1., 1., 1., 1., 1., 1., 1.],\n",
       "       [0., 1., 1., 1., 1., 1., 1., 1., 1.],\n",
       "       [0., 0., 1., 1., 1., 1., 1., 1., 1.],\n",
       "       [0., 0., 0., 1., 1., 1., 1., 1., 1.],\n",
       "       [0., 0., 0., 0., 1., 1., 1., 1., 1.],\n",
       "       [0., 0., 0., 0., 0., 1., 1., 1., 1.],\n",
       "       [0., 0., 0., 0., 0., 0., 1., 1., 1.],\n",
       "       [0., 0., 0., 0., 0., 0., 0., 1., 1.],\n",
       "       [0., 0., 0., 0., 0., 0., 0., 0., 1.]])"
      ]
     },
     "execution_count": 88,
     "metadata": {},
     "output_type": "execute_result"
    }
   ],
   "source": [
    "mask2 = np.triu(np.ones_like(missing_corr), k=0)\n",
    "mask2"
   ]
  },
  {
   "cell_type": "code",
   "execution_count": 89,
   "metadata": {},
   "outputs": [
    {
     "data": {
      "text/plain": [
       "array([[1., 1., 1., 1., 1., 1., 1., 1., 1.],\n",
       "       [1., 1., 1., 1., 1., 1., 1., 1., 1.],\n",
       "       [0., 1., 1., 1., 1., 1., 1., 1., 1.],\n",
       "       [0., 0., 1., 1., 1., 1., 1., 1., 1.],\n",
       "       [0., 0., 0., 1., 1., 1., 1., 1., 1.],\n",
       "       [0., 0., 0., 0., 1., 1., 1., 1., 1.],\n",
       "       [0., 0., 0., 0., 0., 1., 1., 1., 1.],\n",
       "       [0., 0., 0., 0., 0., 0., 1., 1., 1.],\n",
       "       [0., 0., 0., 0., 0., 0., 0., 1., 1.]])"
      ]
     },
     "execution_count": 89,
     "metadata": {},
     "output_type": "execute_result"
    }
   ],
   "source": [
    "mask3 = np.triu(np.ones_like(missing_corr), k=-1)\n",
    "mask3"
   ]
  },
  {
   "cell_type": "markdown",
   "metadata": {},
   "source": [
    "Volviendo al heatmap con las correlaciones se puede ver que lo más correlacionado son los vehículos con sus causas."
   ]
  },
  {
   "cell_type": "markdown",
   "metadata": {},
   "source": [
    "Ahora hacemos una tabla con:\n",
    "\n",
    "- Veces que falta vehiculo 1 pero hay causa de vehiculo 1\n",
    "- Veces que falta causa de vehiculo 1 pero hay vehiculo 1\n",
    "- ..\n",
    "\n",
    "E igual para el resto"
   ]
  },
  {
   "cell_type": "code",
   "execution_count": 90,
   "metadata": {},
   "outputs": [],
   "source": [
    "col_labels = ['v_number', 'vehicle_missing', 'cause_missing']\n",
    "\n",
    "vc_null_data = []\n",
    "\n",
    "for v in range(1,6):\n",
    "    v_col = 'vehicle_{}'.format(v)\n",
    "    c_col = 'cause_vehicle_{}'.format(v)\n",
    "    v_null = (mvc[v_col].isnull() & mvc[c_col].notnull()).sum()\n",
    "    c_null = (mvc[v_col].notnull() & mvc[c_col].isnull()).sum()\n",
    "    vc_null_data.append([v, v_null, c_null])\n",
    "    \n",
    "vc_null_df = pd.DataFrame(vc_null_data, columns = col_labels)\n",
    "    "
   ]
  },
  {
   "cell_type": "code",
   "execution_count": 91,
   "metadata": {},
   "outputs": [
    {
     "data": {
      "text/html": [
       "<div>\n",
       "<style scoped>\n",
       "    .dataframe tbody tr th:only-of-type {\n",
       "        vertical-align: middle;\n",
       "    }\n",
       "\n",
       "    .dataframe tbody tr th {\n",
       "        vertical-align: top;\n",
       "    }\n",
       "\n",
       "    .dataframe thead th {\n",
       "        text-align: right;\n",
       "    }\n",
       "</style>\n",
       "<table border=\"1\" class=\"dataframe\">\n",
       "  <thead>\n",
       "    <tr style=\"text-align: right;\">\n",
       "      <th></th>\n",
       "      <th>v_number</th>\n",
       "      <th>vehicle_missing</th>\n",
       "      <th>cause_missing</th>\n",
       "    </tr>\n",
       "  </thead>\n",
       "  <tbody>\n",
       "    <tr>\n",
       "      <th>0</th>\n",
       "      <td>1</td>\n",
       "      <td>204</td>\n",
       "      <td>24</td>\n",
       "    </tr>\n",
       "    <tr>\n",
       "      <th>1</th>\n",
       "      <td>2</td>\n",
       "      <td>3793</td>\n",
       "      <td>223</td>\n",
       "    </tr>\n",
       "    <tr>\n",
       "      <th>2</th>\n",
       "      <td>3</td>\n",
       "      <td>242</td>\n",
       "      <td>24</td>\n",
       "    </tr>\n",
       "    <tr>\n",
       "      <th>3</th>\n",
       "      <td>4</td>\n",
       "      <td>50</td>\n",
       "      <td>3</td>\n",
       "    </tr>\n",
       "    <tr>\n",
       "      <th>4</th>\n",
       "      <td>5</td>\n",
       "      <td>10</td>\n",
       "      <td>0</td>\n",
       "    </tr>\n",
       "  </tbody>\n",
       "</table>\n",
       "</div>"
      ],
      "text/plain": [
       "   v_number  vehicle_missing  cause_missing\n",
       "0         1              204             24\n",
       "1         2             3793            223\n",
       "2         3              242             24\n",
       "3         4               50              3\n",
       "4         5               10              0"
      ]
     },
     "execution_count": 91,
     "metadata": {},
     "output_type": "execute_result"
    }
   ],
   "source": [
    "vc_null_df"
   ]
  },
  {
   "cell_type": "markdown",
   "metadata": {},
   "source": [
    "Se ve que hay unos 4000 valores de vehículo que faltan. Esto es algo que no se puede imputar como hemos hehco antes de manera numérica.\n",
    "\n",
    "Para no eliminar tantos valores (10% del total casi) podemos imputarlo con el valor más común.\n",
    "\n",
    "Para ello podemos utiliza rla función **dataframe.stack()** y luego **series.value_counts()** para ver el tipod e vehículo más común en las 5 columnas de vehículo."
   ]
  },
  {
   "cell_type": "markdown",
   "metadata": {},
   "source": [
    "![title](imagenes/stack_1.png)"
   ]
  },
  {
   "cell_type": "markdown",
   "metadata": {},
   "source": [
    "![title](imagenes/stack_2.png)"
   ]
  },
  {
   "cell_type": "code",
   "execution_count": 92,
   "metadata": {},
   "outputs": [
    {
     "data": {
      "text/plain": [
       "0      vehicle_1                      PASSENGER VEHICLE\n",
       "1      vehicle_1          SPORT UTILITY / STATION WAGON\n",
       "       vehicle_2                                     DS\n",
       "2      vehicle_1    Station Wagon/Sport Utility Vehicle\n",
       "       vehicle_2                                  Sedan\n",
       "                                   ...                 \n",
       "57862  vehicle_1                                  Sedan\n",
       "       vehicle_2                   Tractor Truck Diesel\n",
       "       vehicle_3    Station Wagon/Sport Utility Vehicle\n",
       "57863  vehicle_1                          Pick-up Truck\n",
       "       vehicle_2    Station Wagon/Sport Utility Vehicle\n",
       "Length: 107512, dtype: object"
      ]
     },
     "execution_count": 92,
     "metadata": {},
     "output_type": "execute_result"
    }
   ],
   "source": [
    "v_cols = [c for c in mvc.columns if c.startswith(\"vehicle\")]\n",
    "\n",
    "vehicles = mvc[v_cols]\n",
    "\n",
    "vehicles_1d = vehicles.stack()\n",
    "vehicles_1d\n"
   ]
  },
  {
   "cell_type": "code",
   "execution_count": 93,
   "metadata": {},
   "outputs": [
    {
     "data": {
      "text/plain": [
       "Sedan                                  33133\n",
       "Station Wagon/Sport Utility Vehicle    26124\n",
       "PASSENGER VEHICLE                      16026\n",
       "SPORT UTILITY / STATION WAGON          12356\n",
       "Taxi                                    3482\n",
       "Pick-up Truck                           2373\n",
       "TAXI                                    1892\n",
       "Box Truck                               1659\n",
       "Bike                                    1190\n",
       "Bus                                     1162\n",
       "dtype: int64"
      ]
     },
     "execution_count": 93,
     "metadata": {},
     "output_type": "execute_result"
    }
   ],
   "source": [
    "top10_vehicles = vehicles_1d.value_counts().head(10)\n",
    "\n",
    "top10_vehicles\n"
   ]
  },
  {
   "cell_type": "markdown",
   "metadata": {},
   "source": [
    "Podemos hacer lo mismo con las causas"
   ]
  },
  {
   "cell_type": "code",
   "execution_count": 94,
   "metadata": {},
   "outputs": [
    {
     "data": {
      "text/html": [
       "<div>\n",
       "<style scoped>\n",
       "    .dataframe tbody tr th:only-of-type {\n",
       "        vertical-align: middle;\n",
       "    }\n",
       "\n",
       "    .dataframe tbody tr th {\n",
       "        vertical-align: top;\n",
       "    }\n",
       "\n",
       "    .dataframe thead th {\n",
       "        text-align: right;\n",
       "    }\n",
       "</style>\n",
       "<table border=\"1\" class=\"dataframe\">\n",
       "  <thead>\n",
       "    <tr style=\"text-align: right;\">\n",
       "      <th></th>\n",
       "      <th>cause_vehicle_1</th>\n",
       "      <th>cause_vehicle_2</th>\n",
       "      <th>cause_vehicle_3</th>\n",
       "      <th>cause_vehicle_4</th>\n",
       "      <th>cause_vehicle_5</th>\n",
       "    </tr>\n",
       "  </thead>\n",
       "  <tbody>\n",
       "    <tr>\n",
       "      <th>0</th>\n",
       "      <td>Following Too Closely</td>\n",
       "      <td>Unspecified</td>\n",
       "      <td>NaN</td>\n",
       "      <td>NaN</td>\n",
       "      <td>NaN</td>\n",
       "    </tr>\n",
       "    <tr>\n",
       "      <th>1</th>\n",
       "      <td>Backing Unsafely</td>\n",
       "      <td>Unspecified</td>\n",
       "      <td>NaN</td>\n",
       "      <td>NaN</td>\n",
       "      <td>NaN</td>\n",
       "    </tr>\n",
       "    <tr>\n",
       "      <th>2</th>\n",
       "      <td>Following Too Closely</td>\n",
       "      <td>Unspecified</td>\n",
       "      <td>NaN</td>\n",
       "      <td>NaN</td>\n",
       "      <td>NaN</td>\n",
       "    </tr>\n",
       "    <tr>\n",
       "      <th>3</th>\n",
       "      <td>Glare</td>\n",
       "      <td>Passing Too Closely</td>\n",
       "      <td>NaN</td>\n",
       "      <td>NaN</td>\n",
       "      <td>NaN</td>\n",
       "    </tr>\n",
       "    <tr>\n",
       "      <th>4</th>\n",
       "      <td>Turning Improperly</td>\n",
       "      <td>Unspecified</td>\n",
       "      <td>NaN</td>\n",
       "      <td>NaN</td>\n",
       "      <td>NaN</td>\n",
       "    </tr>\n",
       "  </tbody>\n",
       "</table>\n",
       "</div>"
      ],
      "text/plain": [
       "         cause_vehicle_1      cause_vehicle_2 cause_vehicle_3 cause_vehicle_4  \\\n",
       "0  Following Too Closely          Unspecified             NaN             NaN   \n",
       "1       Backing Unsafely          Unspecified             NaN             NaN   \n",
       "2  Following Too Closely          Unspecified             NaN             NaN   \n",
       "3                  Glare  Passing Too Closely             NaN             NaN   \n",
       "4     Turning Improperly          Unspecified             NaN             NaN   \n",
       "\n",
       "  cause_vehicle_5  \n",
       "0             NaN  \n",
       "1             NaN  \n",
       "2             NaN  \n",
       "3             NaN  \n",
       "4             NaN  "
      ]
     },
     "execution_count": 94,
     "metadata": {},
     "output_type": "execute_result"
    }
   ],
   "source": [
    "cause_cols = [c for c in mvc.columns if \"cause_\" in c]\n",
    "cause = mvc[cause_cols]\n",
    "cause.head()"
   ]
  },
  {
   "cell_type": "code",
   "execution_count": 95,
   "metadata": {},
   "outputs": [
    {
     "data": {
      "text/plain": [
       "0  cause_vehicle_1    Following Too Closely\n",
       "   cause_vehicle_2              Unspecified\n",
       "1  cause_vehicle_1         Backing Unsafely\n",
       "   cause_vehicle_2              Unspecified\n",
       "2  cause_vehicle_1    Following Too Closely\n",
       "dtype: object"
      ]
     },
     "execution_count": 95,
     "metadata": {},
     "output_type": "execute_result"
    }
   ],
   "source": [
    "cause_1d = cause.stack()\n",
    "cause_1d.head()"
   ]
  },
  {
   "cell_type": "code",
   "execution_count": 96,
   "metadata": {},
   "outputs": [
    {
     "data": {
      "text/plain": [
       "Unspecified                       57481\n",
       "Driver Inattention/Distraction    17650\n",
       "Following Too Closely              6567\n",
       "Failure to Yield Right-of-Way      4566\n",
       "Passing or Lane Usage Improper     3260\n",
       "Passing Too Closely                3045\n",
       "Backing Unsafely                   3001\n",
       "Other Vehicular                    2523\n",
       "Unsafe Lane Changing               2372\n",
       "Turning Improperly                 1590\n",
       "dtype: int64"
      ]
     },
     "execution_count": 96,
     "metadata": {},
     "output_type": "execute_result"
    }
   ],
   "source": [
    "cause_counts = cause_1d.value_counts()\n",
    "top10_causes = cause_counts.head(10)\n",
    "top10_causes"
   ]
  },
  {
   "cell_type": "markdown",
   "metadata": {},
   "source": [
    "Ahora imputamos las filas que:\n",
    "\n",
    "- falta vehiculo y hay causa con vehículo 'Unspecified'\n",
    "- falta causa y hay vehículo con causa 'Unspecified'"
   ]
  },
  {
   "cell_type": "code",
   "execution_count": 97,
   "metadata": {},
   "outputs": [],
   "source": [
    "def summarize_missing():\n",
    "    v_missing_data = []\n",
    "\n",
    "    for v in range(1,6):\n",
    "        v_col = 'vehicle_{}'.format(v)\n",
    "        c_col = 'cause_vehicle_{}'.format(v)\n",
    "\n",
    "        v_missing = (mvc[v_col].isnull() & mvc[c_col].notnull()).sum()\n",
    "        c_missing = (mvc[c_col].isnull() & mvc[v_col].notnull()).sum()\n",
    "\n",
    "        v_missing_data.append([v, v_missing, c_missing])\n",
    "\n",
    "    col_labels = columns=[\"vehicle_number\", \"vehicle_missing\", \"cause_missing\"]\n",
    "    return pd.DataFrame(v_missing_data, columns=col_labels)"
   ]
  },
  {
   "cell_type": "code",
   "execution_count": 98,
   "metadata": {},
   "outputs": [
    {
     "data": {
      "text/html": [
       "<div>\n",
       "<style scoped>\n",
       "    .dataframe tbody tr th:only-of-type {\n",
       "        vertical-align: middle;\n",
       "    }\n",
       "\n",
       "    .dataframe tbody tr th {\n",
       "        vertical-align: top;\n",
       "    }\n",
       "\n",
       "    .dataframe thead th {\n",
       "        text-align: right;\n",
       "    }\n",
       "</style>\n",
       "<table border=\"1\" class=\"dataframe\">\n",
       "  <thead>\n",
       "    <tr style=\"text-align: right;\">\n",
       "      <th></th>\n",
       "      <th>vehicle_number</th>\n",
       "      <th>vehicle_missing</th>\n",
       "      <th>cause_missing</th>\n",
       "    </tr>\n",
       "  </thead>\n",
       "  <tbody>\n",
       "    <tr>\n",
       "      <th>0</th>\n",
       "      <td>1</td>\n",
       "      <td>204</td>\n",
       "      <td>24</td>\n",
       "    </tr>\n",
       "    <tr>\n",
       "      <th>1</th>\n",
       "      <td>2</td>\n",
       "      <td>3793</td>\n",
       "      <td>223</td>\n",
       "    </tr>\n",
       "    <tr>\n",
       "      <th>2</th>\n",
       "      <td>3</td>\n",
       "      <td>242</td>\n",
       "      <td>24</td>\n",
       "    </tr>\n",
       "    <tr>\n",
       "      <th>3</th>\n",
       "      <td>4</td>\n",
       "      <td>50</td>\n",
       "      <td>3</td>\n",
       "    </tr>\n",
       "    <tr>\n",
       "      <th>4</th>\n",
       "      <td>5</td>\n",
       "      <td>10</td>\n",
       "      <td>0</td>\n",
       "    </tr>\n",
       "  </tbody>\n",
       "</table>\n",
       "</div>"
      ],
      "text/plain": [
       "   vehicle_number  vehicle_missing  cause_missing\n",
       "0               1              204             24\n",
       "1               2             3793            223\n",
       "2               3              242             24\n",
       "3               4               50              3\n",
       "4               5               10              0"
      ]
     },
     "execution_count": 98,
     "metadata": {},
     "output_type": "execute_result"
    }
   ],
   "source": [
    "summary_before = summarize_missing()\n",
    "summary_before"
   ]
  },
  {
   "cell_type": "code",
   "execution_count": 99,
   "metadata": {},
   "outputs": [],
   "source": [
    "for v in range(1,6):\n",
    "    v_col = 'vehicle_{}'.format(v)\n",
    "    c_col = 'cause_vehicle_{}'.format(v)\n",
    "    \n",
    "    # Se crean las máscaras con las condiciones que digo antes\n",
    "    v_missing_mask = mvc[v_col].isnull() & mvc[c_col].notnull()\n",
    "    c_missing_mask = mvc[v_col].notnull() & mvc[c_col].isnull()\n",
    "    \n",
    "    # se enmascara cada columna de vehículo y cada columna de causa\n",
    "    mvc[v_col] = mvc[v_col].mask(v_missing_mask, 'Unspecified')\n",
    "    \n",
    "    mvc[c_col] = mvc[c_col].mask(c_missing_mask, 'Unspecified')"
   ]
  },
  {
   "cell_type": "code",
   "execution_count": 100,
   "metadata": {},
   "outputs": [
    {
     "data": {
      "text/html": [
       "<div>\n",
       "<style scoped>\n",
       "    .dataframe tbody tr th:only-of-type {\n",
       "        vertical-align: middle;\n",
       "    }\n",
       "\n",
       "    .dataframe tbody tr th {\n",
       "        vertical-align: top;\n",
       "    }\n",
       "\n",
       "    .dataframe thead th {\n",
       "        text-align: right;\n",
       "    }\n",
       "</style>\n",
       "<table border=\"1\" class=\"dataframe\">\n",
       "  <thead>\n",
       "    <tr style=\"text-align: right;\">\n",
       "      <th></th>\n",
       "      <th>vehicle_number</th>\n",
       "      <th>vehicle_missing</th>\n",
       "      <th>cause_missing</th>\n",
       "    </tr>\n",
       "  </thead>\n",
       "  <tbody>\n",
       "    <tr>\n",
       "      <th>0</th>\n",
       "      <td>1</td>\n",
       "      <td>0</td>\n",
       "      <td>0</td>\n",
       "    </tr>\n",
       "    <tr>\n",
       "      <th>1</th>\n",
       "      <td>2</td>\n",
       "      <td>0</td>\n",
       "      <td>0</td>\n",
       "    </tr>\n",
       "    <tr>\n",
       "      <th>2</th>\n",
       "      <td>3</td>\n",
       "      <td>0</td>\n",
       "      <td>0</td>\n",
       "    </tr>\n",
       "    <tr>\n",
       "      <th>3</th>\n",
       "      <td>4</td>\n",
       "      <td>0</td>\n",
       "      <td>0</td>\n",
       "    </tr>\n",
       "    <tr>\n",
       "      <th>4</th>\n",
       "      <td>5</td>\n",
       "      <td>0</td>\n",
       "      <td>0</td>\n",
       "    </tr>\n",
       "  </tbody>\n",
       "</table>\n",
       "</div>"
      ],
      "text/plain": [
       "   vehicle_number  vehicle_missing  cause_missing\n",
       "0               1                0              0\n",
       "1               2                0              0\n",
       "2               3                0              0\n",
       "3               4                0              0\n",
       "4               5                0              0"
      ]
     },
     "execution_count": 100,
     "metadata": {},
     "output_type": "execute_result"
    }
   ],
   "source": [
    "summary_after = summarize_missing()\n",
    "summary_after"
   ]
  },
  {
   "cell_type": "markdown",
   "metadata": {},
   "source": [
    "Ahora vemos la matriz de correlación desués de efectuar nuestros cambios"
   ]
  },
  {
   "cell_type": "code",
   "execution_count": 101,
   "metadata": {},
   "outputs": [
    {
     "data": {
      "image/png": "[encoded data removed]",
      "text/plain": [
       "<Figure size 1440x1008 with 1 Axes>"
      ]
     },
     "metadata": {
      "needs_background": "light"
     },
     "output_type": "display_data"
    }
   ],
   "source": [
    "veh_cols = [c for c in mvc.columns if 'vehicle' in c]\n",
    "plot_null_correlations(mvc[veh_cols])"
   ]
  },
  {
   "cell_type": "markdown",
   "metadata": {},
   "source": [
    "Se puede ver ya la correlación perfecta entre la causa y la existencia de vehículo"
   ]
  },
  {
   "cell_type": "markdown",
   "metadata": {},
   "source": [
    "Ahora nos centramos en el resto de columnas que también tienen entradas con null, como las de la ubicación del accidente"
   ]
  },
  {
   "cell_type": "code",
   "execution_count": 111,
   "metadata": {},
   "outputs": [
    {
     "data": {
      "text/html": [
       "<div>\n",
       "<style scoped>\n",
       "    .dataframe tbody tr th:only-of-type {\n",
       "        vertical-align: middle;\n",
       "    }\n",
       "\n",
       "    .dataframe tbody tr th {\n",
       "        vertical-align: top;\n",
       "    }\n",
       "\n",
       "    .dataframe thead th {\n",
       "        text-align: right;\n",
       "    }\n",
       "</style>\n",
       "<table border=\"1\" class=\"dataframe\">\n",
       "  <thead>\n",
       "    <tr style=\"text-align: right;\">\n",
       "      <th></th>\n",
       "      <th>borough</th>\n",
       "      <th>location</th>\n",
       "      <th>on_street</th>\n",
       "      <th>off_street</th>\n",
       "      <th>cross_street</th>\n",
       "    </tr>\n",
       "  </thead>\n",
       "  <tbody>\n",
       "    <tr>\n",
       "      <th>0</th>\n",
       "      <td>MANHATTAN</td>\n",
       "      <td>(40.742832, -74.00771)</td>\n",
       "      <td>WEST 15 STREET</td>\n",
       "      <td>NaN</td>\n",
       "      <td>10 AVENUE</td>\n",
       "    </tr>\n",
       "    <tr>\n",
       "      <th>1</th>\n",
       "      <td>BROOKLYN</td>\n",
       "      <td>(40.623714, -73.99314)</td>\n",
       "      <td>16 AVENUE</td>\n",
       "      <td>NaN</td>\n",
       "      <td>62 STREET</td>\n",
       "    </tr>\n",
       "    <tr>\n",
       "      <th>2</th>\n",
       "      <td>NaN</td>\n",
       "      <td>(40.591755, -73.9083)</td>\n",
       "      <td>BELT PARKWAY</td>\n",
       "      <td>NaN</td>\n",
       "      <td>NaN</td>\n",
       "    </tr>\n",
       "    <tr>\n",
       "      <th>3</th>\n",
       "      <td>QUEENS</td>\n",
       "      <td>(40.73602, -73.87954)</td>\n",
       "      <td>GRAND AVENUE</td>\n",
       "      <td>NaN</td>\n",
       "      <td>VANLOON STREET</td>\n",
       "    </tr>\n",
       "    <tr>\n",
       "      <th>4</th>\n",
       "      <td>BRONX</td>\n",
       "      <td>(40.884727, -73.89945)</td>\n",
       "      <td>NaN</td>\n",
       "      <td>208       WEST 238 STREET</td>\n",
       "      <td>NaN</td>\n",
       "    </tr>\n",
       "  </tbody>\n",
       "</table>\n",
       "</div>"
      ],
      "text/plain": [
       "     borough                location                         on_street  \\\n",
       "0  MANHATTAN  (40.742832, -74.00771)  WEST 15 STREET                     \n",
       "1   BROOKLYN  (40.623714, -73.99314)  16 AVENUE                          \n",
       "2        NaN   (40.591755, -73.9083)  BELT PARKWAY                       \n",
       "3     QUEENS   (40.73602, -73.87954)  GRAND AVENUE                       \n",
       "4      BRONX  (40.884727, -73.89945)                               NaN   \n",
       "\n",
       "                                 off_street    cross_street  \n",
       "0                                       NaN       10 AVENUE  \n",
       "1                                       NaN       62 STREET  \n",
       "2                                       NaN             NaN  \n",
       "3                                       NaN  VANLOON STREET  \n",
       "4  208       WEST 238 STREET                            NaN  "
      ]
     },
     "execution_count": 111,
     "metadata": {},
     "output_type": "execute_result"
    }
   ],
   "source": [
    "loc_cols = ['borough', 'location', 'on_street', 'off_street', 'cross_street']\n",
    "location_data = mvc[loc_cols]\n",
    "location_data.head()"
   ]
  },
  {
   "cell_type": "code",
   "execution_count": 112,
   "metadata": {},
   "outputs": [
    {
     "name": "stdout",
     "output_type": "stream",
     "text": [
      "borough         20646\n",
      "location         3885\n",
      "on_street       13961\n",
      "off_street      44093\n",
      "cross_street    29249\n",
      "dtype: int64\n"
     ]
    }
   ],
   "source": [
    "print(location_data.isnull().sum())"
   ]
  },
  {
   "cell_type": "code",
   "execution_count": 113,
   "metadata": {},
   "outputs": [
    {
     "data": {
      "image/png": "[encoded data removed]",
      "text/plain": [
       "<Figure size 1440x1008 with 1 Axes>"
      ]
     },
     "metadata": {
      "needs_background": "light"
     },
     "output_type": "display_data"
    }
   ],
   "source": [
    "plot_null_correlations(location_data)"
   ]
  },
  {
   "cell_type": "markdown",
   "metadata": {},
   "source": [
    "Off_street y on_street tienen correlación negativa casi perfecta. Lo que quiere decir que cuando uno es null el otro no."
   ]
  },
  {
   "cell_type": "code",
   "execution_count": 114,
   "metadata": {},
   "outputs": [
    {
     "data": {
      "image/png": "[encoded data removed]",
      "text/plain": [
       "<Figure size 1296x1080 with 1 Axes>"
      ]
     },
     "metadata": {
      "needs_background": "light"
     },
     "output_type": "display_data"
    }
   ],
   "source": [
    "sorted_location_data = location_data.sort_values(loc_cols)\n",
    "plot_null_matrix(sorted_location_data)"
   ]
  },
  {
   "cell_type": "code",
   "execution_count": 115,
   "metadata": {},
   "outputs": [
    {
     "data": {
      "text/html": [
       "<div>\n",
       "<style scoped>\n",
       "    .dataframe tbody tr th:only-of-type {\n",
       "        vertical-align: middle;\n",
       "    }\n",
       "\n",
       "    .dataframe tbody tr th {\n",
       "        vertical-align: top;\n",
       "    }\n",
       "\n",
       "    .dataframe thead th {\n",
       "        text-align: right;\n",
       "    }\n",
       "</style>\n",
       "<table border=\"1\" class=\"dataframe\">\n",
       "  <thead>\n",
       "    <tr style=\"text-align: right;\">\n",
       "      <th></th>\n",
       "      <th>borough</th>\n",
       "      <th>location</th>\n",
       "      <th>on_street</th>\n",
       "      <th>off_street</th>\n",
       "      <th>cross_street</th>\n",
       "    </tr>\n",
       "  </thead>\n",
       "  <tbody>\n",
       "    <tr>\n",
       "      <th>4195</th>\n",
       "      <td>BRONX</td>\n",
       "      <td>(40.543148, -74.147026)</td>\n",
       "      <td>NaN</td>\n",
       "      <td>4278      3 AVENUE</td>\n",
       "      <td>NaN</td>\n",
       "    </tr>\n",
       "    <tr>\n",
       "      <th>28739</th>\n",
       "      <td>BRONX</td>\n",
       "      <td>(40.597343, -74.07097)</td>\n",
       "      <td>EAST 183 STREET</td>\n",
       "      <td>NaN</td>\n",
       "      <td>VALENTINE AVENUE</td>\n",
       "    </tr>\n",
       "    <tr>\n",
       "      <th>1222</th>\n",
       "      <td>BRONX</td>\n",
       "      <td>(40.666126, -73.82518)</td>\n",
       "      <td>JEROME AVENUE</td>\n",
       "      <td>NaN</td>\n",
       "      <td>EAST MOUNT EDEN AVENUE</td>\n",
       "    </tr>\n",
       "    <tr>\n",
       "      <th>51319</th>\n",
       "      <td>BRONX</td>\n",
       "      <td>(40.70715, -73.906586)</td>\n",
       "      <td>NaN</td>\n",
       "      <td>3989      SAXON AVENUE</td>\n",
       "      <td>NaN</td>\n",
       "    </tr>\n",
       "    <tr>\n",
       "      <th>47683</th>\n",
       "      <td>BRONX</td>\n",
       "      <td>(40.71259, -73.81541)</td>\n",
       "      <td>NaN</td>\n",
       "      <td>875       MORRISON AVENUE</td>\n",
       "      <td>NaN</td>\n",
       "    </tr>\n",
       "    <tr>\n",
       "      <th>...</th>\n",
       "      <td>...</td>\n",
       "      <td>...</td>\n",
       "      <td>...</td>\n",
       "      <td>...</td>\n",
       "      <td>...</td>\n",
       "    </tr>\n",
       "    <tr>\n",
       "      <th>54230</th>\n",
       "      <td>NaN</td>\n",
       "      <td>NaN</td>\n",
       "      <td>NaN</td>\n",
       "      <td>NaN</td>\n",
       "      <td>NaN</td>\n",
       "    </tr>\n",
       "    <tr>\n",
       "      <th>54885</th>\n",
       "      <td>NaN</td>\n",
       "      <td>NaN</td>\n",
       "      <td>NaN</td>\n",
       "      <td>NaN</td>\n",
       "      <td>NaN</td>\n",
       "    </tr>\n",
       "    <tr>\n",
       "      <th>55580</th>\n",
       "      <td>NaN</td>\n",
       "      <td>NaN</td>\n",
       "      <td>NaN</td>\n",
       "      <td>NaN</td>\n",
       "      <td>NaN</td>\n",
       "    </tr>\n",
       "    <tr>\n",
       "      <th>56407</th>\n",
       "      <td>NaN</td>\n",
       "      <td>NaN</td>\n",
       "      <td>NaN</td>\n",
       "      <td>NaN</td>\n",
       "      <td>NaN</td>\n",
       "    </tr>\n",
       "    <tr>\n",
       "      <th>57081</th>\n",
       "      <td>NaN</td>\n",
       "      <td>NaN</td>\n",
       "      <td>NaN</td>\n",
       "      <td>NaN</td>\n",
       "      <td>NaN</td>\n",
       "    </tr>\n",
       "  </tbody>\n",
       "</table>\n",
       "<p>57864 rows × 5 columns</p>\n",
       "</div>"
      ],
      "text/plain": [
       "      borough                 location                         on_street  \\\n",
       "4195    BRONX  (40.543148, -74.147026)                               NaN   \n",
       "28739   BRONX   (40.597343, -74.07097)  EAST 183 STREET                    \n",
       "1222    BRONX   (40.666126, -73.82518)  JEROME AVENUE                      \n",
       "51319   BRONX   (40.70715, -73.906586)                               NaN   \n",
       "47683   BRONX    (40.71259, -73.81541)                               NaN   \n",
       "...       ...                      ...                               ...   \n",
       "54230     NaN                      NaN                               NaN   \n",
       "54885     NaN                      NaN                               NaN   \n",
       "55580     NaN                      NaN                               NaN   \n",
       "56407     NaN                      NaN                               NaN   \n",
       "57081     NaN                      NaN                               NaN   \n",
       "\n",
       "                                     off_street            cross_street  \n",
       "4195   4278      3 AVENUE                                           NaN  \n",
       "28739                                       NaN        VALENTINE AVENUE  \n",
       "1222                                        NaN  EAST MOUNT EDEN AVENUE  \n",
       "51319  3989      SAXON AVENUE                                       NaN  \n",
       "47683  875       MORRISON AVENUE                                    NaN  \n",
       "...                                         ...                     ...  \n",
       "54230                                       NaN                     NaN  \n",
       "54885                                       NaN                     NaN  \n",
       "55580                                       NaN                     NaN  \n",
       "56407                                       NaN                     NaN  \n",
       "57081                                       NaN                     NaN  \n",
       "\n",
       "[57864 rows x 5 columns]"
      ]
     },
     "execution_count": 115,
     "metadata": {},
     "output_type": "execute_result"
    }
   ],
   "source": [
    "sorted_location_data"
   ]
  },
  {
   "cell_type": "markdown",
   "metadata": {},
   "source": [
    "Un tercio de las filas de borough son  null, y la mayoría de éstas son non-null en location y alguna columna con street.\n",
    "\n",
    "La décima parte de location tienen null, pero no tienen null en columnas con street.\n",
    "\n",
    "La mayoriía de columnas tienen un non-null en alguna street.\n",
    "\n",
    "Se pueden imputar valores que faltan con otras columnas y alguna API de geolocalización."
   ]
  },
  {
   "cell_type": "markdown",
   "metadata": {},
   "source": [
    "### Imputando con datos suplemetarios de API de geoloc"
   ]
  },
  {
   "cell_type": "markdown",
   "metadata": {},
   "source": [
    "Para filas con valores de location pero sin borough ostreet, usamos API GeoPy para mirar las coordenadas de location para encontrar los datos qu faltan.\n",
    "\n",
    "Para filas con valores de street y sin borough y location utilizamos la API para mirar la dirección"
   ]
  },
  {
   "cell_type": "code",
   "execution_count": 118,
   "metadata": {},
   "outputs": [
    {
     "data": {
      "text/html": [
       "<div>\n",
       "<style scoped>\n",
       "    .dataframe tbody tr th:only-of-type {\n",
       "        vertical-align: middle;\n",
       "    }\n",
       "\n",
       "    .dataframe tbody tr th {\n",
       "        vertical-align: top;\n",
       "    }\n",
       "\n",
       "    .dataframe thead th {\n",
       "        text-align: right;\n",
       "    }\n",
       "</style>\n",
       "<table border=\"1\" class=\"dataframe\">\n",
       "  <thead>\n",
       "    <tr style=\"text-align: right;\">\n",
       "      <th></th>\n",
       "      <th>unique_key</th>\n",
       "      <th>location</th>\n",
       "      <th>on_street</th>\n",
       "      <th>off_street</th>\n",
       "      <th>borough</th>\n",
       "    </tr>\n",
       "  </thead>\n",
       "  <tbody>\n",
       "    <tr>\n",
       "      <th>0</th>\n",
       "      <td>3869058</td>\n",
       "      <td>NaN</td>\n",
       "      <td>NaN</td>\n",
       "      <td>NaN</td>\n",
       "      <td>NaN</td>\n",
       "    </tr>\n",
       "    <tr>\n",
       "      <th>1</th>\n",
       "      <td>3847947</td>\n",
       "      <td>NaN</td>\n",
       "      <td>NaN</td>\n",
       "      <td>NaN</td>\n",
       "      <td>NaN</td>\n",
       "    </tr>\n",
       "    <tr>\n",
       "      <th>2</th>\n",
       "      <td>3914294</td>\n",
       "      <td>NaN</td>\n",
       "      <td>BELT PARKWAY</td>\n",
       "      <td>NaN</td>\n",
       "      <td>BROOKLYN</td>\n",
       "    </tr>\n",
       "    <tr>\n",
       "      <th>3</th>\n",
       "      <td>3915069</td>\n",
       "      <td>NaN</td>\n",
       "      <td>NaN</td>\n",
       "      <td>NaN</td>\n",
       "      <td>NaN</td>\n",
       "    </tr>\n",
       "    <tr>\n",
       "      <th>4</th>\n",
       "      <td>3923123</td>\n",
       "      <td>NaN</td>\n",
       "      <td>NaN</td>\n",
       "      <td>NaN</td>\n",
       "      <td>NaN</td>\n",
       "    </tr>\n",
       "    <tr>\n",
       "      <th>5</th>\n",
       "      <td>3987177</td>\n",
       "      <td>NaN</td>\n",
       "      <td>NaN</td>\n",
       "      <td>1115 5TH AVENUE</td>\n",
       "      <td>MANHATTAN</td>\n",
       "    </tr>\n",
       "    <tr>\n",
       "      <th>6</th>\n",
       "      <td>4008417</td>\n",
       "      <td>NaN</td>\n",
       "      <td>NaN</td>\n",
       "      <td>NaN</td>\n",
       "      <td>NaN</td>\n",
       "    </tr>\n",
       "    <tr>\n",
       "      <th>7</th>\n",
       "      <td>3917518</td>\n",
       "      <td>NaN</td>\n",
       "      <td>NaN</td>\n",
       "      <td>806 3RD AVENUE</td>\n",
       "      <td>BROOKLYN</td>\n",
       "    </tr>\n",
       "    <tr>\n",
       "      <th>8</th>\n",
       "      <td>3953286</td>\n",
       "      <td>NaN</td>\n",
       "      <td>NaN</td>\n",
       "      <td>NaN</td>\n",
       "      <td>NaN</td>\n",
       "    </tr>\n",
       "    <tr>\n",
       "      <th>9</th>\n",
       "      <td>3896388</td>\n",
       "      <td>NaN</td>\n",
       "      <td>NaN</td>\n",
       "      <td>NaN</td>\n",
       "      <td>NaN</td>\n",
       "    </tr>\n",
       "    <tr>\n",
       "      <th>10</th>\n",
       "      <td>3837567</td>\n",
       "      <td>NaN</td>\n",
       "      <td>NaN</td>\n",
       "      <td>401 WEST 48TH STREET</td>\n",
       "      <td>MANHATTAN</td>\n",
       "    </tr>\n",
       "    <tr>\n",
       "      <th>11</th>\n",
       "      <td>3833347</td>\n",
       "      <td>NaN</td>\n",
       "      <td>NaN</td>\n",
       "      <td>NaN</td>\n",
       "      <td>NaN</td>\n",
       "    </tr>\n",
       "    <tr>\n",
       "      <th>12</th>\n",
       "      <td>3823082</td>\n",
       "      <td>NaN</td>\n",
       "      <td>NaN</td>\n",
       "      <td>NaN</td>\n",
       "      <td>NaN</td>\n",
       "    </tr>\n",
       "    <tr>\n",
       "      <th>13</th>\n",
       "      <td>3988544</td>\n",
       "      <td>NaN</td>\n",
       "      <td>NaN</td>\n",
       "      <td>NaN</td>\n",
       "      <td>NaN</td>\n",
       "    </tr>\n",
       "    <tr>\n",
       "      <th>14</th>\n",
       "      <td>4033506</td>\n",
       "      <td>NaN</td>\n",
       "      <td>VAN WYCK EXPRESSWAY</td>\n",
       "      <td>NaN</td>\n",
       "      <td>QUEENS</td>\n",
       "    </tr>\n",
       "    <tr>\n",
       "      <th>15</th>\n",
       "      <td>4038831</td>\n",
       "      <td>NaN</td>\n",
       "      <td>NaN</td>\n",
       "      <td>NaN</td>\n",
       "      <td>NaN</td>\n",
       "    </tr>\n",
       "    <tr>\n",
       "      <th>16</th>\n",
       "      <td>4039194</td>\n",
       "      <td>NaN</td>\n",
       "      <td>NaN</td>\n",
       "      <td>156 ATLANTIC AVENUE</td>\n",
       "      <td>BROOKLYN</td>\n",
       "    </tr>\n",
       "    <tr>\n",
       "      <th>17</th>\n",
       "      <td>4016752</td>\n",
       "      <td>NaN</td>\n",
       "      <td>NaN</td>\n",
       "      <td>NaN</td>\n",
       "      <td>NaN</td>\n",
       "    </tr>\n",
       "    <tr>\n",
       "      <th>18</th>\n",
       "      <td>3943171</td>\n",
       "      <td>NaN</td>\n",
       "      <td>NaN</td>\n",
       "      <td>NaN</td>\n",
       "      <td>NaN</td>\n",
       "    </tr>\n",
       "    <tr>\n",
       "      <th>19</th>\n",
       "      <td>3844497</td>\n",
       "      <td>NaN</td>\n",
       "      <td>BELT PARKWAY</td>\n",
       "      <td>NaN</td>\n",
       "      <td>QUEENS</td>\n",
       "    </tr>\n",
       "  </tbody>\n",
       "</table>\n",
       "</div>"
      ],
      "text/plain": [
       "    unique_key location            on_street            off_street    borough\n",
       "0      3869058      NaN                  NaN                   NaN        NaN\n",
       "1      3847947      NaN                  NaN                   NaN        NaN\n",
       "2      3914294      NaN         BELT PARKWAY                   NaN   BROOKLYN\n",
       "3      3915069      NaN                  NaN                   NaN        NaN\n",
       "4      3923123      NaN                  NaN                   NaN        NaN\n",
       "5      3987177      NaN                  NaN       1115 5TH AVENUE  MANHATTAN\n",
       "6      4008417      NaN                  NaN                   NaN        NaN\n",
       "7      3917518      NaN                  NaN        806 3RD AVENUE   BROOKLYN\n",
       "8      3953286      NaN                  NaN                   NaN        NaN\n",
       "9      3896388      NaN                  NaN                   NaN        NaN\n",
       "10     3837567      NaN                  NaN  401 WEST 48TH STREET  MANHATTAN\n",
       "11     3833347      NaN                  NaN                   NaN        NaN\n",
       "12     3823082      NaN                  NaN                   NaN        NaN\n",
       "13     3988544      NaN                  NaN                   NaN        NaN\n",
       "14     4033506      NaN  VAN WYCK EXPRESSWAY                   NaN     QUEENS\n",
       "15     4038831      NaN                  NaN                   NaN        NaN\n",
       "16     4039194      NaN                  NaN   156 ATLANTIC AVENUE   BROOKLYN\n",
       "17     4016752      NaN                  NaN                   NaN        NaN\n",
       "18     3943171      NaN                  NaN                   NaN        NaN\n",
       "19     3844497      NaN         BELT PARKWAY                   NaN     QUEENS"
      ]
     },
     "execution_count": 118,
     "metadata": {},
     "output_type": "execute_result"
    }
   ],
   "source": [
    "sup_data = pd.read_csv('supplemental_data.csv')\n",
    "sup_data.head(20)"
   ]
  },
  {
   "cell_type": "code",
   "execution_count": 119,
   "metadata": {},
   "outputs": [
    {
     "data": {
      "image/png": "[encoded data removed]",
      "text/plain": [
       "<Figure size 1296x1080 with 1 Axes>"
      ]
     },
     "metadata": {
      "needs_background": "light"
     },
     "output_type": "display_data"
    }
   ],
   "source": [
    "plot_null_matrix(sup_data)"
   ]
  },
  {
   "cell_type": "markdown",
   "metadata": {},
   "source": [
    "La unique_key tiene los mismos valores en mvc que en sup_data para poder hacer mascaras bien"
   ]
  },
  {
   "cell_type": "code",
   "execution_count": 120,
   "metadata": {},
   "outputs": [
    {
     "name": "stdout",
     "output_type": "stream",
     "text": [
      "True\n"
     ]
    }
   ],
   "source": [
    "mvc_keys = mvc['unique_key']\n",
    "sup_keys = sup_data['unique_key']\n",
    "\n",
    "is_equal = mvc_keys.equals(sup_keys)\n",
    "print(is_equal)"
   ]
  },
  {
   "cell_type": "code",
   "execution_count": 121,
   "metadata": {},
   "outputs": [],
   "source": [
    "sup_data = pd.read_csv('supplemental_data.csv')\n",
    "\n",
    "location_cols = ['location', 'on_street', 'off_street', 'borough']\n",
    "null_before = mvc[location_cols].isnull().sum()\n",
    "\n",
    "for col in location_cols:\n",
    "    if mvc[col].isnull().sum() > 0:\n",
    "        mvc[col] = mvc[col].mask(mvc[col].isnull(), sup_data[col])\n",
    "        \n",
    "null_after = mvc[location_cols].isnull().sum()"
   ]
  },
  {
   "cell_type": "code",
   "execution_count": 122,
   "metadata": {},
   "outputs": [
    {
     "data": {
      "image/png": "[encoded data removed]",
      "text/plain": [
       "<Figure size 1296x1080 with 1 Axes>"
      ]
     },
     "metadata": {
      "needs_background": "light"
     },
     "output_type": "display_data"
    }
   ],
   "source": [
    "loc_cols = ['borough', 'location', 'on_street', 'off_street', 'cross_street']\n",
    "location_data = mvc[loc_cols]\n",
    "plot_null_matrix(location_data)"
   ]
  },
  {
   "cell_type": "code",
   "execution_count": null,
   "metadata": {},
   "outputs": [],
   "source": []
  }
 ],
 "metadata": {
  "kernelspec": {
   "display_name": "Python 3 (ipykernel)",
   "language": "python",
   "name": "python3"
  },
  "language_info": {
   "codemirror_mode": {
    "name": "ipython",
    "version": 3
   },
   "file_extension": ".py",
   "mimetype": "text/x-python",
   "name": "python",
   "nbconvert_exporter": "python",
   "pygments_lexer": "ipython3",
   "version": "3.9.7"
  }
 },
 "nbformat": 4,
 "nbformat_minor": 4
}
